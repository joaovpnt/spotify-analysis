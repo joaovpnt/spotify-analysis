{
  "nbformat": 4,
  "nbformat_minor": 0,
  "metadata": {
    "colab": {
      "provenance": [],
      "include_colab_link": true
    },
    "kernelspec": {
      "name": "python3",
      "display_name": "Python 3"
    },
    "language_info": {
      "name": "python"
    }
  },
  "cells": [
    {
      "cell_type": "markdown",
      "metadata": {
        "id": "view-in-github",
        "colab_type": "text"
      },
      "source": [
        "<a href=\"https://colab.research.google.com/github/joaovpnt/spotify-analysis/blob/main/Spotify_Analysis.ipynb\" target=\"_parent\"><img src=\"https://colab.research.google.com/assets/colab-badge.svg\" alt=\"Open In Colab\"/></a>"
      ]
    },
    {
      "cell_type": "markdown",
      "source": [
        "# Description:\n",
        "\n",
        "This dataset contains a comprehensive list of the most famous songs of 2023 as listed on Spotify. The dataset offers a wealth of features beyond what is typically available in similar datasets. It provides insights into each song's attributes, popularity, and presence on various music platforms. The dataset includes information such as track name, artist(s) name, release date, Spotify playlists and charts, streaming statistics, Apple Music presence, Deezer presence, Shazam charts, and various audio features."
      ],
      "metadata": {
        "id": "LpXVOFQyJUd4"
      }
    },
    {
      "cell_type": "markdown",
      "source": [
        "# Key Featrues:\n",
        "\n",
        "    track_name: Name of the song\n",
        "    artist(s)_name: Name of the artist(s) of the song\n",
        "    artist_count: Number of artists contributing to the song\n",
        "    released_year: Year when the song was released\n",
        "    released_month: Month when the song was released\n",
        "    released_day: Day of the month when the song was released\n",
        "    in_spotify_playlists: Number of Spotify playlists the song is included in\n",
        "    in_spotify_charts: Presence and rank of the song on Spotify charts\n",
        "    streams: Total number of streams on Spotify\n",
        "    in_apple_playlists: Number of Apple Music playlists the song is included in\n",
        "    in_apple_charts: Presence and rank of the song on Apple Music charts\n",
        "    in_deezer_playlists: Number of Deezer playlists the song is included in\n",
        "    in_deezer_charts: Presence and rank of the song on Deezer charts\n",
        "    in_shazam_charts: Presence and rank of the song on Shazam charts\n",
        "    bpm: Beats per minute, a measure of song tempo\n",
        "    key: Key of the song\n",
        "    mode: Mode of the song (major or minor)\n",
        "    danceability_%: Percentage indicating how suitable the song is for dancing\n",
        "    valence_%: Positivity of the song's musical content\n",
        "    energy_%: Perceived energy level of the song\n",
        "    acousticness_%: Amount of acoustic sound in the song\n",
        "    instrumentalness_%: Amount of instrumental content in the song\n",
        "    liveness_%: Presence of live performance elements\n",
        "    speechiness_%: Amount of spoken words in the song"
      ],
      "metadata": {
        "id": "ipxEs8qNKz7C"
      }
    },
    {
      "cell_type": "markdown",
      "source": [
        "# Potential Use Cases:\n",
        "\n",
        "* Music analysis: Explore patterns in audio features to understand trends and preferences in popular songs.\n",
        "Platform comparison: Compare the song's popularity across different music platforms.\n",
        "* Artist impact: Analyze how artist involvement and attributes relate to a song's success.\n",
        "* Temporal trends: Identify any shifts in music attributes and preferences over time.\n",
        "* Cross-platform presence: Investigate how songs perform across different streaming services."
      ],
      "metadata": {
        "id": "tT9cCDmlLM4V"
      }
    },
    {
      "cell_type": "markdown",
      "source": [
        "# An analysis of the most listened to songs on Spotify in 2023"
      ],
      "metadata": {
        "id": "BF6aEf94LYN0"
      }
    },
    {
      "cell_type": "code",
      "source": [
        "!pip install plotly"
      ],
      "metadata": {
        "colab": {
          "base_uri": "https://localhost:8080/"
        },
        "id": "KF8mQ1K2bsl8",
        "outputId": "8ff492ca-1146-4127-cc3e-5e3f158e7d12"
      },
      "execution_count": 1,
      "outputs": [
        {
          "output_type": "stream",
          "name": "stdout",
          "text": [
            "Requirement already satisfied: plotly in /usr/local/lib/python3.10/dist-packages (5.15.0)\n",
            "Requirement already satisfied: tenacity>=6.2.0 in /usr/local/lib/python3.10/dist-packages (from plotly) (8.2.3)\n",
            "Requirement already satisfied: packaging in /usr/local/lib/python3.10/dist-packages (from plotly) (23.1)\n"
          ]
        }
      ]
    },
    {
      "cell_type": "code",
      "execution_count": 2,
      "metadata": {
        "id": "ynPJ33unJB-n"
      },
      "outputs": [],
      "source": [
        "# Imports\n",
        "\n",
        "import numpy as np # linear algebra\n",
        "import pandas as pd # data processing, CSV file I/O (e.g. pd.read_csv)\n",
        "import matplotlib.pyplot as plt\n",
        "import seaborn as sns\n",
        "import plotly.express as px"
      ]
    },
    {
      "cell_type": "code",
      "source": [
        "# Opening the data\n",
        "\n",
        "url = \"https://raw.githubusercontent.com/joaovpnt/spotify-analysis/main/dataset/spotify-2023.csv\"\n",
        "\n",
        "data = pd.read_csv(url, encoding='ISO-8859-1')\n",
        "data.head()"
      ],
      "metadata": {
        "colab": {
          "base_uri": "https://localhost:8080/",
          "height": 342
        },
        "id": "ykW8It6eMY6L",
        "outputId": "76390340-16af-4379-c18e-0387034ff9f8"
      },
      "execution_count": 3,
      "outputs": [
        {
          "output_type": "execute_result",
          "data": {
            "text/plain": [
              "                            track_name    artist(s)_name  artist_count  \\\n",
              "0  Seven (feat. Latto) (Explicit Ver.)  Latto, Jung Kook             2   \n",
              "1                                 LALA       Myke Towers             1   \n",
              "2                              vampire    Olivia Rodrigo             1   \n",
              "3                         Cruel Summer      Taylor Swift             1   \n",
              "4                       WHERE SHE GOES         Bad Bunny             1   \n",
              "\n",
              "   released_year  released_month  released_day  in_spotify_playlists  \\\n",
              "0           2023               7            14                   553   \n",
              "1           2023               3            23                  1474   \n",
              "2           2023               6            30                  1397   \n",
              "3           2019               8            23                  7858   \n",
              "4           2023               5            18                  3133   \n",
              "\n",
              "   in_spotify_charts    streams  in_apple_playlists  ...  bpm key   mode  \\\n",
              "0                147  141381703                  43  ...  125   B  Major   \n",
              "1                 48  133716286                  48  ...   92  C#  Major   \n",
              "2                113  140003974                  94  ...  138   F  Major   \n",
              "3                100  800840817                 116  ...  170   A  Major   \n",
              "4                 50  303236322                  84  ...  144   A  Minor   \n",
              "\n",
              "  danceability_%  valence_% energy_% acousticness_%  instrumentalness_%  \\\n",
              "0             80         89       83             31                   0   \n",
              "1             71         61       74              7                   0   \n",
              "2             51         32       53             17                   0   \n",
              "3             55         58       72             11                   0   \n",
              "4             65         23       80             14                  63   \n",
              "\n",
              "   liveness_%  speechiness_%  \n",
              "0           8              4  \n",
              "1          10              4  \n",
              "2          31              6  \n",
              "3          11             15  \n",
              "4          11              6  \n",
              "\n",
              "[5 rows x 24 columns]"
            ],
            "text/html": [
              "\n",
              "  <div id=\"df-d93f3f6f-1292-4649-b19c-ce7000ed09ff\" class=\"colab-df-container\">\n",
              "    <div>\n",
              "<style scoped>\n",
              "    .dataframe tbody tr th:only-of-type {\n",
              "        vertical-align: middle;\n",
              "    }\n",
              "\n",
              "    .dataframe tbody tr th {\n",
              "        vertical-align: top;\n",
              "    }\n",
              "\n",
              "    .dataframe thead th {\n",
              "        text-align: right;\n",
              "    }\n",
              "</style>\n",
              "<table border=\"1\" class=\"dataframe\">\n",
              "  <thead>\n",
              "    <tr style=\"text-align: right;\">\n",
              "      <th></th>\n",
              "      <th>track_name</th>\n",
              "      <th>artist(s)_name</th>\n",
              "      <th>artist_count</th>\n",
              "      <th>released_year</th>\n",
              "      <th>released_month</th>\n",
              "      <th>released_day</th>\n",
              "      <th>in_spotify_playlists</th>\n",
              "      <th>in_spotify_charts</th>\n",
              "      <th>streams</th>\n",
              "      <th>in_apple_playlists</th>\n",
              "      <th>...</th>\n",
              "      <th>bpm</th>\n",
              "      <th>key</th>\n",
              "      <th>mode</th>\n",
              "      <th>danceability_%</th>\n",
              "      <th>valence_%</th>\n",
              "      <th>energy_%</th>\n",
              "      <th>acousticness_%</th>\n",
              "      <th>instrumentalness_%</th>\n",
              "      <th>liveness_%</th>\n",
              "      <th>speechiness_%</th>\n",
              "    </tr>\n",
              "  </thead>\n",
              "  <tbody>\n",
              "    <tr>\n",
              "      <th>0</th>\n",
              "      <td>Seven (feat. Latto) (Explicit Ver.)</td>\n",
              "      <td>Latto, Jung Kook</td>\n",
              "      <td>2</td>\n",
              "      <td>2023</td>\n",
              "      <td>7</td>\n",
              "      <td>14</td>\n",
              "      <td>553</td>\n",
              "      <td>147</td>\n",
              "      <td>141381703</td>\n",
              "      <td>43</td>\n",
              "      <td>...</td>\n",
              "      <td>125</td>\n",
              "      <td>B</td>\n",
              "      <td>Major</td>\n",
              "      <td>80</td>\n",
              "      <td>89</td>\n",
              "      <td>83</td>\n",
              "      <td>31</td>\n",
              "      <td>0</td>\n",
              "      <td>8</td>\n",
              "      <td>4</td>\n",
              "    </tr>\n",
              "    <tr>\n",
              "      <th>1</th>\n",
              "      <td>LALA</td>\n",
              "      <td>Myke Towers</td>\n",
              "      <td>1</td>\n",
              "      <td>2023</td>\n",
              "      <td>3</td>\n",
              "      <td>23</td>\n",
              "      <td>1474</td>\n",
              "      <td>48</td>\n",
              "      <td>133716286</td>\n",
              "      <td>48</td>\n",
              "      <td>...</td>\n",
              "      <td>92</td>\n",
              "      <td>C#</td>\n",
              "      <td>Major</td>\n",
              "      <td>71</td>\n",
              "      <td>61</td>\n",
              "      <td>74</td>\n",
              "      <td>7</td>\n",
              "      <td>0</td>\n",
              "      <td>10</td>\n",
              "      <td>4</td>\n",
              "    </tr>\n",
              "    <tr>\n",
              "      <th>2</th>\n",
              "      <td>vampire</td>\n",
              "      <td>Olivia Rodrigo</td>\n",
              "      <td>1</td>\n",
              "      <td>2023</td>\n",
              "      <td>6</td>\n",
              "      <td>30</td>\n",
              "      <td>1397</td>\n",
              "      <td>113</td>\n",
              "      <td>140003974</td>\n",
              "      <td>94</td>\n",
              "      <td>...</td>\n",
              "      <td>138</td>\n",
              "      <td>F</td>\n",
              "      <td>Major</td>\n",
              "      <td>51</td>\n",
              "      <td>32</td>\n",
              "      <td>53</td>\n",
              "      <td>17</td>\n",
              "      <td>0</td>\n",
              "      <td>31</td>\n",
              "      <td>6</td>\n",
              "    </tr>\n",
              "    <tr>\n",
              "      <th>3</th>\n",
              "      <td>Cruel Summer</td>\n",
              "      <td>Taylor Swift</td>\n",
              "      <td>1</td>\n",
              "      <td>2019</td>\n",
              "      <td>8</td>\n",
              "      <td>23</td>\n",
              "      <td>7858</td>\n",
              "      <td>100</td>\n",
              "      <td>800840817</td>\n",
              "      <td>116</td>\n",
              "      <td>...</td>\n",
              "      <td>170</td>\n",
              "      <td>A</td>\n",
              "      <td>Major</td>\n",
              "      <td>55</td>\n",
              "      <td>58</td>\n",
              "      <td>72</td>\n",
              "      <td>11</td>\n",
              "      <td>0</td>\n",
              "      <td>11</td>\n",
              "      <td>15</td>\n",
              "    </tr>\n",
              "    <tr>\n",
              "      <th>4</th>\n",
              "      <td>WHERE SHE GOES</td>\n",
              "      <td>Bad Bunny</td>\n",
              "      <td>1</td>\n",
              "      <td>2023</td>\n",
              "      <td>5</td>\n",
              "      <td>18</td>\n",
              "      <td>3133</td>\n",
              "      <td>50</td>\n",
              "      <td>303236322</td>\n",
              "      <td>84</td>\n",
              "      <td>...</td>\n",
              "      <td>144</td>\n",
              "      <td>A</td>\n",
              "      <td>Minor</td>\n",
              "      <td>65</td>\n",
              "      <td>23</td>\n",
              "      <td>80</td>\n",
              "      <td>14</td>\n",
              "      <td>63</td>\n",
              "      <td>11</td>\n",
              "      <td>6</td>\n",
              "    </tr>\n",
              "  </tbody>\n",
              "</table>\n",
              "<p>5 rows × 24 columns</p>\n",
              "</div>\n",
              "    <div class=\"colab-df-buttons\">\n",
              "\n",
              "  <div class=\"colab-df-container\">\n",
              "    <button class=\"colab-df-convert\" onclick=\"convertToInteractive('df-d93f3f6f-1292-4649-b19c-ce7000ed09ff')\"\n",
              "            title=\"Convert this dataframe to an interactive table.\"\n",
              "            style=\"display:none;\">\n",
              "\n",
              "  <svg xmlns=\"http://www.w3.org/2000/svg\" height=\"24px\" viewBox=\"0 -960 960 960\">\n",
              "    <path d=\"M120-120v-720h720v720H120Zm60-500h600v-160H180v160Zm220 220h160v-160H400v160Zm0 220h160v-160H400v160ZM180-400h160v-160H180v160Zm440 0h160v-160H620v160ZM180-180h160v-160H180v160Zm440 0h160v-160H620v160Z\"/>\n",
              "  </svg>\n",
              "    </button>\n",
              "\n",
              "  <style>\n",
              "    .colab-df-container {\n",
              "      display:flex;\n",
              "      gap: 12px;\n",
              "    }\n",
              "\n",
              "    .colab-df-convert {\n",
              "      background-color: #E8F0FE;\n",
              "      border: none;\n",
              "      border-radius: 50%;\n",
              "      cursor: pointer;\n",
              "      display: none;\n",
              "      fill: #1967D2;\n",
              "      height: 32px;\n",
              "      padding: 0 0 0 0;\n",
              "      width: 32px;\n",
              "    }\n",
              "\n",
              "    .colab-df-convert:hover {\n",
              "      background-color: #E2EBFA;\n",
              "      box-shadow: 0px 1px 2px rgba(60, 64, 67, 0.3), 0px 1px 3px 1px rgba(60, 64, 67, 0.15);\n",
              "      fill: #174EA6;\n",
              "    }\n",
              "\n",
              "    .colab-df-buttons div {\n",
              "      margin-bottom: 4px;\n",
              "    }\n",
              "\n",
              "    [theme=dark] .colab-df-convert {\n",
              "      background-color: #3B4455;\n",
              "      fill: #D2E3FC;\n",
              "    }\n",
              "\n",
              "    [theme=dark] .colab-df-convert:hover {\n",
              "      background-color: #434B5C;\n",
              "      box-shadow: 0px 1px 3px 1px rgba(0, 0, 0, 0.15);\n",
              "      filter: drop-shadow(0px 1px 2px rgba(0, 0, 0, 0.3));\n",
              "      fill: #FFFFFF;\n",
              "    }\n",
              "  </style>\n",
              "\n",
              "    <script>\n",
              "      const buttonEl =\n",
              "        document.querySelector('#df-d93f3f6f-1292-4649-b19c-ce7000ed09ff button.colab-df-convert');\n",
              "      buttonEl.style.display =\n",
              "        google.colab.kernel.accessAllowed ? 'block' : 'none';\n",
              "\n",
              "      async function convertToInteractive(key) {\n",
              "        const element = document.querySelector('#df-d93f3f6f-1292-4649-b19c-ce7000ed09ff');\n",
              "        const dataTable =\n",
              "          await google.colab.kernel.invokeFunction('convertToInteractive',\n",
              "                                                    [key], {});\n",
              "        if (!dataTable) return;\n",
              "\n",
              "        const docLinkHtml = 'Like what you see? Visit the ' +\n",
              "          '<a target=\"_blank\" href=https://colab.research.google.com/notebooks/data_table.ipynb>data table notebook</a>'\n",
              "          + ' to learn more about interactive tables.';\n",
              "        element.innerHTML = '';\n",
              "        dataTable['output_type'] = 'display_data';\n",
              "        await google.colab.output.renderOutput(dataTable, element);\n",
              "        const docLink = document.createElement('div');\n",
              "        docLink.innerHTML = docLinkHtml;\n",
              "        element.appendChild(docLink);\n",
              "      }\n",
              "    </script>\n",
              "  </div>\n",
              "\n",
              "\n",
              "<div id=\"df-8c2a289b-30cb-4030-bb6a-d778e36c8358\">\n",
              "  <button class=\"colab-df-quickchart\" onclick=\"quickchart('df-8c2a289b-30cb-4030-bb6a-d778e36c8358')\"\n",
              "            title=\"Suggest charts.\"\n",
              "            style=\"display:none;\">\n",
              "\n",
              "<svg xmlns=\"http://www.w3.org/2000/svg\" height=\"24px\"viewBox=\"0 0 24 24\"\n",
              "     width=\"24px\">\n",
              "    <g>\n",
              "        <path d=\"M19 3H5c-1.1 0-2 .9-2 2v14c0 1.1.9 2 2 2h14c1.1 0 2-.9 2-2V5c0-1.1-.9-2-2-2zM9 17H7v-7h2v7zm4 0h-2V7h2v10zm4 0h-2v-4h2v4z\"/>\n",
              "    </g>\n",
              "</svg>\n",
              "  </button>\n",
              "\n",
              "<style>\n",
              "  .colab-df-quickchart {\n",
              "      --bg-color: #E8F0FE;\n",
              "      --fill-color: #1967D2;\n",
              "      --hover-bg-color: #E2EBFA;\n",
              "      --hover-fill-color: #174EA6;\n",
              "      --disabled-fill-color: #AAA;\n",
              "      --disabled-bg-color: #DDD;\n",
              "  }\n",
              "\n",
              "  [theme=dark] .colab-df-quickchart {\n",
              "      --bg-color: #3B4455;\n",
              "      --fill-color: #D2E3FC;\n",
              "      --hover-bg-color: #434B5C;\n",
              "      --hover-fill-color: #FFFFFF;\n",
              "      --disabled-bg-color: #3B4455;\n",
              "      --disabled-fill-color: #666;\n",
              "  }\n",
              "\n",
              "  .colab-df-quickchart {\n",
              "    background-color: var(--bg-color);\n",
              "    border: none;\n",
              "    border-radius: 50%;\n",
              "    cursor: pointer;\n",
              "    display: none;\n",
              "    fill: var(--fill-color);\n",
              "    height: 32px;\n",
              "    padding: 0;\n",
              "    width: 32px;\n",
              "  }\n",
              "\n",
              "  .colab-df-quickchart:hover {\n",
              "    background-color: var(--hover-bg-color);\n",
              "    box-shadow: 0 1px 2px rgba(60, 64, 67, 0.3), 0 1px 3px 1px rgba(60, 64, 67, 0.15);\n",
              "    fill: var(--button-hover-fill-color);\n",
              "  }\n",
              "\n",
              "  .colab-df-quickchart-complete:disabled,\n",
              "  .colab-df-quickchart-complete:disabled:hover {\n",
              "    background-color: var(--disabled-bg-color);\n",
              "    fill: var(--disabled-fill-color);\n",
              "    box-shadow: none;\n",
              "  }\n",
              "\n",
              "  .colab-df-spinner {\n",
              "    border: 2px solid var(--fill-color);\n",
              "    border-color: transparent;\n",
              "    border-bottom-color: var(--fill-color);\n",
              "    animation:\n",
              "      spin 1s steps(1) infinite;\n",
              "  }\n",
              "\n",
              "  @keyframes spin {\n",
              "    0% {\n",
              "      border-color: transparent;\n",
              "      border-bottom-color: var(--fill-color);\n",
              "      border-left-color: var(--fill-color);\n",
              "    }\n",
              "    20% {\n",
              "      border-color: transparent;\n",
              "      border-left-color: var(--fill-color);\n",
              "      border-top-color: var(--fill-color);\n",
              "    }\n",
              "    30% {\n",
              "      border-color: transparent;\n",
              "      border-left-color: var(--fill-color);\n",
              "      border-top-color: var(--fill-color);\n",
              "      border-right-color: var(--fill-color);\n",
              "    }\n",
              "    40% {\n",
              "      border-color: transparent;\n",
              "      border-right-color: var(--fill-color);\n",
              "      border-top-color: var(--fill-color);\n",
              "    }\n",
              "    60% {\n",
              "      border-color: transparent;\n",
              "      border-right-color: var(--fill-color);\n",
              "    }\n",
              "    80% {\n",
              "      border-color: transparent;\n",
              "      border-right-color: var(--fill-color);\n",
              "      border-bottom-color: var(--fill-color);\n",
              "    }\n",
              "    90% {\n",
              "      border-color: transparent;\n",
              "      border-bottom-color: var(--fill-color);\n",
              "    }\n",
              "  }\n",
              "</style>\n",
              "\n",
              "  <script>\n",
              "    async function quickchart(key) {\n",
              "      const quickchartButtonEl =\n",
              "        document.querySelector('#' + key + ' button');\n",
              "      quickchartButtonEl.disabled = true;  // To prevent multiple clicks.\n",
              "      quickchartButtonEl.classList.add('colab-df-spinner');\n",
              "      try {\n",
              "        const charts = await google.colab.kernel.invokeFunction(\n",
              "            'suggestCharts', [key], {});\n",
              "      } catch (error) {\n",
              "        console.error('Error during call to suggestCharts:', error);\n",
              "      }\n",
              "      quickchartButtonEl.classList.remove('colab-df-spinner');\n",
              "      quickchartButtonEl.classList.add('colab-df-quickchart-complete');\n",
              "    }\n",
              "    (() => {\n",
              "      let quickchartButtonEl =\n",
              "        document.querySelector('#df-8c2a289b-30cb-4030-bb6a-d778e36c8358 button');\n",
              "      quickchartButtonEl.style.display =\n",
              "        google.colab.kernel.accessAllowed ? 'block' : 'none';\n",
              "    })();\n",
              "  </script>\n",
              "</div>\n",
              "    </div>\n",
              "  </div>\n"
            ]
          },
          "metadata": {},
          "execution_count": 3
        }
      ]
    },
    {
      "cell_type": "code",
      "source": [
        "# Check the structure of the dataset\n",
        "num_rows, num_columns = data.shape\n",
        "num_rows, num_columns"
      ],
      "metadata": {
        "colab": {
          "base_uri": "https://localhost:8080/"
        },
        "id": "FYSkfBCYMnA3",
        "outputId": "32f3fc2a-4c59-4bc4-d8ba-72c2163cbb30"
      },
      "execution_count": 4,
      "outputs": [
        {
          "output_type": "execute_result",
          "data": {
            "text/plain": [
              "(953, 24)"
            ]
          },
          "metadata": {},
          "execution_count": 4
        }
      ]
    },
    {
      "cell_type": "code",
      "source": [
        "# Check for missing values\n",
        "missing_values = data.isnull().sum()\n",
        "missing_values[missing_values > 0]"
      ],
      "metadata": {
        "colab": {
          "base_uri": "https://localhost:8080/"
        },
        "id": "YRhwhATMMwxu",
        "outputId": "934deff8-e8f4-4355-80e7-c29b83fea204"
      },
      "execution_count": 5,
      "outputs": [
        {
          "output_type": "execute_result",
          "data": {
            "text/plain": [
              "in_shazam_charts    50\n",
              "key                 95\n",
              "dtype: int64"
            ]
          },
          "metadata": {},
          "execution_count": 5
        }
      ]
    },
    {
      "cell_type": "code",
      "source": [
        "# Basic statistics of the numerical columns\n",
        "data_description = data.describe()\n",
        "data_description"
      ],
      "metadata": {
        "colab": {
          "base_uri": "https://localhost:8080/",
          "height": 320
        },
        "id": "G90ASZBYM5H3",
        "outputId": "8d4aa390-3269-478a-ac8d-aad206b13767"
      },
      "execution_count": 6,
      "outputs": [
        {
          "output_type": "execute_result",
          "data": {
            "text/plain": [
              "       artist_count  released_year  released_month  released_day  \\\n",
              "count    953.000000     953.000000      953.000000    953.000000   \n",
              "mean       1.556139    2018.238195        6.033578     13.930745   \n",
              "std        0.893044      11.116218        3.566435      9.201949   \n",
              "min        1.000000    1930.000000        1.000000      1.000000   \n",
              "25%        1.000000    2020.000000        3.000000      6.000000   \n",
              "50%        1.000000    2022.000000        6.000000     13.000000   \n",
              "75%        2.000000    2022.000000        9.000000     22.000000   \n",
              "max        8.000000    2023.000000       12.000000     31.000000   \n",
              "\n",
              "       in_spotify_playlists  in_spotify_charts  in_apple_playlists  \\\n",
              "count            953.000000         953.000000          953.000000   \n",
              "mean            5200.124869          12.009444           67.812172   \n",
              "std             7897.608990          19.575992           86.441493   \n",
              "min               31.000000           0.000000            0.000000   \n",
              "25%              875.000000           0.000000           13.000000   \n",
              "50%             2224.000000           3.000000           34.000000   \n",
              "75%             5542.000000          16.000000           88.000000   \n",
              "max            52898.000000         147.000000          672.000000   \n",
              "\n",
              "       in_apple_charts  in_deezer_charts         bpm  danceability_%  \\\n",
              "count       953.000000        953.000000  953.000000       953.00000   \n",
              "mean         51.908709          2.666317  122.540399        66.96957   \n",
              "std          50.630241          6.035599   28.057802        14.63061   \n",
              "min           0.000000          0.000000   65.000000        23.00000   \n",
              "25%           7.000000          0.000000  100.000000        57.00000   \n",
              "50%          38.000000          0.000000  121.000000        69.00000   \n",
              "75%          87.000000          2.000000  140.000000        78.00000   \n",
              "max         275.000000         58.000000  206.000000        96.00000   \n",
              "\n",
              "        valence_%    energy_%  acousticness_%  instrumentalness_%  liveness_%  \\\n",
              "count  953.000000  953.000000      953.000000          953.000000  953.000000   \n",
              "mean    51.431270   64.279119       27.057712            1.581322   18.213012   \n",
              "std     23.480632   16.550526       25.996077            8.409800   13.711223   \n",
              "min      4.000000    9.000000        0.000000            0.000000    3.000000   \n",
              "25%     32.000000   53.000000        6.000000            0.000000   10.000000   \n",
              "50%     51.000000   66.000000       18.000000            0.000000   12.000000   \n",
              "75%     70.000000   77.000000       43.000000            0.000000   24.000000   \n",
              "max     97.000000   97.000000       97.000000           91.000000   97.000000   \n",
              "\n",
              "       speechiness_%  \n",
              "count     953.000000  \n",
              "mean       10.131165  \n",
              "std         9.912888  \n",
              "min         2.000000  \n",
              "25%         4.000000  \n",
              "50%         6.000000  \n",
              "75%        11.000000  \n",
              "max        64.000000  "
            ],
            "text/html": [
              "\n",
              "  <div id=\"df-e704b2a3-ed60-4f8c-a3e6-5fa4707fa7f2\" class=\"colab-df-container\">\n",
              "    <div>\n",
              "<style scoped>\n",
              "    .dataframe tbody tr th:only-of-type {\n",
              "        vertical-align: middle;\n",
              "    }\n",
              "\n",
              "    .dataframe tbody tr th {\n",
              "        vertical-align: top;\n",
              "    }\n",
              "\n",
              "    .dataframe thead th {\n",
              "        text-align: right;\n",
              "    }\n",
              "</style>\n",
              "<table border=\"1\" class=\"dataframe\">\n",
              "  <thead>\n",
              "    <tr style=\"text-align: right;\">\n",
              "      <th></th>\n",
              "      <th>artist_count</th>\n",
              "      <th>released_year</th>\n",
              "      <th>released_month</th>\n",
              "      <th>released_day</th>\n",
              "      <th>in_spotify_playlists</th>\n",
              "      <th>in_spotify_charts</th>\n",
              "      <th>in_apple_playlists</th>\n",
              "      <th>in_apple_charts</th>\n",
              "      <th>in_deezer_charts</th>\n",
              "      <th>bpm</th>\n",
              "      <th>danceability_%</th>\n",
              "      <th>valence_%</th>\n",
              "      <th>energy_%</th>\n",
              "      <th>acousticness_%</th>\n",
              "      <th>instrumentalness_%</th>\n",
              "      <th>liveness_%</th>\n",
              "      <th>speechiness_%</th>\n",
              "    </tr>\n",
              "  </thead>\n",
              "  <tbody>\n",
              "    <tr>\n",
              "      <th>count</th>\n",
              "      <td>953.000000</td>\n",
              "      <td>953.000000</td>\n",
              "      <td>953.000000</td>\n",
              "      <td>953.000000</td>\n",
              "      <td>953.000000</td>\n",
              "      <td>953.000000</td>\n",
              "      <td>953.000000</td>\n",
              "      <td>953.000000</td>\n",
              "      <td>953.000000</td>\n",
              "      <td>953.000000</td>\n",
              "      <td>953.00000</td>\n",
              "      <td>953.000000</td>\n",
              "      <td>953.000000</td>\n",
              "      <td>953.000000</td>\n",
              "      <td>953.000000</td>\n",
              "      <td>953.000000</td>\n",
              "      <td>953.000000</td>\n",
              "    </tr>\n",
              "    <tr>\n",
              "      <th>mean</th>\n",
              "      <td>1.556139</td>\n",
              "      <td>2018.238195</td>\n",
              "      <td>6.033578</td>\n",
              "      <td>13.930745</td>\n",
              "      <td>5200.124869</td>\n",
              "      <td>12.009444</td>\n",
              "      <td>67.812172</td>\n",
              "      <td>51.908709</td>\n",
              "      <td>2.666317</td>\n",
              "      <td>122.540399</td>\n",
              "      <td>66.96957</td>\n",
              "      <td>51.431270</td>\n",
              "      <td>64.279119</td>\n",
              "      <td>27.057712</td>\n",
              "      <td>1.581322</td>\n",
              "      <td>18.213012</td>\n",
              "      <td>10.131165</td>\n",
              "    </tr>\n",
              "    <tr>\n",
              "      <th>std</th>\n",
              "      <td>0.893044</td>\n",
              "      <td>11.116218</td>\n",
              "      <td>3.566435</td>\n",
              "      <td>9.201949</td>\n",
              "      <td>7897.608990</td>\n",
              "      <td>19.575992</td>\n",
              "      <td>86.441493</td>\n",
              "      <td>50.630241</td>\n",
              "      <td>6.035599</td>\n",
              "      <td>28.057802</td>\n",
              "      <td>14.63061</td>\n",
              "      <td>23.480632</td>\n",
              "      <td>16.550526</td>\n",
              "      <td>25.996077</td>\n",
              "      <td>8.409800</td>\n",
              "      <td>13.711223</td>\n",
              "      <td>9.912888</td>\n",
              "    </tr>\n",
              "    <tr>\n",
              "      <th>min</th>\n",
              "      <td>1.000000</td>\n",
              "      <td>1930.000000</td>\n",
              "      <td>1.000000</td>\n",
              "      <td>1.000000</td>\n",
              "      <td>31.000000</td>\n",
              "      <td>0.000000</td>\n",
              "      <td>0.000000</td>\n",
              "      <td>0.000000</td>\n",
              "      <td>0.000000</td>\n",
              "      <td>65.000000</td>\n",
              "      <td>23.00000</td>\n",
              "      <td>4.000000</td>\n",
              "      <td>9.000000</td>\n",
              "      <td>0.000000</td>\n",
              "      <td>0.000000</td>\n",
              "      <td>3.000000</td>\n",
              "      <td>2.000000</td>\n",
              "    </tr>\n",
              "    <tr>\n",
              "      <th>25%</th>\n",
              "      <td>1.000000</td>\n",
              "      <td>2020.000000</td>\n",
              "      <td>3.000000</td>\n",
              "      <td>6.000000</td>\n",
              "      <td>875.000000</td>\n",
              "      <td>0.000000</td>\n",
              "      <td>13.000000</td>\n",
              "      <td>7.000000</td>\n",
              "      <td>0.000000</td>\n",
              "      <td>100.000000</td>\n",
              "      <td>57.00000</td>\n",
              "      <td>32.000000</td>\n",
              "      <td>53.000000</td>\n",
              "      <td>6.000000</td>\n",
              "      <td>0.000000</td>\n",
              "      <td>10.000000</td>\n",
              "      <td>4.000000</td>\n",
              "    </tr>\n",
              "    <tr>\n",
              "      <th>50%</th>\n",
              "      <td>1.000000</td>\n",
              "      <td>2022.000000</td>\n",
              "      <td>6.000000</td>\n",
              "      <td>13.000000</td>\n",
              "      <td>2224.000000</td>\n",
              "      <td>3.000000</td>\n",
              "      <td>34.000000</td>\n",
              "      <td>38.000000</td>\n",
              "      <td>0.000000</td>\n",
              "      <td>121.000000</td>\n",
              "      <td>69.00000</td>\n",
              "      <td>51.000000</td>\n",
              "      <td>66.000000</td>\n",
              "      <td>18.000000</td>\n",
              "      <td>0.000000</td>\n",
              "      <td>12.000000</td>\n",
              "      <td>6.000000</td>\n",
              "    </tr>\n",
              "    <tr>\n",
              "      <th>75%</th>\n",
              "      <td>2.000000</td>\n",
              "      <td>2022.000000</td>\n",
              "      <td>9.000000</td>\n",
              "      <td>22.000000</td>\n",
              "      <td>5542.000000</td>\n",
              "      <td>16.000000</td>\n",
              "      <td>88.000000</td>\n",
              "      <td>87.000000</td>\n",
              "      <td>2.000000</td>\n",
              "      <td>140.000000</td>\n",
              "      <td>78.00000</td>\n",
              "      <td>70.000000</td>\n",
              "      <td>77.000000</td>\n",
              "      <td>43.000000</td>\n",
              "      <td>0.000000</td>\n",
              "      <td>24.000000</td>\n",
              "      <td>11.000000</td>\n",
              "    </tr>\n",
              "    <tr>\n",
              "      <th>max</th>\n",
              "      <td>8.000000</td>\n",
              "      <td>2023.000000</td>\n",
              "      <td>12.000000</td>\n",
              "      <td>31.000000</td>\n",
              "      <td>52898.000000</td>\n",
              "      <td>147.000000</td>\n",
              "      <td>672.000000</td>\n",
              "      <td>275.000000</td>\n",
              "      <td>58.000000</td>\n",
              "      <td>206.000000</td>\n",
              "      <td>96.00000</td>\n",
              "      <td>97.000000</td>\n",
              "      <td>97.000000</td>\n",
              "      <td>97.000000</td>\n",
              "      <td>91.000000</td>\n",
              "      <td>97.000000</td>\n",
              "      <td>64.000000</td>\n",
              "    </tr>\n",
              "  </tbody>\n",
              "</table>\n",
              "</div>\n",
              "    <div class=\"colab-df-buttons\">\n",
              "\n",
              "  <div class=\"colab-df-container\">\n",
              "    <button class=\"colab-df-convert\" onclick=\"convertToInteractive('df-e704b2a3-ed60-4f8c-a3e6-5fa4707fa7f2')\"\n",
              "            title=\"Convert this dataframe to an interactive table.\"\n",
              "            style=\"display:none;\">\n",
              "\n",
              "  <svg xmlns=\"http://www.w3.org/2000/svg\" height=\"24px\" viewBox=\"0 -960 960 960\">\n",
              "    <path d=\"M120-120v-720h720v720H120Zm60-500h600v-160H180v160Zm220 220h160v-160H400v160Zm0 220h160v-160H400v160ZM180-400h160v-160H180v160Zm440 0h160v-160H620v160ZM180-180h160v-160H180v160Zm440 0h160v-160H620v160Z\"/>\n",
              "  </svg>\n",
              "    </button>\n",
              "\n",
              "  <style>\n",
              "    .colab-df-container {\n",
              "      display:flex;\n",
              "      gap: 12px;\n",
              "    }\n",
              "\n",
              "    .colab-df-convert {\n",
              "      background-color: #E8F0FE;\n",
              "      border: none;\n",
              "      border-radius: 50%;\n",
              "      cursor: pointer;\n",
              "      display: none;\n",
              "      fill: #1967D2;\n",
              "      height: 32px;\n",
              "      padding: 0 0 0 0;\n",
              "      width: 32px;\n",
              "    }\n",
              "\n",
              "    .colab-df-convert:hover {\n",
              "      background-color: #E2EBFA;\n",
              "      box-shadow: 0px 1px 2px rgba(60, 64, 67, 0.3), 0px 1px 3px 1px rgba(60, 64, 67, 0.15);\n",
              "      fill: #174EA6;\n",
              "    }\n",
              "\n",
              "    .colab-df-buttons div {\n",
              "      margin-bottom: 4px;\n",
              "    }\n",
              "\n",
              "    [theme=dark] .colab-df-convert {\n",
              "      background-color: #3B4455;\n",
              "      fill: #D2E3FC;\n",
              "    }\n",
              "\n",
              "    [theme=dark] .colab-df-convert:hover {\n",
              "      background-color: #434B5C;\n",
              "      box-shadow: 0px 1px 3px 1px rgba(0, 0, 0, 0.15);\n",
              "      filter: drop-shadow(0px 1px 2px rgba(0, 0, 0, 0.3));\n",
              "      fill: #FFFFFF;\n",
              "    }\n",
              "  </style>\n",
              "\n",
              "    <script>\n",
              "      const buttonEl =\n",
              "        document.querySelector('#df-e704b2a3-ed60-4f8c-a3e6-5fa4707fa7f2 button.colab-df-convert');\n",
              "      buttonEl.style.display =\n",
              "        google.colab.kernel.accessAllowed ? 'block' : 'none';\n",
              "\n",
              "      async function convertToInteractive(key) {\n",
              "        const element = document.querySelector('#df-e704b2a3-ed60-4f8c-a3e6-5fa4707fa7f2');\n",
              "        const dataTable =\n",
              "          await google.colab.kernel.invokeFunction('convertToInteractive',\n",
              "                                                    [key], {});\n",
              "        if (!dataTable) return;\n",
              "\n",
              "        const docLinkHtml = 'Like what you see? Visit the ' +\n",
              "          '<a target=\"_blank\" href=https://colab.research.google.com/notebooks/data_table.ipynb>data table notebook</a>'\n",
              "          + ' to learn more about interactive tables.';\n",
              "        element.innerHTML = '';\n",
              "        dataTable['output_type'] = 'display_data';\n",
              "        await google.colab.output.renderOutput(dataTable, element);\n",
              "        const docLink = document.createElement('div');\n",
              "        docLink.innerHTML = docLinkHtml;\n",
              "        element.appendChild(docLink);\n",
              "      }\n",
              "    </script>\n",
              "  </div>\n",
              "\n",
              "\n",
              "<div id=\"df-f8bf141a-74ac-4708-a1fa-7330b8d6ecdb\">\n",
              "  <button class=\"colab-df-quickchart\" onclick=\"quickchart('df-f8bf141a-74ac-4708-a1fa-7330b8d6ecdb')\"\n",
              "            title=\"Suggest charts.\"\n",
              "            style=\"display:none;\">\n",
              "\n",
              "<svg xmlns=\"http://www.w3.org/2000/svg\" height=\"24px\"viewBox=\"0 0 24 24\"\n",
              "     width=\"24px\">\n",
              "    <g>\n",
              "        <path d=\"M19 3H5c-1.1 0-2 .9-2 2v14c0 1.1.9 2 2 2h14c1.1 0 2-.9 2-2V5c0-1.1-.9-2-2-2zM9 17H7v-7h2v7zm4 0h-2V7h2v10zm4 0h-2v-4h2v4z\"/>\n",
              "    </g>\n",
              "</svg>\n",
              "  </button>\n",
              "\n",
              "<style>\n",
              "  .colab-df-quickchart {\n",
              "      --bg-color: #E8F0FE;\n",
              "      --fill-color: #1967D2;\n",
              "      --hover-bg-color: #E2EBFA;\n",
              "      --hover-fill-color: #174EA6;\n",
              "      --disabled-fill-color: #AAA;\n",
              "      --disabled-bg-color: #DDD;\n",
              "  }\n",
              "\n",
              "  [theme=dark] .colab-df-quickchart {\n",
              "      --bg-color: #3B4455;\n",
              "      --fill-color: #D2E3FC;\n",
              "      --hover-bg-color: #434B5C;\n",
              "      --hover-fill-color: #FFFFFF;\n",
              "      --disabled-bg-color: #3B4455;\n",
              "      --disabled-fill-color: #666;\n",
              "  }\n",
              "\n",
              "  .colab-df-quickchart {\n",
              "    background-color: var(--bg-color);\n",
              "    border: none;\n",
              "    border-radius: 50%;\n",
              "    cursor: pointer;\n",
              "    display: none;\n",
              "    fill: var(--fill-color);\n",
              "    height: 32px;\n",
              "    padding: 0;\n",
              "    width: 32px;\n",
              "  }\n",
              "\n",
              "  .colab-df-quickchart:hover {\n",
              "    background-color: var(--hover-bg-color);\n",
              "    box-shadow: 0 1px 2px rgba(60, 64, 67, 0.3), 0 1px 3px 1px rgba(60, 64, 67, 0.15);\n",
              "    fill: var(--button-hover-fill-color);\n",
              "  }\n",
              "\n",
              "  .colab-df-quickchart-complete:disabled,\n",
              "  .colab-df-quickchart-complete:disabled:hover {\n",
              "    background-color: var(--disabled-bg-color);\n",
              "    fill: var(--disabled-fill-color);\n",
              "    box-shadow: none;\n",
              "  }\n",
              "\n",
              "  .colab-df-spinner {\n",
              "    border: 2px solid var(--fill-color);\n",
              "    border-color: transparent;\n",
              "    border-bottom-color: var(--fill-color);\n",
              "    animation:\n",
              "      spin 1s steps(1) infinite;\n",
              "  }\n",
              "\n",
              "  @keyframes spin {\n",
              "    0% {\n",
              "      border-color: transparent;\n",
              "      border-bottom-color: var(--fill-color);\n",
              "      border-left-color: var(--fill-color);\n",
              "    }\n",
              "    20% {\n",
              "      border-color: transparent;\n",
              "      border-left-color: var(--fill-color);\n",
              "      border-top-color: var(--fill-color);\n",
              "    }\n",
              "    30% {\n",
              "      border-color: transparent;\n",
              "      border-left-color: var(--fill-color);\n",
              "      border-top-color: var(--fill-color);\n",
              "      border-right-color: var(--fill-color);\n",
              "    }\n",
              "    40% {\n",
              "      border-color: transparent;\n",
              "      border-right-color: var(--fill-color);\n",
              "      border-top-color: var(--fill-color);\n",
              "    }\n",
              "    60% {\n",
              "      border-color: transparent;\n",
              "      border-right-color: var(--fill-color);\n",
              "    }\n",
              "    80% {\n",
              "      border-color: transparent;\n",
              "      border-right-color: var(--fill-color);\n",
              "      border-bottom-color: var(--fill-color);\n",
              "    }\n",
              "    90% {\n",
              "      border-color: transparent;\n",
              "      border-bottom-color: var(--fill-color);\n",
              "    }\n",
              "  }\n",
              "</style>\n",
              "\n",
              "  <script>\n",
              "    async function quickchart(key) {\n",
              "      const quickchartButtonEl =\n",
              "        document.querySelector('#' + key + ' button');\n",
              "      quickchartButtonEl.disabled = true;  // To prevent multiple clicks.\n",
              "      quickchartButtonEl.classList.add('colab-df-spinner');\n",
              "      try {\n",
              "        const charts = await google.colab.kernel.invokeFunction(\n",
              "            'suggestCharts', [key], {});\n",
              "      } catch (error) {\n",
              "        console.error('Error during call to suggestCharts:', error);\n",
              "      }\n",
              "      quickchartButtonEl.classList.remove('colab-df-spinner');\n",
              "      quickchartButtonEl.classList.add('colab-df-quickchart-complete');\n",
              "    }\n",
              "    (() => {\n",
              "      let quickchartButtonEl =\n",
              "        document.querySelector('#df-f8bf141a-74ac-4708-a1fa-7330b8d6ecdb button');\n",
              "      quickchartButtonEl.style.display =\n",
              "        google.colab.kernel.accessAllowed ? 'block' : 'none';\n",
              "    })();\n",
              "  </script>\n",
              "</div>\n",
              "    </div>\n",
              "  </div>\n"
            ]
          },
          "metadata": {},
          "execution_count": 6
        }
      ]
    },
    {
      "cell_type": "code",
      "source": [
        "# Data types of all columns\n",
        "data.dtypes"
      ],
      "metadata": {
        "colab": {
          "base_uri": "https://localhost:8080/"
        },
        "id": "DaaniI21P_Fz",
        "outputId": "1024a5ea-3403-40d5-d165-aada9c7c56f1"
      },
      "execution_count": 7,
      "outputs": [
        {
          "output_type": "execute_result",
          "data": {
            "text/plain": [
              "track_name              object\n",
              "artist(s)_name          object\n",
              "artist_count             int64\n",
              "released_year            int64\n",
              "released_month           int64\n",
              "released_day             int64\n",
              "in_spotify_playlists     int64\n",
              "in_spotify_charts        int64\n",
              "streams                 object\n",
              "in_apple_playlists       int64\n",
              "in_apple_charts          int64\n",
              "in_deezer_playlists     object\n",
              "in_deezer_charts         int64\n",
              "in_shazam_charts        object\n",
              "bpm                      int64\n",
              "key                     object\n",
              "mode                    object\n",
              "danceability_%           int64\n",
              "valence_%                int64\n",
              "energy_%                 int64\n",
              "acousticness_%           int64\n",
              "instrumentalness_%       int64\n",
              "liveness_%               int64\n",
              "speechiness_%            int64\n",
              "dtype: object"
            ]
          },
          "metadata": {},
          "execution_count": 7
        }
      ]
    },
    {
      "cell_type": "code",
      "source": [
        "# Remove non-numeric values from 'streams' column and convert to integer\n",
        "data['streams'] = pd.to_numeric(data['streams'], errors='coerce')\n",
        "data.dtypes"
      ],
      "metadata": {
        "colab": {
          "base_uri": "https://localhost:8080/"
        },
        "id": "EHKvtnx7QJ5k",
        "outputId": "612a4d80-b07c-4a48-ef2c-7b3272fb67f2"
      },
      "execution_count": 8,
      "outputs": [
        {
          "output_type": "execute_result",
          "data": {
            "text/plain": [
              "track_name               object\n",
              "artist(s)_name           object\n",
              "artist_count              int64\n",
              "released_year             int64\n",
              "released_month            int64\n",
              "released_day              int64\n",
              "in_spotify_playlists      int64\n",
              "in_spotify_charts         int64\n",
              "streams                 float64\n",
              "in_apple_playlists        int64\n",
              "in_apple_charts           int64\n",
              "in_deezer_playlists      object\n",
              "in_deezer_charts          int64\n",
              "in_shazam_charts         object\n",
              "bpm                       int64\n",
              "key                      object\n",
              "mode                     object\n",
              "danceability_%            int64\n",
              "valence_%                 int64\n",
              "energy_%                  int64\n",
              "acousticness_%            int64\n",
              "instrumentalness_%        int64\n",
              "liveness_%                int64\n",
              "speechiness_%             int64\n",
              "dtype: object"
            ]
          },
          "metadata": {},
          "execution_count": 8
        }
      ]
    },
    {
      "cell_type": "markdown",
      "source": [
        "## What is the most listened to artist?"
      ],
      "metadata": {
        "id": "GzjzSGr3Dg6J"
      }
    },
    {
      "cell_type": "code",
      "source": [
        "# Select the top 10 songs with the most streams and sort them in descending order\n",
        "top_artist = data[['track_name', 'artist(s)_name', 'streams']].sort_values(by='streams', ascending=False).head(10)"
      ],
      "metadata": {
        "id": "FpgoDroEGAQ3"
      },
      "execution_count": 9,
      "outputs": []
    },
    {
      "cell_type": "code",
      "source": [
        "# Format the \"streams\" column with three digits and a \"B\" at the end\n",
        "top_artist['formatted_streams'] = top_artist['streams'].apply(lambda x: f'{x/1e9:.2f}B')\n",
        "\n",
        "# Create a horizontal bar chart with Plotly Express and swap the axes\n",
        "fig = px.bar(\n",
        "    top_artist,\n",
        "    x='streams',            # Swap the X-axis with the Y-axis\n",
        "    y='artist(s)_name',     # Swap the Y-axis with the X-axis\n",
        "    orientation='h',        # Horizontal orientation for the bars\n",
        "    text='formatted_streams',  # Use the formatted column as text on the bars\n",
        "    title='Top 10 Artists',\n",
        ")\n",
        "\n",
        "# Customize the layout\n",
        "fig.update_layout(\n",
        "    plot_bgcolor='black',  # Set the background to black\n",
        "    paper_bgcolor='black', # Set the paper background to black\n",
        "    xaxis=dict(title='Streams'),  # X-axis title\n",
        "    yaxis=dict(title='Artist Name'),  # Y-axis title\n",
        "    font=dict(color='white', size=16),  # Increase font size and set font color to white\n",
        "    title=dict(text='Top 10 Artists', x=0.5),  # Center the title\n",
        ")\n",
        "\n",
        "# Customize the bar colors to dark green\n",
        "fig.update_traces(marker_color='green')\n",
        "\n",
        "# Show the plot\n",
        "fig.show()\n"
      ],
      "metadata": {
        "colab": {
          "base_uri": "https://localhost:8080/",
          "height": 542
        },
        "id": "qxqt05mmFN6J",
        "outputId": "8f2e1fbb-e188-41fa-ff94-2350c1154d04"
      },
      "execution_count": 10,
      "outputs": [
        {
          "output_type": "display_data",
          "data": {
            "text/html": [
              "<html>\n",
              "<head><meta charset=\"utf-8\" /></head>\n",
              "<body>\n",
              "    <div>            <script src=\"https://cdnjs.cloudflare.com/ajax/libs/mathjax/2.7.5/MathJax.js?config=TeX-AMS-MML_SVG\"></script><script type=\"text/javascript\">if (window.MathJax && window.MathJax.Hub && window.MathJax.Hub.Config) {window.MathJax.Hub.Config({SVG: {font: \"STIX-Web\"}});}</script>                <script type=\"text/javascript\">window.PlotlyConfig = {MathJaxConfig: 'local'};</script>\n",
              "        <script charset=\"utf-8\" src=\"https://cdn.plot.ly/plotly-2.24.1.min.js\"></script>                <div id=\"878b90d5-7be0-4e8d-9a85-eeab3b5bad7e\" class=\"plotly-graph-div\" style=\"height:525px; width:100%;\"></div>            <script type=\"text/javascript\">                                    window.PLOTLYENV=window.PLOTLYENV || {};                                    if (document.getElementById(\"878b90d5-7be0-4e8d-9a85-eeab3b5bad7e\")) {                    Plotly.newPlot(                        \"878b90d5-7be0-4e8d-9a85-eeab3b5bad7e\",                        [{\"alignmentgroup\":\"True\",\"hovertemplate\":\"streams=%{x}\\u003cbr\\u003eartist(s)_name=%{y}\\u003cbr\\u003eformatted_streams=%{text}\\u003cextra\\u003e\\u003c\\u002fextra\\u003e\",\"legendgroup\":\"\",\"marker\":{\"color\":\"green\",\"pattern\":{\"shape\":\"\"}},\"name\":\"\",\"offsetgroup\":\"\",\"orientation\":\"h\",\"showlegend\":false,\"text\":[\"3.70B\",\"3.56B\",\"2.89B\",\"2.86B\",\"2.81B\",\"2.71B\",\"2.67B\",\"2.59B\",\"2.59B\",\"2.57B\"],\"textposition\":\"auto\",\"x\":[3703895074.0,3562543890.0,2887241814.0,2864791672.0,2808096550.0,2713922350.0,2665343922.0,2594040133.0,2591224264.0,2565529693.0],\"xaxis\":\"x\",\"y\":[\"The Weeknd\",\"Ed Sheeran\",\"Lewis Capaldi\",\"Tones and I\",\"Post Malone, Swae Lee\",\"Drake, WizKid, Kyla\",\"Justin Bieber, The Kid Laroi\",\"Imagine Dragons\",\"The Chainsmokers, Halsey\",\"The Weeknd, Daft Punk\"],\"yaxis\":\"y\",\"type\":\"bar\"}],                        {\"template\":{\"data\":{\"histogram2dcontour\":[{\"type\":\"histogram2dcontour\",\"colorbar\":{\"outlinewidth\":0,\"ticks\":\"\"},\"colorscale\":[[0.0,\"#0d0887\"],[0.1111111111111111,\"#46039f\"],[0.2222222222222222,\"#7201a8\"],[0.3333333333333333,\"#9c179e\"],[0.4444444444444444,\"#bd3786\"],[0.5555555555555556,\"#d8576b\"],[0.6666666666666666,\"#ed7953\"],[0.7777777777777778,\"#fb9f3a\"],[0.8888888888888888,\"#fdca26\"],[1.0,\"#f0f921\"]]}],\"choropleth\":[{\"type\":\"choropleth\",\"colorbar\":{\"outlinewidth\":0,\"ticks\":\"\"}}],\"histogram2d\":[{\"type\":\"histogram2d\",\"colorbar\":{\"outlinewidth\":0,\"ticks\":\"\"},\"colorscale\":[[0.0,\"#0d0887\"],[0.1111111111111111,\"#46039f\"],[0.2222222222222222,\"#7201a8\"],[0.3333333333333333,\"#9c179e\"],[0.4444444444444444,\"#bd3786\"],[0.5555555555555556,\"#d8576b\"],[0.6666666666666666,\"#ed7953\"],[0.7777777777777778,\"#fb9f3a\"],[0.8888888888888888,\"#fdca26\"],[1.0,\"#f0f921\"]]}],\"heatmap\":[{\"type\":\"heatmap\",\"colorbar\":{\"outlinewidth\":0,\"ticks\":\"\"},\"colorscale\":[[0.0,\"#0d0887\"],[0.1111111111111111,\"#46039f\"],[0.2222222222222222,\"#7201a8\"],[0.3333333333333333,\"#9c179e\"],[0.4444444444444444,\"#bd3786\"],[0.5555555555555556,\"#d8576b\"],[0.6666666666666666,\"#ed7953\"],[0.7777777777777778,\"#fb9f3a\"],[0.8888888888888888,\"#fdca26\"],[1.0,\"#f0f921\"]]}],\"heatmapgl\":[{\"type\":\"heatmapgl\",\"colorbar\":{\"outlinewidth\":0,\"ticks\":\"\"},\"colorscale\":[[0.0,\"#0d0887\"],[0.1111111111111111,\"#46039f\"],[0.2222222222222222,\"#7201a8\"],[0.3333333333333333,\"#9c179e\"],[0.4444444444444444,\"#bd3786\"],[0.5555555555555556,\"#d8576b\"],[0.6666666666666666,\"#ed7953\"],[0.7777777777777778,\"#fb9f3a\"],[0.8888888888888888,\"#fdca26\"],[1.0,\"#f0f921\"]]}],\"contourcarpet\":[{\"type\":\"contourcarpet\",\"colorbar\":{\"outlinewidth\":0,\"ticks\":\"\"}}],\"contour\":[{\"type\":\"contour\",\"colorbar\":{\"outlinewidth\":0,\"ticks\":\"\"},\"colorscale\":[[0.0,\"#0d0887\"],[0.1111111111111111,\"#46039f\"],[0.2222222222222222,\"#7201a8\"],[0.3333333333333333,\"#9c179e\"],[0.4444444444444444,\"#bd3786\"],[0.5555555555555556,\"#d8576b\"],[0.6666666666666666,\"#ed7953\"],[0.7777777777777778,\"#fb9f3a\"],[0.8888888888888888,\"#fdca26\"],[1.0,\"#f0f921\"]]}],\"surface\":[{\"type\":\"surface\",\"colorbar\":{\"outlinewidth\":0,\"ticks\":\"\"},\"colorscale\":[[0.0,\"#0d0887\"],[0.1111111111111111,\"#46039f\"],[0.2222222222222222,\"#7201a8\"],[0.3333333333333333,\"#9c179e\"],[0.4444444444444444,\"#bd3786\"],[0.5555555555555556,\"#d8576b\"],[0.6666666666666666,\"#ed7953\"],[0.7777777777777778,\"#fb9f3a\"],[0.8888888888888888,\"#fdca26\"],[1.0,\"#f0f921\"]]}],\"mesh3d\":[{\"type\":\"mesh3d\",\"colorbar\":{\"outlinewidth\":0,\"ticks\":\"\"}}],\"scatter\":[{\"fillpattern\":{\"fillmode\":\"overlay\",\"size\":10,\"solidity\":0.2},\"type\":\"scatter\"}],\"parcoords\":[{\"type\":\"parcoords\",\"line\":{\"colorbar\":{\"outlinewidth\":0,\"ticks\":\"\"}}}],\"scatterpolargl\":[{\"type\":\"scatterpolargl\",\"marker\":{\"colorbar\":{\"outlinewidth\":0,\"ticks\":\"\"}}}],\"bar\":[{\"error_x\":{\"color\":\"#2a3f5f\"},\"error_y\":{\"color\":\"#2a3f5f\"},\"marker\":{\"line\":{\"color\":\"#E5ECF6\",\"width\":0.5},\"pattern\":{\"fillmode\":\"overlay\",\"size\":10,\"solidity\":0.2}},\"type\":\"bar\"}],\"scattergeo\":[{\"type\":\"scattergeo\",\"marker\":{\"colorbar\":{\"outlinewidth\":0,\"ticks\":\"\"}}}],\"scatterpolar\":[{\"type\":\"scatterpolar\",\"marker\":{\"colorbar\":{\"outlinewidth\":0,\"ticks\":\"\"}}}],\"histogram\":[{\"marker\":{\"pattern\":{\"fillmode\":\"overlay\",\"size\":10,\"solidity\":0.2}},\"type\":\"histogram\"}],\"scattergl\":[{\"type\":\"scattergl\",\"marker\":{\"colorbar\":{\"outlinewidth\":0,\"ticks\":\"\"}}}],\"scatter3d\":[{\"type\":\"scatter3d\",\"line\":{\"colorbar\":{\"outlinewidth\":0,\"ticks\":\"\"}},\"marker\":{\"colorbar\":{\"outlinewidth\":0,\"ticks\":\"\"}}}],\"scattermapbox\":[{\"type\":\"scattermapbox\",\"marker\":{\"colorbar\":{\"outlinewidth\":0,\"ticks\":\"\"}}}],\"scatterternary\":[{\"type\":\"scatterternary\",\"marker\":{\"colorbar\":{\"outlinewidth\":0,\"ticks\":\"\"}}}],\"scattercarpet\":[{\"type\":\"scattercarpet\",\"marker\":{\"colorbar\":{\"outlinewidth\":0,\"ticks\":\"\"}}}],\"carpet\":[{\"aaxis\":{\"endlinecolor\":\"#2a3f5f\",\"gridcolor\":\"white\",\"linecolor\":\"white\",\"minorgridcolor\":\"white\",\"startlinecolor\":\"#2a3f5f\"},\"baxis\":{\"endlinecolor\":\"#2a3f5f\",\"gridcolor\":\"white\",\"linecolor\":\"white\",\"minorgridcolor\":\"white\",\"startlinecolor\":\"#2a3f5f\"},\"type\":\"carpet\"}],\"table\":[{\"cells\":{\"fill\":{\"color\":\"#EBF0F8\"},\"line\":{\"color\":\"white\"}},\"header\":{\"fill\":{\"color\":\"#C8D4E3\"},\"line\":{\"color\":\"white\"}},\"type\":\"table\"}],\"barpolar\":[{\"marker\":{\"line\":{\"color\":\"#E5ECF6\",\"width\":0.5},\"pattern\":{\"fillmode\":\"overlay\",\"size\":10,\"solidity\":0.2}},\"type\":\"barpolar\"}],\"pie\":[{\"automargin\":true,\"type\":\"pie\"}]},\"layout\":{\"autotypenumbers\":\"strict\",\"colorway\":[\"#636efa\",\"#EF553B\",\"#00cc96\",\"#ab63fa\",\"#FFA15A\",\"#19d3f3\",\"#FF6692\",\"#B6E880\",\"#FF97FF\",\"#FECB52\"],\"font\":{\"color\":\"#2a3f5f\"},\"hovermode\":\"closest\",\"hoverlabel\":{\"align\":\"left\"},\"paper_bgcolor\":\"white\",\"plot_bgcolor\":\"#E5ECF6\",\"polar\":{\"bgcolor\":\"#E5ECF6\",\"angularaxis\":{\"gridcolor\":\"white\",\"linecolor\":\"white\",\"ticks\":\"\"},\"radialaxis\":{\"gridcolor\":\"white\",\"linecolor\":\"white\",\"ticks\":\"\"}},\"ternary\":{\"bgcolor\":\"#E5ECF6\",\"aaxis\":{\"gridcolor\":\"white\",\"linecolor\":\"white\",\"ticks\":\"\"},\"baxis\":{\"gridcolor\":\"white\",\"linecolor\":\"white\",\"ticks\":\"\"},\"caxis\":{\"gridcolor\":\"white\",\"linecolor\":\"white\",\"ticks\":\"\"}},\"coloraxis\":{\"colorbar\":{\"outlinewidth\":0,\"ticks\":\"\"}},\"colorscale\":{\"sequential\":[[0.0,\"#0d0887\"],[0.1111111111111111,\"#46039f\"],[0.2222222222222222,\"#7201a8\"],[0.3333333333333333,\"#9c179e\"],[0.4444444444444444,\"#bd3786\"],[0.5555555555555556,\"#d8576b\"],[0.6666666666666666,\"#ed7953\"],[0.7777777777777778,\"#fb9f3a\"],[0.8888888888888888,\"#fdca26\"],[1.0,\"#f0f921\"]],\"sequentialminus\":[[0.0,\"#0d0887\"],[0.1111111111111111,\"#46039f\"],[0.2222222222222222,\"#7201a8\"],[0.3333333333333333,\"#9c179e\"],[0.4444444444444444,\"#bd3786\"],[0.5555555555555556,\"#d8576b\"],[0.6666666666666666,\"#ed7953\"],[0.7777777777777778,\"#fb9f3a\"],[0.8888888888888888,\"#fdca26\"],[1.0,\"#f0f921\"]],\"diverging\":[[0,\"#8e0152\"],[0.1,\"#c51b7d\"],[0.2,\"#de77ae\"],[0.3,\"#f1b6da\"],[0.4,\"#fde0ef\"],[0.5,\"#f7f7f7\"],[0.6,\"#e6f5d0\"],[0.7,\"#b8e186\"],[0.8,\"#7fbc41\"],[0.9,\"#4d9221\"],[1,\"#276419\"]]},\"xaxis\":{\"gridcolor\":\"white\",\"linecolor\":\"white\",\"ticks\":\"\",\"title\":{\"standoff\":15},\"zerolinecolor\":\"white\",\"automargin\":true,\"zerolinewidth\":2},\"yaxis\":{\"gridcolor\":\"white\",\"linecolor\":\"white\",\"ticks\":\"\",\"title\":{\"standoff\":15},\"zerolinecolor\":\"white\",\"automargin\":true,\"zerolinewidth\":2},\"scene\":{\"xaxis\":{\"backgroundcolor\":\"#E5ECF6\",\"gridcolor\":\"white\",\"linecolor\":\"white\",\"showbackground\":true,\"ticks\":\"\",\"zerolinecolor\":\"white\",\"gridwidth\":2},\"yaxis\":{\"backgroundcolor\":\"#E5ECF6\",\"gridcolor\":\"white\",\"linecolor\":\"white\",\"showbackground\":true,\"ticks\":\"\",\"zerolinecolor\":\"white\",\"gridwidth\":2},\"zaxis\":{\"backgroundcolor\":\"#E5ECF6\",\"gridcolor\":\"white\",\"linecolor\":\"white\",\"showbackground\":true,\"ticks\":\"\",\"zerolinecolor\":\"white\",\"gridwidth\":2}},\"shapedefaults\":{\"line\":{\"color\":\"#2a3f5f\"}},\"annotationdefaults\":{\"arrowcolor\":\"#2a3f5f\",\"arrowhead\":0,\"arrowwidth\":1},\"geo\":{\"bgcolor\":\"white\",\"landcolor\":\"#E5ECF6\",\"subunitcolor\":\"white\",\"showland\":true,\"showlakes\":true,\"lakecolor\":\"white\"},\"title\":{\"x\":0.05},\"mapbox\":{\"style\":\"light\"}}},\"xaxis\":{\"anchor\":\"y\",\"domain\":[0.0,1.0],\"title\":{\"text\":\"Streams\"}},\"yaxis\":{\"anchor\":\"x\",\"domain\":[0.0,1.0],\"title\":{\"text\":\"Artist Name\"}},\"legend\":{\"tracegroupgap\":0},\"title\":{\"text\":\"Top 10 Artists\",\"x\":0.5},\"barmode\":\"relative\",\"font\":{\"color\":\"white\",\"size\":16},\"plot_bgcolor\":\"black\",\"paper_bgcolor\":\"black\"},                        {\"responsive\": true}                    ).then(function(){\n",
              "                            \n",
              "var gd = document.getElementById('878b90d5-7be0-4e8d-9a85-eeab3b5bad7e');\n",
              "var x = new MutationObserver(function (mutations, observer) {{\n",
              "        var display = window.getComputedStyle(gd).display;\n",
              "        if (!display || display === 'none') {{\n",
              "            console.log([gd, 'removed!']);\n",
              "            Plotly.purge(gd);\n",
              "            observer.disconnect();\n",
              "        }}\n",
              "}});\n",
              "\n",
              "// Listen for the removal of the full notebook cells\n",
              "var notebookContainer = gd.closest('#notebook-container');\n",
              "if (notebookContainer) {{\n",
              "    x.observe(notebookContainer, {childList: true});\n",
              "}}\n",
              "\n",
              "// Listen for the clearing of the current output cell\n",
              "var outputEl = gd.closest('.output');\n",
              "if (outputEl) {{\n",
              "    x.observe(outputEl, {childList: true});\n",
              "}}\n",
              "\n",
              "                        })                };                            </script>        </div>\n",
              "</body>\n",
              "</html>"
            ]
          },
          "metadata": {}
        }
      ]
    },
    {
      "cell_type": "markdown",
      "source": [
        "## What is the Top 10 Artists with Most Songs?"
      ],
      "metadata": {
        "id": "6RK0BqG3NOsY"
      }
    },
    {
      "cell_type": "code",
      "source": [
        "# Taking the 10 artists with the most songs\n",
        "top_artists = data['artist(s)_name'].value_counts().head(10).reset_index()\n",
        "top_artists.columns = ['Artist(s) Name', 'Number of Songs']"
      ],
      "metadata": {
        "id": "jOXcTzCN-WNu"
      },
      "execution_count": 11,
      "outputs": []
    },
    {
      "cell_type": "code",
      "source": [
        "# Create a bar chart with Plotly Express and add the number of songs as text on top of each bar\n",
        "fig = px.bar(\n",
        "    top_artists,\n",
        "    x='Artist(s) Name',\n",
        "    y='Number of Songs',\n",
        "    text='Number of Songs',  # Add the 'Number of Songs' column as text on the bars\n",
        ")\n",
        "\n",
        "# Customize the layout\n",
        "fig.update_layout(\n",
        "    plot_bgcolor='black',  # Set the background to black\n",
        "    paper_bgcolor='black', # Set the paper background to black\n",
        "    xaxis=dict(showgrid=False),  # Remove x-axis gridlines\n",
        "    yaxis=dict(showgrid=False),  # Remove y-axis gridlines\n",
        "    font=dict(color='white', size=16),  # Increase font size and set font color to white\n",
        "    title=dict(text='Top 10 Artists with Most Songs', x=0.5),  # Center the title\n",
        ")\n",
        "\n",
        "# Customize the bar colors to green\n",
        "fig.update_traces(marker_color='green')\n",
        "\n",
        "# Show the plot\n",
        "fig.show()"
      ],
      "metadata": {
        "colab": {
          "base_uri": "https://localhost:8080/",
          "height": 542
        },
        "id": "3S8BQUz59kYw",
        "outputId": "d87ab230-5d44-4c99-d120-277bcfb85723"
      },
      "execution_count": 12,
      "outputs": [
        {
          "output_type": "display_data",
          "data": {
            "text/html": [
              "<html>\n",
              "<head><meta charset=\"utf-8\" /></head>\n",
              "<body>\n",
              "    <div>            <script src=\"https://cdnjs.cloudflare.com/ajax/libs/mathjax/2.7.5/MathJax.js?config=TeX-AMS-MML_SVG\"></script><script type=\"text/javascript\">if (window.MathJax && window.MathJax.Hub && window.MathJax.Hub.Config) {window.MathJax.Hub.Config({SVG: {font: \"STIX-Web\"}});}</script>                <script type=\"text/javascript\">window.PlotlyConfig = {MathJaxConfig: 'local'};</script>\n",
              "        <script charset=\"utf-8\" src=\"https://cdn.plot.ly/plotly-2.24.1.min.js\"></script>                <div id=\"4879f655-ec29-4b6b-b7d7-037650c5a17a\" class=\"plotly-graph-div\" style=\"height:525px; width:100%;\"></div>            <script type=\"text/javascript\">                                    window.PLOTLYENV=window.PLOTLYENV || {};                                    if (document.getElementById(\"4879f655-ec29-4b6b-b7d7-037650c5a17a\")) {                    Plotly.newPlot(                        \"4879f655-ec29-4b6b-b7d7-037650c5a17a\",                        [{\"alignmentgroup\":\"True\",\"hovertemplate\":\"Artist(s) Name=%{x}\\u003cbr\\u003eNumber of Songs=%{text}\\u003cextra\\u003e\\u003c\\u002fextra\\u003e\",\"legendgroup\":\"\",\"marker\":{\"color\":\"green\",\"pattern\":{\"shape\":\"\"}},\"name\":\"\",\"offsetgroup\":\"\",\"orientation\":\"v\",\"showlegend\":false,\"text\":[34.0,22.0,19.0,19.0,17.0,12.0,11.0,9.0,8.0,8.0],\"textposition\":\"auto\",\"x\":[\"Taylor Swift\",\"The Weeknd\",\"Bad Bunny\",\"SZA\",\"Harry Styles\",\"Kendrick Lamar\",\"Morgan Wallen\",\"Ed Sheeran\",\"BTS\",\"Feid\"],\"xaxis\":\"x\",\"y\":[34,22,19,19,17,12,11,9,8,8],\"yaxis\":\"y\",\"type\":\"bar\"}],                        {\"template\":{\"data\":{\"histogram2dcontour\":[{\"type\":\"histogram2dcontour\",\"colorbar\":{\"outlinewidth\":0,\"ticks\":\"\"},\"colorscale\":[[0.0,\"#0d0887\"],[0.1111111111111111,\"#46039f\"],[0.2222222222222222,\"#7201a8\"],[0.3333333333333333,\"#9c179e\"],[0.4444444444444444,\"#bd3786\"],[0.5555555555555556,\"#d8576b\"],[0.6666666666666666,\"#ed7953\"],[0.7777777777777778,\"#fb9f3a\"],[0.8888888888888888,\"#fdca26\"],[1.0,\"#f0f921\"]]}],\"choropleth\":[{\"type\":\"choropleth\",\"colorbar\":{\"outlinewidth\":0,\"ticks\":\"\"}}],\"histogram2d\":[{\"type\":\"histogram2d\",\"colorbar\":{\"outlinewidth\":0,\"ticks\":\"\"},\"colorscale\":[[0.0,\"#0d0887\"],[0.1111111111111111,\"#46039f\"],[0.2222222222222222,\"#7201a8\"],[0.3333333333333333,\"#9c179e\"],[0.4444444444444444,\"#bd3786\"],[0.5555555555555556,\"#d8576b\"],[0.6666666666666666,\"#ed7953\"],[0.7777777777777778,\"#fb9f3a\"],[0.8888888888888888,\"#fdca26\"],[1.0,\"#f0f921\"]]}],\"heatmap\":[{\"type\":\"heatmap\",\"colorbar\":{\"outlinewidth\":0,\"ticks\":\"\"},\"colorscale\":[[0.0,\"#0d0887\"],[0.1111111111111111,\"#46039f\"],[0.2222222222222222,\"#7201a8\"],[0.3333333333333333,\"#9c179e\"],[0.4444444444444444,\"#bd3786\"],[0.5555555555555556,\"#d8576b\"],[0.6666666666666666,\"#ed7953\"],[0.7777777777777778,\"#fb9f3a\"],[0.8888888888888888,\"#fdca26\"],[1.0,\"#f0f921\"]]}],\"heatmapgl\":[{\"type\":\"heatmapgl\",\"colorbar\":{\"outlinewidth\":0,\"ticks\":\"\"},\"colorscale\":[[0.0,\"#0d0887\"],[0.1111111111111111,\"#46039f\"],[0.2222222222222222,\"#7201a8\"],[0.3333333333333333,\"#9c179e\"],[0.4444444444444444,\"#bd3786\"],[0.5555555555555556,\"#d8576b\"],[0.6666666666666666,\"#ed7953\"],[0.7777777777777778,\"#fb9f3a\"],[0.8888888888888888,\"#fdca26\"],[1.0,\"#f0f921\"]]}],\"contourcarpet\":[{\"type\":\"contourcarpet\",\"colorbar\":{\"outlinewidth\":0,\"ticks\":\"\"}}],\"contour\":[{\"type\":\"contour\",\"colorbar\":{\"outlinewidth\":0,\"ticks\":\"\"},\"colorscale\":[[0.0,\"#0d0887\"],[0.1111111111111111,\"#46039f\"],[0.2222222222222222,\"#7201a8\"],[0.3333333333333333,\"#9c179e\"],[0.4444444444444444,\"#bd3786\"],[0.5555555555555556,\"#d8576b\"],[0.6666666666666666,\"#ed7953\"],[0.7777777777777778,\"#fb9f3a\"],[0.8888888888888888,\"#fdca26\"],[1.0,\"#f0f921\"]]}],\"surface\":[{\"type\":\"surface\",\"colorbar\":{\"outlinewidth\":0,\"ticks\":\"\"},\"colorscale\":[[0.0,\"#0d0887\"],[0.1111111111111111,\"#46039f\"],[0.2222222222222222,\"#7201a8\"],[0.3333333333333333,\"#9c179e\"],[0.4444444444444444,\"#bd3786\"],[0.5555555555555556,\"#d8576b\"],[0.6666666666666666,\"#ed7953\"],[0.7777777777777778,\"#fb9f3a\"],[0.8888888888888888,\"#fdca26\"],[1.0,\"#f0f921\"]]}],\"mesh3d\":[{\"type\":\"mesh3d\",\"colorbar\":{\"outlinewidth\":0,\"ticks\":\"\"}}],\"scatter\":[{\"fillpattern\":{\"fillmode\":\"overlay\",\"size\":10,\"solidity\":0.2},\"type\":\"scatter\"}],\"parcoords\":[{\"type\":\"parcoords\",\"line\":{\"colorbar\":{\"outlinewidth\":0,\"ticks\":\"\"}}}],\"scatterpolargl\":[{\"type\":\"scatterpolargl\",\"marker\":{\"colorbar\":{\"outlinewidth\":0,\"ticks\":\"\"}}}],\"bar\":[{\"error_x\":{\"color\":\"#2a3f5f\"},\"error_y\":{\"color\":\"#2a3f5f\"},\"marker\":{\"line\":{\"color\":\"#E5ECF6\",\"width\":0.5},\"pattern\":{\"fillmode\":\"overlay\",\"size\":10,\"solidity\":0.2}},\"type\":\"bar\"}],\"scattergeo\":[{\"type\":\"scattergeo\",\"marker\":{\"colorbar\":{\"outlinewidth\":0,\"ticks\":\"\"}}}],\"scatterpolar\":[{\"type\":\"scatterpolar\",\"marker\":{\"colorbar\":{\"outlinewidth\":0,\"ticks\":\"\"}}}],\"histogram\":[{\"marker\":{\"pattern\":{\"fillmode\":\"overlay\",\"size\":10,\"solidity\":0.2}},\"type\":\"histogram\"}],\"scattergl\":[{\"type\":\"scattergl\",\"marker\":{\"colorbar\":{\"outlinewidth\":0,\"ticks\":\"\"}}}],\"scatter3d\":[{\"type\":\"scatter3d\",\"line\":{\"colorbar\":{\"outlinewidth\":0,\"ticks\":\"\"}},\"marker\":{\"colorbar\":{\"outlinewidth\":0,\"ticks\":\"\"}}}],\"scattermapbox\":[{\"type\":\"scattermapbox\",\"marker\":{\"colorbar\":{\"outlinewidth\":0,\"ticks\":\"\"}}}],\"scatterternary\":[{\"type\":\"scatterternary\",\"marker\":{\"colorbar\":{\"outlinewidth\":0,\"ticks\":\"\"}}}],\"scattercarpet\":[{\"type\":\"scattercarpet\",\"marker\":{\"colorbar\":{\"outlinewidth\":0,\"ticks\":\"\"}}}],\"carpet\":[{\"aaxis\":{\"endlinecolor\":\"#2a3f5f\",\"gridcolor\":\"white\",\"linecolor\":\"white\",\"minorgridcolor\":\"white\",\"startlinecolor\":\"#2a3f5f\"},\"baxis\":{\"endlinecolor\":\"#2a3f5f\",\"gridcolor\":\"white\",\"linecolor\":\"white\",\"minorgridcolor\":\"white\",\"startlinecolor\":\"#2a3f5f\"},\"type\":\"carpet\"}],\"table\":[{\"cells\":{\"fill\":{\"color\":\"#EBF0F8\"},\"line\":{\"color\":\"white\"}},\"header\":{\"fill\":{\"color\":\"#C8D4E3\"},\"line\":{\"color\":\"white\"}},\"type\":\"table\"}],\"barpolar\":[{\"marker\":{\"line\":{\"color\":\"#E5ECF6\",\"width\":0.5},\"pattern\":{\"fillmode\":\"overlay\",\"size\":10,\"solidity\":0.2}},\"type\":\"barpolar\"}],\"pie\":[{\"automargin\":true,\"type\":\"pie\"}]},\"layout\":{\"autotypenumbers\":\"strict\",\"colorway\":[\"#636efa\",\"#EF553B\",\"#00cc96\",\"#ab63fa\",\"#FFA15A\",\"#19d3f3\",\"#FF6692\",\"#B6E880\",\"#FF97FF\",\"#FECB52\"],\"font\":{\"color\":\"#2a3f5f\"},\"hovermode\":\"closest\",\"hoverlabel\":{\"align\":\"left\"},\"paper_bgcolor\":\"white\",\"plot_bgcolor\":\"#E5ECF6\",\"polar\":{\"bgcolor\":\"#E5ECF6\",\"angularaxis\":{\"gridcolor\":\"white\",\"linecolor\":\"white\",\"ticks\":\"\"},\"radialaxis\":{\"gridcolor\":\"white\",\"linecolor\":\"white\",\"ticks\":\"\"}},\"ternary\":{\"bgcolor\":\"#E5ECF6\",\"aaxis\":{\"gridcolor\":\"white\",\"linecolor\":\"white\",\"ticks\":\"\"},\"baxis\":{\"gridcolor\":\"white\",\"linecolor\":\"white\",\"ticks\":\"\"},\"caxis\":{\"gridcolor\":\"white\",\"linecolor\":\"white\",\"ticks\":\"\"}},\"coloraxis\":{\"colorbar\":{\"outlinewidth\":0,\"ticks\":\"\"}},\"colorscale\":{\"sequential\":[[0.0,\"#0d0887\"],[0.1111111111111111,\"#46039f\"],[0.2222222222222222,\"#7201a8\"],[0.3333333333333333,\"#9c179e\"],[0.4444444444444444,\"#bd3786\"],[0.5555555555555556,\"#d8576b\"],[0.6666666666666666,\"#ed7953\"],[0.7777777777777778,\"#fb9f3a\"],[0.8888888888888888,\"#fdca26\"],[1.0,\"#f0f921\"]],\"sequentialminus\":[[0.0,\"#0d0887\"],[0.1111111111111111,\"#46039f\"],[0.2222222222222222,\"#7201a8\"],[0.3333333333333333,\"#9c179e\"],[0.4444444444444444,\"#bd3786\"],[0.5555555555555556,\"#d8576b\"],[0.6666666666666666,\"#ed7953\"],[0.7777777777777778,\"#fb9f3a\"],[0.8888888888888888,\"#fdca26\"],[1.0,\"#f0f921\"]],\"diverging\":[[0,\"#8e0152\"],[0.1,\"#c51b7d\"],[0.2,\"#de77ae\"],[0.3,\"#f1b6da\"],[0.4,\"#fde0ef\"],[0.5,\"#f7f7f7\"],[0.6,\"#e6f5d0\"],[0.7,\"#b8e186\"],[0.8,\"#7fbc41\"],[0.9,\"#4d9221\"],[1,\"#276419\"]]},\"xaxis\":{\"gridcolor\":\"white\",\"linecolor\":\"white\",\"ticks\":\"\",\"title\":{\"standoff\":15},\"zerolinecolor\":\"white\",\"automargin\":true,\"zerolinewidth\":2},\"yaxis\":{\"gridcolor\":\"white\",\"linecolor\":\"white\",\"ticks\":\"\",\"title\":{\"standoff\":15},\"zerolinecolor\":\"white\",\"automargin\":true,\"zerolinewidth\":2},\"scene\":{\"xaxis\":{\"backgroundcolor\":\"#E5ECF6\",\"gridcolor\":\"white\",\"linecolor\":\"white\",\"showbackground\":true,\"ticks\":\"\",\"zerolinecolor\":\"white\",\"gridwidth\":2},\"yaxis\":{\"backgroundcolor\":\"#E5ECF6\",\"gridcolor\":\"white\",\"linecolor\":\"white\",\"showbackground\":true,\"ticks\":\"\",\"zerolinecolor\":\"white\",\"gridwidth\":2},\"zaxis\":{\"backgroundcolor\":\"#E5ECF6\",\"gridcolor\":\"white\",\"linecolor\":\"white\",\"showbackground\":true,\"ticks\":\"\",\"zerolinecolor\":\"white\",\"gridwidth\":2}},\"shapedefaults\":{\"line\":{\"color\":\"#2a3f5f\"}},\"annotationdefaults\":{\"arrowcolor\":\"#2a3f5f\",\"arrowhead\":0,\"arrowwidth\":1},\"geo\":{\"bgcolor\":\"white\",\"landcolor\":\"#E5ECF6\",\"subunitcolor\":\"white\",\"showland\":true,\"showlakes\":true,\"lakecolor\":\"white\"},\"title\":{\"x\":0.05},\"mapbox\":{\"style\":\"light\"}}},\"xaxis\":{\"anchor\":\"y\",\"domain\":[0.0,1.0],\"title\":{\"text\":\"Artist(s) Name\"},\"showgrid\":false},\"yaxis\":{\"anchor\":\"x\",\"domain\":[0.0,1.0],\"title\":{\"text\":\"Number of Songs\"},\"showgrid\":false},\"legend\":{\"tracegroupgap\":0},\"margin\":{\"t\":60},\"barmode\":\"relative\",\"font\":{\"color\":\"white\",\"size\":16},\"title\":{\"text\":\"Top 10 Artists with Most Songs\",\"x\":0.5},\"plot_bgcolor\":\"black\",\"paper_bgcolor\":\"black\"},                        {\"responsive\": true}                    ).then(function(){\n",
              "                            \n",
              "var gd = document.getElementById('4879f655-ec29-4b6b-b7d7-037650c5a17a');\n",
              "var x = new MutationObserver(function (mutations, observer) {{\n",
              "        var display = window.getComputedStyle(gd).display;\n",
              "        if (!display || display === 'none') {{\n",
              "            console.log([gd, 'removed!']);\n",
              "            Plotly.purge(gd);\n",
              "            observer.disconnect();\n",
              "        }}\n",
              "}});\n",
              "\n",
              "// Listen for the removal of the full notebook cells\n",
              "var notebookContainer = gd.closest('#notebook-container');\n",
              "if (notebookContainer) {{\n",
              "    x.observe(notebookContainer, {childList: true});\n",
              "}}\n",
              "\n",
              "// Listen for the clearing of the current output cell\n",
              "var outputEl = gd.closest('.output');\n",
              "if (outputEl) {{\n",
              "    x.observe(outputEl, {childList: true});\n",
              "}}\n",
              "\n",
              "                        })                };                            </script>        </div>\n",
              "</body>\n",
              "</html>"
            ]
          },
          "metadata": {}
        }
      ]
    },
    {
      "cell_type": "markdown",
      "source": [
        "## What is the Top 10 songs with most streams on Spotify?"
      ],
      "metadata": {
        "id": "yHCCZjfcQNor"
      }
    },
    {
      "cell_type": "code",
      "source": [
        "# Select the top 10 songs with the most streams on Spotify and sort them in ascending order\n",
        "top_spotify_streams = data[['track_name', 'artist(s)_name', 'streams']].sort_values(by='streams', ascending=False).head(10)"
      ],
      "metadata": {
        "id": "nEPNJzCyAT9-"
      },
      "execution_count": 13,
      "outputs": []
    },
    {
      "cell_type": "code",
      "source": [
        "# Format the stream values with 3 digits before the comma, 3 digits after the comma, and \"B\" for billions\n",
        "top_spotify_streams['formatted_streams'] = top_spotify_streams['streams'].apply(lambda x: f'{x/1e9:.3f}B')\n",
        "\n",
        "# Create a bar chart with Plotly Express\n",
        "fig = px.bar(\n",
        "    top_spotify_streams,\n",
        "    x='streams',\n",
        "    y='track_name',\n",
        "    orientation='h',  # Horizontal orientation for the bars\n",
        "    text='formatted_streams',   # Use the formatted column as text on the bars\n",
        "    title='Top 10 Songs with Least Streams on Spotify (Ascending Order)'\n",
        ")\n",
        "\n",
        "# Customize the layout\n",
        "fig.update_layout(\n",
        "    plot_bgcolor='black',  # Set the background to black\n",
        "    paper_bgcolor='black', # Set the paper background to black\n",
        "    xaxis=dict(showgrid=False),  # Remove x-axis gridlines\n",
        "    yaxis=dict(showgrid=False),  # Remove y-axis gridlines\n",
        "    font=dict(color='white', size=16),  # Increase font size and set font color to white\n",
        "    title=dict(text='Top 10 Songs with Least Streams on Spotify (Ascending Order)', x=0.5),  # Center the title\n",
        ")\n",
        "\n",
        "# Customize the bar colors to green\n",
        "fig.update_traces(marker_color='green')\n",
        "\n",
        "# Show the plot\n",
        "fig.show()\n"
      ],
      "metadata": {
        "colab": {
          "base_uri": "https://localhost:8080/",
          "height": 542
        },
        "id": "U_VD1QXK-n0X",
        "outputId": "b640a3d2-6cfb-4889-f092-003c369d2cb8"
      },
      "execution_count": 14,
      "outputs": [
        {
          "output_type": "display_data",
          "data": {
            "text/html": [
              "<html>\n",
              "<head><meta charset=\"utf-8\" /></head>\n",
              "<body>\n",
              "    <div>            <script src=\"https://cdnjs.cloudflare.com/ajax/libs/mathjax/2.7.5/MathJax.js?config=TeX-AMS-MML_SVG\"></script><script type=\"text/javascript\">if (window.MathJax && window.MathJax.Hub && window.MathJax.Hub.Config) {window.MathJax.Hub.Config({SVG: {font: \"STIX-Web\"}});}</script>                <script type=\"text/javascript\">window.PlotlyConfig = {MathJaxConfig: 'local'};</script>\n",
              "        <script charset=\"utf-8\" src=\"https://cdn.plot.ly/plotly-2.24.1.min.js\"></script>                <div id=\"45efc347-1d92-4594-8738-8be8ccf32742\" class=\"plotly-graph-div\" style=\"height:525px; width:100%;\"></div>            <script type=\"text/javascript\">                                    window.PLOTLYENV=window.PLOTLYENV || {};                                    if (document.getElementById(\"45efc347-1d92-4594-8738-8be8ccf32742\")) {                    Plotly.newPlot(                        \"45efc347-1d92-4594-8738-8be8ccf32742\",                        [{\"alignmentgroup\":\"True\",\"hovertemplate\":\"streams=%{x}\\u003cbr\\u003etrack_name=%{y}\\u003cbr\\u003eformatted_streams=%{text}\\u003cextra\\u003e\\u003c\\u002fextra\\u003e\",\"legendgroup\":\"\",\"marker\":{\"color\":\"green\",\"pattern\":{\"shape\":\"\"}},\"name\":\"\",\"offsetgroup\":\"\",\"orientation\":\"h\",\"showlegend\":false,\"text\":[\"3.704B\",\"3.563B\",\"2.887B\",\"2.865B\",\"2.808B\",\"2.714B\",\"2.665B\",\"2.594B\",\"2.591B\",\"2.566B\"],\"textposition\":\"auto\",\"x\":[3703895074.0,3562543890.0,2887241814.0,2864791672.0,2808096550.0,2713922350.0,2665343922.0,2594040133.0,2591224264.0,2565529693.0],\"xaxis\":\"x\",\"y\":[\"Blinding Lights\",\"Shape of You\",\"Someone You Loved\",\"Dance Monkey\",\"Sunflower - Spider-Man: Into the Spider-Verse\",\"One Dance\",\"STAY (with Justin Bieber)\",\"Believer\",\"Closer\",\"Starboy\"],\"yaxis\":\"y\",\"type\":\"bar\"}],                        {\"template\":{\"data\":{\"histogram2dcontour\":[{\"type\":\"histogram2dcontour\",\"colorbar\":{\"outlinewidth\":0,\"ticks\":\"\"},\"colorscale\":[[0.0,\"#0d0887\"],[0.1111111111111111,\"#46039f\"],[0.2222222222222222,\"#7201a8\"],[0.3333333333333333,\"#9c179e\"],[0.4444444444444444,\"#bd3786\"],[0.5555555555555556,\"#d8576b\"],[0.6666666666666666,\"#ed7953\"],[0.7777777777777778,\"#fb9f3a\"],[0.8888888888888888,\"#fdca26\"],[1.0,\"#f0f921\"]]}],\"choropleth\":[{\"type\":\"choropleth\",\"colorbar\":{\"outlinewidth\":0,\"ticks\":\"\"}}],\"histogram2d\":[{\"type\":\"histogram2d\",\"colorbar\":{\"outlinewidth\":0,\"ticks\":\"\"},\"colorscale\":[[0.0,\"#0d0887\"],[0.1111111111111111,\"#46039f\"],[0.2222222222222222,\"#7201a8\"],[0.3333333333333333,\"#9c179e\"],[0.4444444444444444,\"#bd3786\"],[0.5555555555555556,\"#d8576b\"],[0.6666666666666666,\"#ed7953\"],[0.7777777777777778,\"#fb9f3a\"],[0.8888888888888888,\"#fdca26\"],[1.0,\"#f0f921\"]]}],\"heatmap\":[{\"type\":\"heatmap\",\"colorbar\":{\"outlinewidth\":0,\"ticks\":\"\"},\"colorscale\":[[0.0,\"#0d0887\"],[0.1111111111111111,\"#46039f\"],[0.2222222222222222,\"#7201a8\"],[0.3333333333333333,\"#9c179e\"],[0.4444444444444444,\"#bd3786\"],[0.5555555555555556,\"#d8576b\"],[0.6666666666666666,\"#ed7953\"],[0.7777777777777778,\"#fb9f3a\"],[0.8888888888888888,\"#fdca26\"],[1.0,\"#f0f921\"]]}],\"heatmapgl\":[{\"type\":\"heatmapgl\",\"colorbar\":{\"outlinewidth\":0,\"ticks\":\"\"},\"colorscale\":[[0.0,\"#0d0887\"],[0.1111111111111111,\"#46039f\"],[0.2222222222222222,\"#7201a8\"],[0.3333333333333333,\"#9c179e\"],[0.4444444444444444,\"#bd3786\"],[0.5555555555555556,\"#d8576b\"],[0.6666666666666666,\"#ed7953\"],[0.7777777777777778,\"#fb9f3a\"],[0.8888888888888888,\"#fdca26\"],[1.0,\"#f0f921\"]]}],\"contourcarpet\":[{\"type\":\"contourcarpet\",\"colorbar\":{\"outlinewidth\":0,\"ticks\":\"\"}}],\"contour\":[{\"type\":\"contour\",\"colorbar\":{\"outlinewidth\":0,\"ticks\":\"\"},\"colorscale\":[[0.0,\"#0d0887\"],[0.1111111111111111,\"#46039f\"],[0.2222222222222222,\"#7201a8\"],[0.3333333333333333,\"#9c179e\"],[0.4444444444444444,\"#bd3786\"],[0.5555555555555556,\"#d8576b\"],[0.6666666666666666,\"#ed7953\"],[0.7777777777777778,\"#fb9f3a\"],[0.8888888888888888,\"#fdca26\"],[1.0,\"#f0f921\"]]}],\"surface\":[{\"type\":\"surface\",\"colorbar\":{\"outlinewidth\":0,\"ticks\":\"\"},\"colorscale\":[[0.0,\"#0d0887\"],[0.1111111111111111,\"#46039f\"],[0.2222222222222222,\"#7201a8\"],[0.3333333333333333,\"#9c179e\"],[0.4444444444444444,\"#bd3786\"],[0.5555555555555556,\"#d8576b\"],[0.6666666666666666,\"#ed7953\"],[0.7777777777777778,\"#fb9f3a\"],[0.8888888888888888,\"#fdca26\"],[1.0,\"#f0f921\"]]}],\"mesh3d\":[{\"type\":\"mesh3d\",\"colorbar\":{\"outlinewidth\":0,\"ticks\":\"\"}}],\"scatter\":[{\"fillpattern\":{\"fillmode\":\"overlay\",\"size\":10,\"solidity\":0.2},\"type\":\"scatter\"}],\"parcoords\":[{\"type\":\"parcoords\",\"line\":{\"colorbar\":{\"outlinewidth\":0,\"ticks\":\"\"}}}],\"scatterpolargl\":[{\"type\":\"scatterpolargl\",\"marker\":{\"colorbar\":{\"outlinewidth\":0,\"ticks\":\"\"}}}],\"bar\":[{\"error_x\":{\"color\":\"#2a3f5f\"},\"error_y\":{\"color\":\"#2a3f5f\"},\"marker\":{\"line\":{\"color\":\"#E5ECF6\",\"width\":0.5},\"pattern\":{\"fillmode\":\"overlay\",\"size\":10,\"solidity\":0.2}},\"type\":\"bar\"}],\"scattergeo\":[{\"type\":\"scattergeo\",\"marker\":{\"colorbar\":{\"outlinewidth\":0,\"ticks\":\"\"}}}],\"scatterpolar\":[{\"type\":\"scatterpolar\",\"marker\":{\"colorbar\":{\"outlinewidth\":0,\"ticks\":\"\"}}}],\"histogram\":[{\"marker\":{\"pattern\":{\"fillmode\":\"overlay\",\"size\":10,\"solidity\":0.2}},\"type\":\"histogram\"}],\"scattergl\":[{\"type\":\"scattergl\",\"marker\":{\"colorbar\":{\"outlinewidth\":0,\"ticks\":\"\"}}}],\"scatter3d\":[{\"type\":\"scatter3d\",\"line\":{\"colorbar\":{\"outlinewidth\":0,\"ticks\":\"\"}},\"marker\":{\"colorbar\":{\"outlinewidth\":0,\"ticks\":\"\"}}}],\"scattermapbox\":[{\"type\":\"scattermapbox\",\"marker\":{\"colorbar\":{\"outlinewidth\":0,\"ticks\":\"\"}}}],\"scatterternary\":[{\"type\":\"scatterternary\",\"marker\":{\"colorbar\":{\"outlinewidth\":0,\"ticks\":\"\"}}}],\"scattercarpet\":[{\"type\":\"scattercarpet\",\"marker\":{\"colorbar\":{\"outlinewidth\":0,\"ticks\":\"\"}}}],\"carpet\":[{\"aaxis\":{\"endlinecolor\":\"#2a3f5f\",\"gridcolor\":\"white\",\"linecolor\":\"white\",\"minorgridcolor\":\"white\",\"startlinecolor\":\"#2a3f5f\"},\"baxis\":{\"endlinecolor\":\"#2a3f5f\",\"gridcolor\":\"white\",\"linecolor\":\"white\",\"minorgridcolor\":\"white\",\"startlinecolor\":\"#2a3f5f\"},\"type\":\"carpet\"}],\"table\":[{\"cells\":{\"fill\":{\"color\":\"#EBF0F8\"},\"line\":{\"color\":\"white\"}},\"header\":{\"fill\":{\"color\":\"#C8D4E3\"},\"line\":{\"color\":\"white\"}},\"type\":\"table\"}],\"barpolar\":[{\"marker\":{\"line\":{\"color\":\"#E5ECF6\",\"width\":0.5},\"pattern\":{\"fillmode\":\"overlay\",\"size\":10,\"solidity\":0.2}},\"type\":\"barpolar\"}],\"pie\":[{\"automargin\":true,\"type\":\"pie\"}]},\"layout\":{\"autotypenumbers\":\"strict\",\"colorway\":[\"#636efa\",\"#EF553B\",\"#00cc96\",\"#ab63fa\",\"#FFA15A\",\"#19d3f3\",\"#FF6692\",\"#B6E880\",\"#FF97FF\",\"#FECB52\"],\"font\":{\"color\":\"#2a3f5f\"},\"hovermode\":\"closest\",\"hoverlabel\":{\"align\":\"left\"},\"paper_bgcolor\":\"white\",\"plot_bgcolor\":\"#E5ECF6\",\"polar\":{\"bgcolor\":\"#E5ECF6\",\"angularaxis\":{\"gridcolor\":\"white\",\"linecolor\":\"white\",\"ticks\":\"\"},\"radialaxis\":{\"gridcolor\":\"white\",\"linecolor\":\"white\",\"ticks\":\"\"}},\"ternary\":{\"bgcolor\":\"#E5ECF6\",\"aaxis\":{\"gridcolor\":\"white\",\"linecolor\":\"white\",\"ticks\":\"\"},\"baxis\":{\"gridcolor\":\"white\",\"linecolor\":\"white\",\"ticks\":\"\"},\"caxis\":{\"gridcolor\":\"white\",\"linecolor\":\"white\",\"ticks\":\"\"}},\"coloraxis\":{\"colorbar\":{\"outlinewidth\":0,\"ticks\":\"\"}},\"colorscale\":{\"sequential\":[[0.0,\"#0d0887\"],[0.1111111111111111,\"#46039f\"],[0.2222222222222222,\"#7201a8\"],[0.3333333333333333,\"#9c179e\"],[0.4444444444444444,\"#bd3786\"],[0.5555555555555556,\"#d8576b\"],[0.6666666666666666,\"#ed7953\"],[0.7777777777777778,\"#fb9f3a\"],[0.8888888888888888,\"#fdca26\"],[1.0,\"#f0f921\"]],\"sequentialminus\":[[0.0,\"#0d0887\"],[0.1111111111111111,\"#46039f\"],[0.2222222222222222,\"#7201a8\"],[0.3333333333333333,\"#9c179e\"],[0.4444444444444444,\"#bd3786\"],[0.5555555555555556,\"#d8576b\"],[0.6666666666666666,\"#ed7953\"],[0.7777777777777778,\"#fb9f3a\"],[0.8888888888888888,\"#fdca26\"],[1.0,\"#f0f921\"]],\"diverging\":[[0,\"#8e0152\"],[0.1,\"#c51b7d\"],[0.2,\"#de77ae\"],[0.3,\"#f1b6da\"],[0.4,\"#fde0ef\"],[0.5,\"#f7f7f7\"],[0.6,\"#e6f5d0\"],[0.7,\"#b8e186\"],[0.8,\"#7fbc41\"],[0.9,\"#4d9221\"],[1,\"#276419\"]]},\"xaxis\":{\"gridcolor\":\"white\",\"linecolor\":\"white\",\"ticks\":\"\",\"title\":{\"standoff\":15},\"zerolinecolor\":\"white\",\"automargin\":true,\"zerolinewidth\":2},\"yaxis\":{\"gridcolor\":\"white\",\"linecolor\":\"white\",\"ticks\":\"\",\"title\":{\"standoff\":15},\"zerolinecolor\":\"white\",\"automargin\":true,\"zerolinewidth\":2},\"scene\":{\"xaxis\":{\"backgroundcolor\":\"#E5ECF6\",\"gridcolor\":\"white\",\"linecolor\":\"white\",\"showbackground\":true,\"ticks\":\"\",\"zerolinecolor\":\"white\",\"gridwidth\":2},\"yaxis\":{\"backgroundcolor\":\"#E5ECF6\",\"gridcolor\":\"white\",\"linecolor\":\"white\",\"showbackground\":true,\"ticks\":\"\",\"zerolinecolor\":\"white\",\"gridwidth\":2},\"zaxis\":{\"backgroundcolor\":\"#E5ECF6\",\"gridcolor\":\"white\",\"linecolor\":\"white\",\"showbackground\":true,\"ticks\":\"\",\"zerolinecolor\":\"white\",\"gridwidth\":2}},\"shapedefaults\":{\"line\":{\"color\":\"#2a3f5f\"}},\"annotationdefaults\":{\"arrowcolor\":\"#2a3f5f\",\"arrowhead\":0,\"arrowwidth\":1},\"geo\":{\"bgcolor\":\"white\",\"landcolor\":\"#E5ECF6\",\"subunitcolor\":\"white\",\"showland\":true,\"showlakes\":true,\"lakecolor\":\"white\"},\"title\":{\"x\":0.05},\"mapbox\":{\"style\":\"light\"}}},\"xaxis\":{\"anchor\":\"y\",\"domain\":[0.0,1.0],\"title\":{\"text\":\"streams\"},\"showgrid\":false},\"yaxis\":{\"anchor\":\"x\",\"domain\":[0.0,1.0],\"title\":{\"text\":\"track_name\"},\"showgrid\":false},\"legend\":{\"tracegroupgap\":0},\"title\":{\"text\":\"Top 10 Songs with Least Streams on Spotify (Ascending Order)\",\"x\":0.5},\"barmode\":\"relative\",\"font\":{\"color\":\"white\",\"size\":16},\"plot_bgcolor\":\"black\",\"paper_bgcolor\":\"black\"},                        {\"responsive\": true}                    ).then(function(){\n",
              "                            \n",
              "var gd = document.getElementById('45efc347-1d92-4594-8738-8be8ccf32742');\n",
              "var x = new MutationObserver(function (mutations, observer) {{\n",
              "        var display = window.getComputedStyle(gd).display;\n",
              "        if (!display || display === 'none') {{\n",
              "            console.log([gd, 'removed!']);\n",
              "            Plotly.purge(gd);\n",
              "            observer.disconnect();\n",
              "        }}\n",
              "}});\n",
              "\n",
              "// Listen for the removal of the full notebook cells\n",
              "var notebookContainer = gd.closest('#notebook-container');\n",
              "if (notebookContainer) {{\n",
              "    x.observe(notebookContainer, {childList: true});\n",
              "}}\n",
              "\n",
              "// Listen for the clearing of the current output cell\n",
              "var outputEl = gd.closest('.output');\n",
              "if (outputEl) {{\n",
              "    x.observe(outputEl, {childList: true});\n",
              "}}\n",
              "\n",
              "                        })                };                            </script>        </div>\n",
              "</body>\n",
              "</html>"
            ]
          },
          "metadata": {}
        }
      ]
    },
    {
      "cell_type": "markdown",
      "source": [
        "## What is the most Valence music?"
      ],
      "metadata": {
        "id": "x4kxU7v0iRld"
      }
    },
    {
      "cell_type": "code",
      "source": [
        "# Select the top 10 songs with the highest valence and arrange them in descending order\n",
        "top_valence_music = data[['track_name', 'artist(s)_name', 'valence_%']].sort_values(by='valence_%', ascending=False).head(10)"
      ],
      "metadata": {
        "id": "0IjEL0iC5_Bb"
      },
      "execution_count": 15,
      "outputs": []
    },
    {
      "cell_type": "code",
      "source": [
        "# Create a horizontal bar chart with Plotly Express\n",
        "fig = px.bar(\n",
        "    top_valence_music,\n",
        "    x='valence_%',\n",
        "    y='track_name',\n",
        "    orientation='h',  # Horizontal orientation for the bars\n",
        "    text='valence_%',  # Use the valence column as text on the bars\n",
        "    title='Top 10 Songs with Highest Valence',\n",
        ")\n",
        "\n",
        "# Customize the layout\n",
        "fig.update_layout(\n",
        "    plot_bgcolor='black',  # Set the background to black\n",
        "    paper_bgcolor='black', # Set the paper background to black\n",
        "    xaxis=dict(title='Valence %'),  # X-axis title\n",
        "    yaxis=dict(title='Track Name'),  # Y-axis title\n",
        "    font=dict(color='white', size=16),  # Increase font size and set font color to white\n",
        "    title=dict(text='Top 10 Songs with Highest Valence', x=0.5),  # Center the title\n",
        ")\n",
        "\n",
        "# Customize the bar colors to dark green\n",
        "fig.update_traces(marker_color='darkgreen')\n",
        "\n",
        "# Show the chart\n",
        "fig.show()\n"
      ],
      "metadata": {
        "colab": {
          "base_uri": "https://localhost:8080/",
          "height": 542
        },
        "id": "eV7IHSknEJcx",
        "outputId": "63adcec4-6ca6-4480-d220-8df62dc70e38"
      },
      "execution_count": 16,
      "outputs": [
        {
          "output_type": "display_data",
          "data": {
            "text/html": [
              "<html>\n",
              "<head><meta charset=\"utf-8\" /></head>\n",
              "<body>\n",
              "    <div>            <script src=\"https://cdnjs.cloudflare.com/ajax/libs/mathjax/2.7.5/MathJax.js?config=TeX-AMS-MML_SVG\"></script><script type=\"text/javascript\">if (window.MathJax && window.MathJax.Hub && window.MathJax.Hub.Config) {window.MathJax.Hub.Config({SVG: {font: \"STIX-Web\"}});}</script>                <script type=\"text/javascript\">window.PlotlyConfig = {MathJaxConfig: 'local'};</script>\n",
              "        <script charset=\"utf-8\" src=\"https://cdn.plot.ly/plotly-2.24.1.min.js\"></script>                <div id=\"29e92c85-d473-4ad1-ab13-6077430f46a6\" class=\"plotly-graph-div\" style=\"height:525px; width:100%;\"></div>            <script type=\"text/javascript\">                                    window.PLOTLYENV=window.PLOTLYENV || {};                                    if (document.getElementById(\"29e92c85-d473-4ad1-ab13-6077430f46a6\")) {                    Plotly.newPlot(                        \"29e92c85-d473-4ad1-ab13-6077430f46a6\",                        [{\"alignmentgroup\":\"True\",\"hovertemplate\":\"valence_%=%{text}\\u003cbr\\u003etrack_name=%{y}\\u003cextra\\u003e\\u003c\\u002fextra\\u003e\",\"legendgroup\":\"\",\"marker\":{\"color\":\"darkgreen\",\"pattern\":{\"shape\":\"\"}},\"name\":\"\",\"offsetgroup\":\"\",\"orientation\":\"h\",\"showlegend\":false,\"text\":[97.0,97.0,97.0,97.0,97.0,96.0,96.0,96.0,96.0,96.0],\"textposition\":\"auto\",\"x\":[97,97,97,97,97,96,96,96,96,96],\"xaxis\":\"x\",\"y\":[\"There's Nothing Holdin' Me Back\",\"En El Radio Un Cochinero\",\"JGL\",\"Doja\",\"Zona De Perigo\",\"SABOR FRESA\",\"Deck The Hall - Remastered 1999\",\"Feliz Navidad\",\"El Gordo Trae El Mando\",\"Rara Vez\"],\"yaxis\":\"y\",\"type\":\"bar\"}],                        {\"template\":{\"data\":{\"histogram2dcontour\":[{\"type\":\"histogram2dcontour\",\"colorbar\":{\"outlinewidth\":0,\"ticks\":\"\"},\"colorscale\":[[0.0,\"#0d0887\"],[0.1111111111111111,\"#46039f\"],[0.2222222222222222,\"#7201a8\"],[0.3333333333333333,\"#9c179e\"],[0.4444444444444444,\"#bd3786\"],[0.5555555555555556,\"#d8576b\"],[0.6666666666666666,\"#ed7953\"],[0.7777777777777778,\"#fb9f3a\"],[0.8888888888888888,\"#fdca26\"],[1.0,\"#f0f921\"]]}],\"choropleth\":[{\"type\":\"choropleth\",\"colorbar\":{\"outlinewidth\":0,\"ticks\":\"\"}}],\"histogram2d\":[{\"type\":\"histogram2d\",\"colorbar\":{\"outlinewidth\":0,\"ticks\":\"\"},\"colorscale\":[[0.0,\"#0d0887\"],[0.1111111111111111,\"#46039f\"],[0.2222222222222222,\"#7201a8\"],[0.3333333333333333,\"#9c179e\"],[0.4444444444444444,\"#bd3786\"],[0.5555555555555556,\"#d8576b\"],[0.6666666666666666,\"#ed7953\"],[0.7777777777777778,\"#fb9f3a\"],[0.8888888888888888,\"#fdca26\"],[1.0,\"#f0f921\"]]}],\"heatmap\":[{\"type\":\"heatmap\",\"colorbar\":{\"outlinewidth\":0,\"ticks\":\"\"},\"colorscale\":[[0.0,\"#0d0887\"],[0.1111111111111111,\"#46039f\"],[0.2222222222222222,\"#7201a8\"],[0.3333333333333333,\"#9c179e\"],[0.4444444444444444,\"#bd3786\"],[0.5555555555555556,\"#d8576b\"],[0.6666666666666666,\"#ed7953\"],[0.7777777777777778,\"#fb9f3a\"],[0.8888888888888888,\"#fdca26\"],[1.0,\"#f0f921\"]]}],\"heatmapgl\":[{\"type\":\"heatmapgl\",\"colorbar\":{\"outlinewidth\":0,\"ticks\":\"\"},\"colorscale\":[[0.0,\"#0d0887\"],[0.1111111111111111,\"#46039f\"],[0.2222222222222222,\"#7201a8\"],[0.3333333333333333,\"#9c179e\"],[0.4444444444444444,\"#bd3786\"],[0.5555555555555556,\"#d8576b\"],[0.6666666666666666,\"#ed7953\"],[0.7777777777777778,\"#fb9f3a\"],[0.8888888888888888,\"#fdca26\"],[1.0,\"#f0f921\"]]}],\"contourcarpet\":[{\"type\":\"contourcarpet\",\"colorbar\":{\"outlinewidth\":0,\"ticks\":\"\"}}],\"contour\":[{\"type\":\"contour\",\"colorbar\":{\"outlinewidth\":0,\"ticks\":\"\"},\"colorscale\":[[0.0,\"#0d0887\"],[0.1111111111111111,\"#46039f\"],[0.2222222222222222,\"#7201a8\"],[0.3333333333333333,\"#9c179e\"],[0.4444444444444444,\"#bd3786\"],[0.5555555555555556,\"#d8576b\"],[0.6666666666666666,\"#ed7953\"],[0.7777777777777778,\"#fb9f3a\"],[0.8888888888888888,\"#fdca26\"],[1.0,\"#f0f921\"]]}],\"surface\":[{\"type\":\"surface\",\"colorbar\":{\"outlinewidth\":0,\"ticks\":\"\"},\"colorscale\":[[0.0,\"#0d0887\"],[0.1111111111111111,\"#46039f\"],[0.2222222222222222,\"#7201a8\"],[0.3333333333333333,\"#9c179e\"],[0.4444444444444444,\"#bd3786\"],[0.5555555555555556,\"#d8576b\"],[0.6666666666666666,\"#ed7953\"],[0.7777777777777778,\"#fb9f3a\"],[0.8888888888888888,\"#fdca26\"],[1.0,\"#f0f921\"]]}],\"mesh3d\":[{\"type\":\"mesh3d\",\"colorbar\":{\"outlinewidth\":0,\"ticks\":\"\"}}],\"scatter\":[{\"fillpattern\":{\"fillmode\":\"overlay\",\"size\":10,\"solidity\":0.2},\"type\":\"scatter\"}],\"parcoords\":[{\"type\":\"parcoords\",\"line\":{\"colorbar\":{\"outlinewidth\":0,\"ticks\":\"\"}}}],\"scatterpolargl\":[{\"type\":\"scatterpolargl\",\"marker\":{\"colorbar\":{\"outlinewidth\":0,\"ticks\":\"\"}}}],\"bar\":[{\"error_x\":{\"color\":\"#2a3f5f\"},\"error_y\":{\"color\":\"#2a3f5f\"},\"marker\":{\"line\":{\"color\":\"#E5ECF6\",\"width\":0.5},\"pattern\":{\"fillmode\":\"overlay\",\"size\":10,\"solidity\":0.2}},\"type\":\"bar\"}],\"scattergeo\":[{\"type\":\"scattergeo\",\"marker\":{\"colorbar\":{\"outlinewidth\":0,\"ticks\":\"\"}}}],\"scatterpolar\":[{\"type\":\"scatterpolar\",\"marker\":{\"colorbar\":{\"outlinewidth\":0,\"ticks\":\"\"}}}],\"histogram\":[{\"marker\":{\"pattern\":{\"fillmode\":\"overlay\",\"size\":10,\"solidity\":0.2}},\"type\":\"histogram\"}],\"scattergl\":[{\"type\":\"scattergl\",\"marker\":{\"colorbar\":{\"outlinewidth\":0,\"ticks\":\"\"}}}],\"scatter3d\":[{\"type\":\"scatter3d\",\"line\":{\"colorbar\":{\"outlinewidth\":0,\"ticks\":\"\"}},\"marker\":{\"colorbar\":{\"outlinewidth\":0,\"ticks\":\"\"}}}],\"scattermapbox\":[{\"type\":\"scattermapbox\",\"marker\":{\"colorbar\":{\"outlinewidth\":0,\"ticks\":\"\"}}}],\"scatterternary\":[{\"type\":\"scatterternary\",\"marker\":{\"colorbar\":{\"outlinewidth\":0,\"ticks\":\"\"}}}],\"scattercarpet\":[{\"type\":\"scattercarpet\",\"marker\":{\"colorbar\":{\"outlinewidth\":0,\"ticks\":\"\"}}}],\"carpet\":[{\"aaxis\":{\"endlinecolor\":\"#2a3f5f\",\"gridcolor\":\"white\",\"linecolor\":\"white\",\"minorgridcolor\":\"white\",\"startlinecolor\":\"#2a3f5f\"},\"baxis\":{\"endlinecolor\":\"#2a3f5f\",\"gridcolor\":\"white\",\"linecolor\":\"white\",\"minorgridcolor\":\"white\",\"startlinecolor\":\"#2a3f5f\"},\"type\":\"carpet\"}],\"table\":[{\"cells\":{\"fill\":{\"color\":\"#EBF0F8\"},\"line\":{\"color\":\"white\"}},\"header\":{\"fill\":{\"color\":\"#C8D4E3\"},\"line\":{\"color\":\"white\"}},\"type\":\"table\"}],\"barpolar\":[{\"marker\":{\"line\":{\"color\":\"#E5ECF6\",\"width\":0.5},\"pattern\":{\"fillmode\":\"overlay\",\"size\":10,\"solidity\":0.2}},\"type\":\"barpolar\"}],\"pie\":[{\"automargin\":true,\"type\":\"pie\"}]},\"layout\":{\"autotypenumbers\":\"strict\",\"colorway\":[\"#636efa\",\"#EF553B\",\"#00cc96\",\"#ab63fa\",\"#FFA15A\",\"#19d3f3\",\"#FF6692\",\"#B6E880\",\"#FF97FF\",\"#FECB52\"],\"font\":{\"color\":\"#2a3f5f\"},\"hovermode\":\"closest\",\"hoverlabel\":{\"align\":\"left\"},\"paper_bgcolor\":\"white\",\"plot_bgcolor\":\"#E5ECF6\",\"polar\":{\"bgcolor\":\"#E5ECF6\",\"angularaxis\":{\"gridcolor\":\"white\",\"linecolor\":\"white\",\"ticks\":\"\"},\"radialaxis\":{\"gridcolor\":\"white\",\"linecolor\":\"white\",\"ticks\":\"\"}},\"ternary\":{\"bgcolor\":\"#E5ECF6\",\"aaxis\":{\"gridcolor\":\"white\",\"linecolor\":\"white\",\"ticks\":\"\"},\"baxis\":{\"gridcolor\":\"white\",\"linecolor\":\"white\",\"ticks\":\"\"},\"caxis\":{\"gridcolor\":\"white\",\"linecolor\":\"white\",\"ticks\":\"\"}},\"coloraxis\":{\"colorbar\":{\"outlinewidth\":0,\"ticks\":\"\"}},\"colorscale\":{\"sequential\":[[0.0,\"#0d0887\"],[0.1111111111111111,\"#46039f\"],[0.2222222222222222,\"#7201a8\"],[0.3333333333333333,\"#9c179e\"],[0.4444444444444444,\"#bd3786\"],[0.5555555555555556,\"#d8576b\"],[0.6666666666666666,\"#ed7953\"],[0.7777777777777778,\"#fb9f3a\"],[0.8888888888888888,\"#fdca26\"],[1.0,\"#f0f921\"]],\"sequentialminus\":[[0.0,\"#0d0887\"],[0.1111111111111111,\"#46039f\"],[0.2222222222222222,\"#7201a8\"],[0.3333333333333333,\"#9c179e\"],[0.4444444444444444,\"#bd3786\"],[0.5555555555555556,\"#d8576b\"],[0.6666666666666666,\"#ed7953\"],[0.7777777777777778,\"#fb9f3a\"],[0.8888888888888888,\"#fdca26\"],[1.0,\"#f0f921\"]],\"diverging\":[[0,\"#8e0152\"],[0.1,\"#c51b7d\"],[0.2,\"#de77ae\"],[0.3,\"#f1b6da\"],[0.4,\"#fde0ef\"],[0.5,\"#f7f7f7\"],[0.6,\"#e6f5d0\"],[0.7,\"#b8e186\"],[0.8,\"#7fbc41\"],[0.9,\"#4d9221\"],[1,\"#276419\"]]},\"xaxis\":{\"gridcolor\":\"white\",\"linecolor\":\"white\",\"ticks\":\"\",\"title\":{\"standoff\":15},\"zerolinecolor\":\"white\",\"automargin\":true,\"zerolinewidth\":2},\"yaxis\":{\"gridcolor\":\"white\",\"linecolor\":\"white\",\"ticks\":\"\",\"title\":{\"standoff\":15},\"zerolinecolor\":\"white\",\"automargin\":true,\"zerolinewidth\":2},\"scene\":{\"xaxis\":{\"backgroundcolor\":\"#E5ECF6\",\"gridcolor\":\"white\",\"linecolor\":\"white\",\"showbackground\":true,\"ticks\":\"\",\"zerolinecolor\":\"white\",\"gridwidth\":2},\"yaxis\":{\"backgroundcolor\":\"#E5ECF6\",\"gridcolor\":\"white\",\"linecolor\":\"white\",\"showbackground\":true,\"ticks\":\"\",\"zerolinecolor\":\"white\",\"gridwidth\":2},\"zaxis\":{\"backgroundcolor\":\"#E5ECF6\",\"gridcolor\":\"white\",\"linecolor\":\"white\",\"showbackground\":true,\"ticks\":\"\",\"zerolinecolor\":\"white\",\"gridwidth\":2}},\"shapedefaults\":{\"line\":{\"color\":\"#2a3f5f\"}},\"annotationdefaults\":{\"arrowcolor\":\"#2a3f5f\",\"arrowhead\":0,\"arrowwidth\":1},\"geo\":{\"bgcolor\":\"white\",\"landcolor\":\"#E5ECF6\",\"subunitcolor\":\"white\",\"showland\":true,\"showlakes\":true,\"lakecolor\":\"white\"},\"title\":{\"x\":0.05},\"mapbox\":{\"style\":\"light\"}}},\"xaxis\":{\"anchor\":\"y\",\"domain\":[0.0,1.0],\"title\":{\"text\":\"Valence %\"}},\"yaxis\":{\"anchor\":\"x\",\"domain\":[0.0,1.0],\"title\":{\"text\":\"Track Name\"}},\"legend\":{\"tracegroupgap\":0},\"title\":{\"text\":\"Top 10 Songs with Highest Valence\",\"x\":0.5},\"barmode\":\"relative\",\"font\":{\"color\":\"white\",\"size\":16},\"plot_bgcolor\":\"black\",\"paper_bgcolor\":\"black\"},                        {\"responsive\": true}                    ).then(function(){\n",
              "                            \n",
              "var gd = document.getElementById('29e92c85-d473-4ad1-ab13-6077430f46a6');\n",
              "var x = new MutationObserver(function (mutations, observer) {{\n",
              "        var display = window.getComputedStyle(gd).display;\n",
              "        if (!display || display === 'none') {{\n",
              "            console.log([gd, 'removed!']);\n",
              "            Plotly.purge(gd);\n",
              "            observer.disconnect();\n",
              "        }}\n",
              "}});\n",
              "\n",
              "// Listen for the removal of the full notebook cells\n",
              "var notebookContainer = gd.closest('#notebook-container');\n",
              "if (notebookContainer) {{\n",
              "    x.observe(notebookContainer, {childList: true});\n",
              "}}\n",
              "\n",
              "// Listen for the clearing of the current output cell\n",
              "var outputEl = gd.closest('.output');\n",
              "if (outputEl) {{\n",
              "    x.observe(outputEl, {childList: true});\n",
              "}}\n",
              "\n",
              "                        })                };                            </script>        </div>\n",
              "</body>\n",
              "</html>"
            ]
          },
          "metadata": {}
        }
      ]
    },
    {
      "cell_type": "markdown",
      "source": [
        "## What songs appear most on playlists?"
      ],
      "metadata": {
        "id": "1vED_0xnj5dk"
      }
    },
    {
      "cell_type": "code",
      "source": [
        "# Select the top 10 songs that appear most frequently in Spotify playlists and arrange them in descending order\n",
        "top_music_in_spotify_playlists = data[['track_name', 'artist(s)_name', 'in_spotify_playlists']].sort_values(by='in_spotify_playlists', ascending=False).head(10)"
      ],
      "metadata": {
        "id": "d6WA2jX0EtLQ"
      },
      "execution_count": 17,
      "outputs": []
    },
    {
      "cell_type": "code",
      "source": [
        "# Create a horizontal bar chart with Plotly Express and swap the axes\n",
        "fig = px.bar(\n",
        "    top_music_in_spotify_playlists,\n",
        "    x='in_spotify_playlists',  # Swap the X-axis with the Y-axis\n",
        "    y='track_name',            # Swap the Y-axis with the X-axis\n",
        "    orientation='h',           # Horizontal orientation for the bars\n",
        "    text='in_spotify_playlists',  # Use the \"in_spotify_playlists\" column as text on the bars\n",
        "    title='Top 10 Songs that appear most on playlists',\n",
        ")\n",
        "\n",
        "# Customize the layout\n",
        "fig.update_layout(\n",
        "    plot_bgcolor='black',  # Set the background to black\n",
        "    paper_bgcolor='black', # Set the paper background to black\n",
        "    xaxis=dict(title='in_spotify_playlists'),  # X-axis title\n",
        "    yaxis=dict(title='Track Name'),  # Y-axis title\n",
        "    font=dict(color='white', size=16),  # Increase font size and set font color to white\n",
        "    title=dict(text='Top 10 Songs that appear most on playlists', x=0.5),  # Center the title\n",
        ")\n",
        "\n",
        "# Customize the bar colors to dark green\n",
        "fig.update_traces(marker_color='darkgreen')\n",
        "\n",
        "# Show the chart\n",
        "fig.show()\n"
      ],
      "metadata": {
        "colab": {
          "base_uri": "https://localhost:8080/",
          "height": 542
        },
        "id": "JyA0o-iIEifZ",
        "outputId": "1733e1f8-f944-4cde-eb93-65361a24a5a5"
      },
      "execution_count": 18,
      "outputs": [
        {
          "output_type": "display_data",
          "data": {
            "text/html": [
              "<html>\n",
              "<head><meta charset=\"utf-8\" /></head>\n",
              "<body>\n",
              "    <div>            <script src=\"https://cdnjs.cloudflare.com/ajax/libs/mathjax/2.7.5/MathJax.js?config=TeX-AMS-MML_SVG\"></script><script type=\"text/javascript\">if (window.MathJax && window.MathJax.Hub && window.MathJax.Hub.Config) {window.MathJax.Hub.Config({SVG: {font: \"STIX-Web\"}});}</script>                <script type=\"text/javascript\">window.PlotlyConfig = {MathJaxConfig: 'local'};</script>\n",
              "        <script charset=\"utf-8\" src=\"https://cdn.plot.ly/plotly-2.24.1.min.js\"></script>                <div id=\"ba54962d-4cc1-4f0a-a696-12d31c6fb40a\" class=\"plotly-graph-div\" style=\"height:525px; width:100%;\"></div>            <script type=\"text/javascript\">                                    window.PLOTLYENV=window.PLOTLYENV || {};                                    if (document.getElementById(\"ba54962d-4cc1-4f0a-a696-12d31c6fb40a\")) {                    Plotly.newPlot(                        \"ba54962d-4cc1-4f0a-a696-12d31c6fb40a\",                        [{\"alignmentgroup\":\"True\",\"hovertemplate\":\"in_spotify_playlists=%{text}\\u003cbr\\u003etrack_name=%{y}\\u003cextra\\u003e\\u003c\\u002fextra\\u003e\",\"legendgroup\":\"\",\"marker\":{\"color\":\"darkgreen\",\"pattern\":{\"shape\":\"\"}},\"name\":\"\",\"offsetgroup\":\"\",\"orientation\":\"h\",\"showlegend\":false,\"text\":[52898.0,51979.0,50887.0,49991.0,44927.0,43899.0,43257.0,42798.0,41751.0,41231.0],\"textposition\":\"auto\",\"x\":[52898,51979,50887,49991,44927,43899,43257,42798,41751,41231],\"xaxis\":\"x\",\"y\":[\"Get Lucky - Radio Edit\",\"Mr. Brightside\",\"Wake Me Up - Radio Edit\",\"Smells Like Teen Spirit - Remastered 2021\",\"Take On Me\",\"Blinding Lights\",\"One Dance\",\"Somebody That I Used To Know\",\"Everybody Wants To Rule The World\",\"Sweet Child O' Mine\"],\"yaxis\":\"y\",\"type\":\"bar\"}],                        {\"template\":{\"data\":{\"histogram2dcontour\":[{\"type\":\"histogram2dcontour\",\"colorbar\":{\"outlinewidth\":0,\"ticks\":\"\"},\"colorscale\":[[0.0,\"#0d0887\"],[0.1111111111111111,\"#46039f\"],[0.2222222222222222,\"#7201a8\"],[0.3333333333333333,\"#9c179e\"],[0.4444444444444444,\"#bd3786\"],[0.5555555555555556,\"#d8576b\"],[0.6666666666666666,\"#ed7953\"],[0.7777777777777778,\"#fb9f3a\"],[0.8888888888888888,\"#fdca26\"],[1.0,\"#f0f921\"]]}],\"choropleth\":[{\"type\":\"choropleth\",\"colorbar\":{\"outlinewidth\":0,\"ticks\":\"\"}}],\"histogram2d\":[{\"type\":\"histogram2d\",\"colorbar\":{\"outlinewidth\":0,\"ticks\":\"\"},\"colorscale\":[[0.0,\"#0d0887\"],[0.1111111111111111,\"#46039f\"],[0.2222222222222222,\"#7201a8\"],[0.3333333333333333,\"#9c179e\"],[0.4444444444444444,\"#bd3786\"],[0.5555555555555556,\"#d8576b\"],[0.6666666666666666,\"#ed7953\"],[0.7777777777777778,\"#fb9f3a\"],[0.8888888888888888,\"#fdca26\"],[1.0,\"#f0f921\"]]}],\"heatmap\":[{\"type\":\"heatmap\",\"colorbar\":{\"outlinewidth\":0,\"ticks\":\"\"},\"colorscale\":[[0.0,\"#0d0887\"],[0.1111111111111111,\"#46039f\"],[0.2222222222222222,\"#7201a8\"],[0.3333333333333333,\"#9c179e\"],[0.4444444444444444,\"#bd3786\"],[0.5555555555555556,\"#d8576b\"],[0.6666666666666666,\"#ed7953\"],[0.7777777777777778,\"#fb9f3a\"],[0.8888888888888888,\"#fdca26\"],[1.0,\"#f0f921\"]]}],\"heatmapgl\":[{\"type\":\"heatmapgl\",\"colorbar\":{\"outlinewidth\":0,\"ticks\":\"\"},\"colorscale\":[[0.0,\"#0d0887\"],[0.1111111111111111,\"#46039f\"],[0.2222222222222222,\"#7201a8\"],[0.3333333333333333,\"#9c179e\"],[0.4444444444444444,\"#bd3786\"],[0.5555555555555556,\"#d8576b\"],[0.6666666666666666,\"#ed7953\"],[0.7777777777777778,\"#fb9f3a\"],[0.8888888888888888,\"#fdca26\"],[1.0,\"#f0f921\"]]}],\"contourcarpet\":[{\"type\":\"contourcarpet\",\"colorbar\":{\"outlinewidth\":0,\"ticks\":\"\"}}],\"contour\":[{\"type\":\"contour\",\"colorbar\":{\"outlinewidth\":0,\"ticks\":\"\"},\"colorscale\":[[0.0,\"#0d0887\"],[0.1111111111111111,\"#46039f\"],[0.2222222222222222,\"#7201a8\"],[0.3333333333333333,\"#9c179e\"],[0.4444444444444444,\"#bd3786\"],[0.5555555555555556,\"#d8576b\"],[0.6666666666666666,\"#ed7953\"],[0.7777777777777778,\"#fb9f3a\"],[0.8888888888888888,\"#fdca26\"],[1.0,\"#f0f921\"]]}],\"surface\":[{\"type\":\"surface\",\"colorbar\":{\"outlinewidth\":0,\"ticks\":\"\"},\"colorscale\":[[0.0,\"#0d0887\"],[0.1111111111111111,\"#46039f\"],[0.2222222222222222,\"#7201a8\"],[0.3333333333333333,\"#9c179e\"],[0.4444444444444444,\"#bd3786\"],[0.5555555555555556,\"#d8576b\"],[0.6666666666666666,\"#ed7953\"],[0.7777777777777778,\"#fb9f3a\"],[0.8888888888888888,\"#fdca26\"],[1.0,\"#f0f921\"]]}],\"mesh3d\":[{\"type\":\"mesh3d\",\"colorbar\":{\"outlinewidth\":0,\"ticks\":\"\"}}],\"scatter\":[{\"fillpattern\":{\"fillmode\":\"overlay\",\"size\":10,\"solidity\":0.2},\"type\":\"scatter\"}],\"parcoords\":[{\"type\":\"parcoords\",\"line\":{\"colorbar\":{\"outlinewidth\":0,\"ticks\":\"\"}}}],\"scatterpolargl\":[{\"type\":\"scatterpolargl\",\"marker\":{\"colorbar\":{\"outlinewidth\":0,\"ticks\":\"\"}}}],\"bar\":[{\"error_x\":{\"color\":\"#2a3f5f\"},\"error_y\":{\"color\":\"#2a3f5f\"},\"marker\":{\"line\":{\"color\":\"#E5ECF6\",\"width\":0.5},\"pattern\":{\"fillmode\":\"overlay\",\"size\":10,\"solidity\":0.2}},\"type\":\"bar\"}],\"scattergeo\":[{\"type\":\"scattergeo\",\"marker\":{\"colorbar\":{\"outlinewidth\":0,\"ticks\":\"\"}}}],\"scatterpolar\":[{\"type\":\"scatterpolar\",\"marker\":{\"colorbar\":{\"outlinewidth\":0,\"ticks\":\"\"}}}],\"histogram\":[{\"marker\":{\"pattern\":{\"fillmode\":\"overlay\",\"size\":10,\"solidity\":0.2}},\"type\":\"histogram\"}],\"scattergl\":[{\"type\":\"scattergl\",\"marker\":{\"colorbar\":{\"outlinewidth\":0,\"ticks\":\"\"}}}],\"scatter3d\":[{\"type\":\"scatter3d\",\"line\":{\"colorbar\":{\"outlinewidth\":0,\"ticks\":\"\"}},\"marker\":{\"colorbar\":{\"outlinewidth\":0,\"ticks\":\"\"}}}],\"scattermapbox\":[{\"type\":\"scattermapbox\",\"marker\":{\"colorbar\":{\"outlinewidth\":0,\"ticks\":\"\"}}}],\"scatterternary\":[{\"type\":\"scatterternary\",\"marker\":{\"colorbar\":{\"outlinewidth\":0,\"ticks\":\"\"}}}],\"scattercarpet\":[{\"type\":\"scattercarpet\",\"marker\":{\"colorbar\":{\"outlinewidth\":0,\"ticks\":\"\"}}}],\"carpet\":[{\"aaxis\":{\"endlinecolor\":\"#2a3f5f\",\"gridcolor\":\"white\",\"linecolor\":\"white\",\"minorgridcolor\":\"white\",\"startlinecolor\":\"#2a3f5f\"},\"baxis\":{\"endlinecolor\":\"#2a3f5f\",\"gridcolor\":\"white\",\"linecolor\":\"white\",\"minorgridcolor\":\"white\",\"startlinecolor\":\"#2a3f5f\"},\"type\":\"carpet\"}],\"table\":[{\"cells\":{\"fill\":{\"color\":\"#EBF0F8\"},\"line\":{\"color\":\"white\"}},\"header\":{\"fill\":{\"color\":\"#C8D4E3\"},\"line\":{\"color\":\"white\"}},\"type\":\"table\"}],\"barpolar\":[{\"marker\":{\"line\":{\"color\":\"#E5ECF6\",\"width\":0.5},\"pattern\":{\"fillmode\":\"overlay\",\"size\":10,\"solidity\":0.2}},\"type\":\"barpolar\"}],\"pie\":[{\"automargin\":true,\"type\":\"pie\"}]},\"layout\":{\"autotypenumbers\":\"strict\",\"colorway\":[\"#636efa\",\"#EF553B\",\"#00cc96\",\"#ab63fa\",\"#FFA15A\",\"#19d3f3\",\"#FF6692\",\"#B6E880\",\"#FF97FF\",\"#FECB52\"],\"font\":{\"color\":\"#2a3f5f\"},\"hovermode\":\"closest\",\"hoverlabel\":{\"align\":\"left\"},\"paper_bgcolor\":\"white\",\"plot_bgcolor\":\"#E5ECF6\",\"polar\":{\"bgcolor\":\"#E5ECF6\",\"angularaxis\":{\"gridcolor\":\"white\",\"linecolor\":\"white\",\"ticks\":\"\"},\"radialaxis\":{\"gridcolor\":\"white\",\"linecolor\":\"white\",\"ticks\":\"\"}},\"ternary\":{\"bgcolor\":\"#E5ECF6\",\"aaxis\":{\"gridcolor\":\"white\",\"linecolor\":\"white\",\"ticks\":\"\"},\"baxis\":{\"gridcolor\":\"white\",\"linecolor\":\"white\",\"ticks\":\"\"},\"caxis\":{\"gridcolor\":\"white\",\"linecolor\":\"white\",\"ticks\":\"\"}},\"coloraxis\":{\"colorbar\":{\"outlinewidth\":0,\"ticks\":\"\"}},\"colorscale\":{\"sequential\":[[0.0,\"#0d0887\"],[0.1111111111111111,\"#46039f\"],[0.2222222222222222,\"#7201a8\"],[0.3333333333333333,\"#9c179e\"],[0.4444444444444444,\"#bd3786\"],[0.5555555555555556,\"#d8576b\"],[0.6666666666666666,\"#ed7953\"],[0.7777777777777778,\"#fb9f3a\"],[0.8888888888888888,\"#fdca26\"],[1.0,\"#f0f921\"]],\"sequentialminus\":[[0.0,\"#0d0887\"],[0.1111111111111111,\"#46039f\"],[0.2222222222222222,\"#7201a8\"],[0.3333333333333333,\"#9c179e\"],[0.4444444444444444,\"#bd3786\"],[0.5555555555555556,\"#d8576b\"],[0.6666666666666666,\"#ed7953\"],[0.7777777777777778,\"#fb9f3a\"],[0.8888888888888888,\"#fdca26\"],[1.0,\"#f0f921\"]],\"diverging\":[[0,\"#8e0152\"],[0.1,\"#c51b7d\"],[0.2,\"#de77ae\"],[0.3,\"#f1b6da\"],[0.4,\"#fde0ef\"],[0.5,\"#f7f7f7\"],[0.6,\"#e6f5d0\"],[0.7,\"#b8e186\"],[0.8,\"#7fbc41\"],[0.9,\"#4d9221\"],[1,\"#276419\"]]},\"xaxis\":{\"gridcolor\":\"white\",\"linecolor\":\"white\",\"ticks\":\"\",\"title\":{\"standoff\":15},\"zerolinecolor\":\"white\",\"automargin\":true,\"zerolinewidth\":2},\"yaxis\":{\"gridcolor\":\"white\",\"linecolor\":\"white\",\"ticks\":\"\",\"title\":{\"standoff\":15},\"zerolinecolor\":\"white\",\"automargin\":true,\"zerolinewidth\":2},\"scene\":{\"xaxis\":{\"backgroundcolor\":\"#E5ECF6\",\"gridcolor\":\"white\",\"linecolor\":\"white\",\"showbackground\":true,\"ticks\":\"\",\"zerolinecolor\":\"white\",\"gridwidth\":2},\"yaxis\":{\"backgroundcolor\":\"#E5ECF6\",\"gridcolor\":\"white\",\"linecolor\":\"white\",\"showbackground\":true,\"ticks\":\"\",\"zerolinecolor\":\"white\",\"gridwidth\":2},\"zaxis\":{\"backgroundcolor\":\"#E5ECF6\",\"gridcolor\":\"white\",\"linecolor\":\"white\",\"showbackground\":true,\"ticks\":\"\",\"zerolinecolor\":\"white\",\"gridwidth\":2}},\"shapedefaults\":{\"line\":{\"color\":\"#2a3f5f\"}},\"annotationdefaults\":{\"arrowcolor\":\"#2a3f5f\",\"arrowhead\":0,\"arrowwidth\":1},\"geo\":{\"bgcolor\":\"white\",\"landcolor\":\"#E5ECF6\",\"subunitcolor\":\"white\",\"showland\":true,\"showlakes\":true,\"lakecolor\":\"white\"},\"title\":{\"x\":0.05},\"mapbox\":{\"style\":\"light\"}}},\"xaxis\":{\"anchor\":\"y\",\"domain\":[0.0,1.0],\"title\":{\"text\":\"in_spotify_playlists\"}},\"yaxis\":{\"anchor\":\"x\",\"domain\":[0.0,1.0],\"title\":{\"text\":\"Track Name\"}},\"legend\":{\"tracegroupgap\":0},\"title\":{\"text\":\"Top 10 Songs that appear most on playlists\",\"x\":0.5},\"barmode\":\"relative\",\"font\":{\"color\":\"white\",\"size\":16},\"plot_bgcolor\":\"black\",\"paper_bgcolor\":\"black\"},                        {\"responsive\": true}                    ).then(function(){\n",
              "                            \n",
              "var gd = document.getElementById('ba54962d-4cc1-4f0a-a696-12d31c6fb40a');\n",
              "var x = new MutationObserver(function (mutations, observer) {{\n",
              "        var display = window.getComputedStyle(gd).display;\n",
              "        if (!display || display === 'none') {{\n",
              "            console.log([gd, 'removed!']);\n",
              "            Plotly.purge(gd);\n",
              "            observer.disconnect();\n",
              "        }}\n",
              "}});\n",
              "\n",
              "// Listen for the removal of the full notebook cells\n",
              "var notebookContainer = gd.closest('#notebook-container');\n",
              "if (notebookContainer) {{\n",
              "    x.observe(notebookContainer, {childList: true});\n",
              "}}\n",
              "\n",
              "// Listen for the clearing of the current output cell\n",
              "var outputEl = gd.closest('.output');\n",
              "if (outputEl) {{\n",
              "    x.observe(outputEl, {childList: true});\n",
              "}}\n",
              "\n",
              "                        })                };                            </script>        </div>\n",
              "</body>\n",
              "</html>"
            ]
          },
          "metadata": {}
        }
      ]
    },
    {
      "cell_type": "markdown",
      "source": [
        "## Calculations on Danceability"
      ],
      "metadata": {
        "id": "bRSMlz1-R2Sj"
      }
    },
    {
      "cell_type": "code",
      "source": [
        "import plotly.figure_factory as ff\n",
        "\n",
        "# Create a figure with a histogram and KDE\n",
        "fig = ff.create_distplot(\n",
        "    [data['danceability_%']],\n",
        "    ['Danceability (%)'],\n",
        "    bin_size=2,  # Tamanho dos bins\n",
        "    colors=['darkgreen'],  # Cor das barras e da linha de densidade\n",
        "    show_rug=False,  # Remova a linha de rug no eixo x\n",
        ")\n",
        "\n",
        "# Customize the layout\n",
        "fig.update_layout(\n",
        "    plot_bgcolor='black',  # Set the background to black\n",
        "    paper_bgcolor='black', # Set the paper background to black\n",
        "    xaxis=dict(title='Danceability (%)'),  # x-axis title\n",
        "    yaxis=dict(title='Density'),           # y-axis title\n",
        "    font=dict(color='white', size=16),     # Increase font size and set font color to white\n",
        "    title=dict(text='Distribution of Danceability with KDE', x=0.5),  # Center the title\n",
        ")\n",
        "\n",
        "# Show the plot\n",
        "fig.show()\n"
      ],
      "metadata": {
        "colab": {
          "base_uri": "https://localhost:8080/",
          "height": 542
        },
        "id": "s8L7aKNnA3Tb",
        "outputId": "0ebfb292-7da3-4dc2-e567-fa337c026581"
      },
      "execution_count": 19,
      "outputs": [
        {
          "output_type": "display_data",
          "data": {
            "text/html": [
              "<html>\n",
              "<head><meta charset=\"utf-8\" /></head>\n",
              "<body>\n",
              "    <div>            <script src=\"https://cdnjs.cloudflare.com/ajax/libs/mathjax/2.7.5/MathJax.js?config=TeX-AMS-MML_SVG\"></script><script type=\"text/javascript\">if (window.MathJax && window.MathJax.Hub && window.MathJax.Hub.Config) {window.MathJax.Hub.Config({SVG: {font: \"STIX-Web\"}});}</script>                <script type=\"text/javascript\">window.PlotlyConfig = {MathJaxConfig: 'local'};</script>\n",
              "        <script charset=\"utf-8\" src=\"https://cdn.plot.ly/plotly-2.24.1.min.js\"></script>                <div id=\"a2924006-19c7-46f4-b83c-3e4045bc8bcc\" class=\"plotly-graph-div\" style=\"height:525px; width:100%;\"></div>            <script type=\"text/javascript\">                                    window.PLOTLYENV=window.PLOTLYENV || {};                                    if (document.getElementById(\"a2924006-19c7-46f4-b83c-3e4045bc8bcc\")) {                    Plotly.newPlot(                        \"a2924006-19c7-46f4-b83c-3e4045bc8bcc\",                        [{\"autobinx\":false,\"histnorm\":\"probability density\",\"legendgroup\":\"Danceability (%)\",\"marker\":{\"color\":\"darkgreen\"},\"name\":\"Danceability (%)\",\"opacity\":0.7,\"x\":[80,71,51,55,65,92,67,67,85,81,57,78,71,51,52,64,78,44,86,63,65,69,48,85,85,79,80,81,52,67,74,56,71,64,72,81,61,75,60,79,56,76,56,56,77,67,71,59,68,53,72,60,92,67,45,50,64,84,86,61,86,70,88,77,90,43,64,59,56,51,77,76,51,61,62,49,58,71,78,68,48,34,63,50,59,78,50,91,82,63,71,74,68,62,53,83,49,56,56,62,43,68,50,62,81,54,80,61,77,61,74,51,77,65,64,70,55,84,82,51,75,64,74,49,81,87,63,55,35,78,82,80,42,78,52,63,75,76,60,56,77,84,93,92,79,59,65,45,60,74,81,78,47,69,73,50,54,66,61,73,78,86,77,45,68,68,82,45,73,60,65,60,55,33,57,71,65,70,56,83,67,70,53,34,37,74,54,70,63,57,54,63,65,50,48,74,84,62,81,57,61,53,75,77,56,89,67,85,78,82,70,80,73,84,77,78,54,71,62,72,78,74,66,66,95,80,76,71,59,63,69,78,43,79,82,82,78,73,92,80,59,91,49,47,34,56,60,84,83,67,95,84,65,44,62,50,80,70,77,52,44,79,51,77,68,74,93,77,94,60,72,87,90,57,79,76,76,70,92,84,69,59,75,56,59,80,70,59,32,54,82,89,45,62,70,77,70,80,82,73,65,72,71,70,48,73,78,67,71,74,65,59,72,70,64,90,73,76,81,71,63,95,58,60,40,36,90,71,77,83,70,50,64,68,61,59,64,66,84,56,57,74,56,68,59,73,79,50,70,58,36,86,59,59,87,49,72,53,55,81,82,74,88,76,53,72,75,65,75,73,66,66,84,53,60,74,70,80,58,53,56,70,64,88,66,79,82,25,64,57,65,92,81,82,44,51,71,70,68,41,68,47,77,79,71,80,46,79,58,64,74,41,40,87,87,40,46,47,91,90,81,49,64,95,63,39,80,67,58,81,58,70,46,70,82,65,84,69,58,65,74,34,74,70,74,35,46,24,45,72,51,50,65,67,53,65,71,33,73,67,36,75,60,62,60,72,60,51,67,23,51,34,43,53,72,59,73,67,70,49,54,80,70,69,47,79,66,64,89,70,80,63,87,45,83,69,51,61,33,63,70,70,70,60,65,85,58,76,80,74,67,53,70,56,41,49,77,75,66,61,74,27,65,28,74,68,71,75,64,83,75,31,56,29,59,59,82,63,77,53,70,46,65,79,40,57,83,73,81,58,63,77,44,75,63,73,66,56,73,72,70,86,79,77,83,44,75,74,66,67,66,59,85,77,53,77,59,46,42,35,77,59,68,83,70,72,86,63,39,80,91,45,79,73,76,96,40,67,80,73,75,46,81,61,74,79,73,78,60,45,78,76,63,52,64,53,75,80,77,73,82,44,89,42,52,45,67,52,41,71,35,60,74,75,57,74,72,70,82,79,55,77,56,90,69,80,85,63,84,81,51,35,53,92,69,47,52,91,90,61,60,37,31,57,46,84,60,67,77,93,31,76,91,78,81,67,86,74,79,73,89,65,89,51,47,78,31,44,73,39,84,56,92,76,62,68,74,44,81,76,87,81,95,64,28,78,81,59,80,65,55,72,59,77,80,42,76,41,59,69,53,70,69,67,61,75,39,86,68,91,58,45,81,60,68,76,70,83,72,59,63,56,78,79,70,86,71,71,69,93,57,89,87,58,86,78,45,79,86,91,68,61,61,81,84,78,56,79,52,55,87,85,50,71,92,66,78,80,82,65,61,84,78,56,86,57,50,80,81,63,61,83,85,51,73,91,36,44,64,83,38,37,43,88,66,84,61,66,71,49,68,77,71,82,87,73,86,54,47,53,32,76,58,47,37,70,56,72,72,51,63,69,80,88,82,60,56,80,71,58,73,82,56,65,63,85,72,83,81,57,51,71,91,83,56,60,52,81,42,68,49,70,54,70,91,51,73,81,80,44,78,45,80,56,88,88,95,85,44,58,71,63,77,72,70,74,61,55,47,81,90,56,79,79,81,77,70,82,77,67,67,68,37,74,77,90,70,65,65,34,56,37,70,81,64,82,78,70,52,65,84,73,66,57,72,57,92,49,74,80,59,91,75,80,75,84,66,73,48,77,34,48,62,93,54,85,64,57,60,42,80,82,61],\"xaxis\":\"x\",\"xbins\":{\"end\":96.0,\"size\":2,\"start\":23.0},\"yaxis\":\"y\",\"type\":\"histogram\"},{\"legendgroup\":\"Danceability (%)\",\"marker\":{\"color\":\"darkgreen\"},\"mode\":\"lines\",\"name\":\"Danceability (%)\",\"showlegend\":false,\"x\":[23.0,23.146,23.292,23.438,23.584,23.73,23.876,24.022,24.168,24.314,24.46,24.606,24.752,24.898,25.044,25.19,25.336,25.482,25.628,25.774,25.92,26.066,26.212,26.358,26.504,26.65,26.796,26.942,27.088,27.234,27.38,27.526,27.672,27.817999999999998,27.964,28.11,28.256,28.402,28.548000000000002,28.694,28.84,28.986,29.131999999999998,29.278,29.424,29.57,29.716,29.862000000000002,30.008,30.154,30.3,30.445999999999998,30.592,30.738,30.884,31.03,31.176000000000002,31.322,31.468,31.614,31.759999999999998,31.906,32.052,32.198,32.344,32.49,32.635999999999996,32.782,32.928,33.074,33.22,33.366,33.512,33.658,33.804,33.95,34.096000000000004,34.242000000000004,34.388,34.534,34.68,34.826,34.972,35.118,35.263999999999996,35.41,35.556,35.702,35.848,35.994,36.14,36.286,36.432,36.578,36.724000000000004,36.87,37.016,37.162,37.308,37.454,37.6,37.746,37.891999999999996,38.038,38.184,38.33,38.476,38.622,38.768,38.914,39.06,39.206,39.352000000000004,39.498000000000005,39.644,39.79,39.936,40.082,40.228,40.373999999999995,40.519999999999996,40.666,40.812,40.958,41.104,41.25,41.396,41.542,41.688,41.834,41.980000000000004,42.126000000000005,42.272,42.418,42.564,42.71,42.856,43.001999999999995,43.147999999999996,43.294,43.44,43.586,43.732,43.878,44.024,44.17,44.316,44.462,44.608000000000004,44.754000000000005,44.9,45.046,45.192,45.338,45.484,45.629999999999995,45.775999999999996,45.922,46.068,46.214,46.36,46.506,46.652,46.798,46.944,47.09,47.236000000000004,47.382000000000005,47.528,47.674,47.82,47.966,48.111999999999995,48.257999999999996,48.403999999999996,48.55,48.696,48.842,48.988,49.134,49.28,49.426,49.572,49.718,49.864000000000004,50.010000000000005,50.156,50.302,50.448,50.594,50.739999999999995,50.885999999999996,51.032,51.178,51.324,51.47,51.616,51.762,51.908,52.054,52.2,52.346000000000004,52.492000000000004,52.638000000000005,52.784,52.93,53.076,53.222,53.367999999999995,53.513999999999996,53.66,53.806,53.952,54.098,54.244,54.39,54.536,54.682,54.828,54.974000000000004,55.12,55.266,55.412,55.558,55.704,55.85,55.996,56.142,56.288,56.434,56.58,56.726,56.872,57.018,57.164,57.31,57.456,57.602,57.748,57.894,58.04,58.186,58.332,58.478,58.624,58.77,58.916,59.062,59.208,59.354,59.5,59.646,59.792,59.938,60.084,60.23,60.376,60.522,60.668,60.814,60.96,61.106,61.252,61.398,61.544,61.69,61.836,61.982,62.128,62.274,62.42,62.566,62.712,62.858,63.004,63.15,63.296,63.442,63.588,63.734,63.88,64.02600000000001,64.172,64.318,64.464,64.61,64.756,64.902,65.048,65.194,65.34,65.48599999999999,65.632,65.77799999999999,65.924,66.07,66.21600000000001,66.362,66.50800000000001,66.654,66.8,66.946,67.092,67.238,67.384,67.53,67.676,67.822,67.968,68.114,68.25999999999999,68.406,68.55199999999999,68.69800000000001,68.844,68.99000000000001,69.136,69.282,69.428,69.574,69.72,69.866,70.012,70.158,70.304,70.45,70.596,70.74199999999999,70.888,71.03399999999999,71.18,71.326,71.47200000000001,71.618,71.76400000000001,71.91,72.056,72.202,72.348,72.494,72.64,72.786,72.932,73.078,73.22399999999999,73.37,73.51599999999999,73.662,73.80799999999999,73.95400000000001,74.1,74.24600000000001,74.392,74.538,74.684,74.83,74.976,75.122,75.268,75.414,75.56,75.706,75.852,75.99799999999999,76.144,76.28999999999999,76.436,76.582,76.72800000000001,76.874,77.02000000000001,77.166,77.312,77.458,77.604,77.75,77.896,78.042,78.188,78.334,78.47999999999999,78.626,78.77199999999999,78.918,79.064,79.21000000000001,79.356,79.50200000000001,79.648,79.794,79.94,80.086,80.232,80.378,80.524,80.67,80.816,80.962,81.108,81.25399999999999,81.4,81.54599999999999,81.69200000000001,81.838,81.98400000000001,82.13,82.27600000000001,82.422,82.568,82.714,82.86,83.006,83.152,83.298,83.444,83.59,83.73599999999999,83.882,84.02799999999999,84.174,84.32,84.46600000000001,84.612,84.75800000000001,84.904,85.05,85.196,85.342,85.488,85.634,85.78,85.926,86.072,86.218,86.364,86.50999999999999,86.656,86.80199999999999,86.94800000000001,87.094,87.24,87.386,87.532,87.678,87.824,87.97,88.116,88.262,88.408,88.554,88.7,88.846,88.992,89.138,89.284,89.43,89.576,89.722,89.868,90.014,90.16,90.306,90.452,90.598,90.744,90.89,91.036,91.182,91.328,91.474,91.62,91.766,91.912,92.058,92.204,92.35,92.496,92.642,92.788,92.934,93.08,93.226,93.372,93.518,93.664,93.81,93.956,94.102,94.248,94.394,94.54,94.686,94.832,94.978,95.124,95.27,95.416,95.562,95.708,95.854],\"xaxis\":\"x\",\"y\":[0.0005832429166832952,0.0006036926880494766,0.0006245391506220946,0.000645792138434665,0.0006674629163162622,0.0006895642026692507,0.0007121101788928702,0.0007351164847267584,0.0007586001988825274,0.00078257980443338,0.000807075138540975,0.0008321073262144146,0.0008576986979180559,0.0008838726909718868,0.0009106537348197227,0.0009380671203761776,0.000966138853801804,0.0009948954951970097,0.0010243639828479247,0.0010545714438007848,0.001085544991684951,0.0011173115128469942,0.0011498974419990203,0.0011833285287221028,0.0012176295962997342,0.0012528242944850694,0.0012889348479287294,0.00132598180210949,0.0013639837687170957,0.0014029571725338494,0.0014429160019472224,0.0014838715652992552,0.0015258322553376915,0.0015688033240775455,0.0016127866704088941,0.0016577806427953302,0.0017037798593969103,0.0017507750479199777,0.0017987529074430912,0.0018476959943924704,0.0018975826347409626,0.0019483868643814192,0.0020000783994774582,0.002052622638422953,0.0021059806968451193,0.0021601094768666984,0.002214961771600065,0.0022704864055823203,0.0023266284115765175,0.0023833292438620963,0.002440527027819961,0.0024981568452865457,0.002556151054809693,0.0026144396455906626,0.00267295062354432,0.002731610427556786,0.0027903443736716324,0.0028490771245944795,0.0029077331815772173,0.002966237395429764,0.0030245154931148486,0.0030824946161123624,0.003140103866499318,0.003197274856482619,0.0032539422569479726,0.0033100443404529526,0.0033655235139977667,0.0034203268368560662,0.003474406518742243,0.0035277203936322607,0.0035802323646430684,0.003631912815511182,0.00368273898439379,0.003732695295945676,0.003781773647898896,0.0038299736486904785,0.00387730280304051,0.003923776642779226,0.003969418800650349,0.004014261025277809,0.0040583431359674784,0.004101712916521915,0.004144425947767946,0.004186545379029789,0.004228141639319387,0.004269292089554231,0.004310080617647284,0.004350597178836747,0.0043909372841322205,0.0044312014402408,0.004471494544799398,0.004511925241171957,0.004552605237468912,0.004593648594806892,0.004635170990146053,0.004677288959318165,0.0047201191260860045,0.004763777423254468,0.004808378311981904,0.004854034005516354,0.004900853703604972,0.004948942843794251,0.004998402375756065,0.00504932806463703,0.005101809829241465,0.005155931120617613,0.005211768346328665,0.005269390345353583,0.005328857918181417,0.005390223416238341,0.005453530394323502,0.005518813329228632,0.005586097407183749,0.005655398382208637,0.005726722506862066,0.00580006653627246,0.005875417805709975,0.005952754381323778,0.006032045283027702,0.00611325077787523,0.006196322741628377,0.006281205085599206,0.006367834245234025,0.006456139726324407,0.006546044704173236,0.006637466670522156,0.006730318122567491,0.006824507287959472,0.006919938879300753,0.007016514871339167,0.007114135293794004,0.007212699032566012,0.007312104631965591,0.00741225109055365,0.007513038643226435,0.007614369522294678,0.007716148690504614,0.007818284539227484,0.007920689545402664,0.008023280881251855,0.008125980971292043,0.008228717991747882,0.00833142630810388,0.008434046847230404,0.008536527401257543,0.00863882286115266,0.00874089537876403,0.008842714456921575,0.00894425696801946,0.009045507102334756,0.009146456248151453,0.009247102806543948,0.009347451944422169,0.009447515290134935,0.009547310576564062,0.009646861237203144,0.009746195961198587,0.009845348213723943,0.009944355728357996,0.010043259978336848,0.010142105633645267,0.010240940010905232,0.010339812522903287,0.010438774134382602,0.010537876830407866,0.010637173103198618,0.01073671546282976,0.0108365559766192,0.010936745841376687,0.01103733499198641,0.011138371749047157,0.011239902507516364,0.011341971467508732,0.011444620407601197,0.011547888500212284,0.011651812167860062,0.011756424978386698,0.0118617575765692,0.011967837648935485,0.01207468991807964,0.012182336162333052,0.012290795256303052,0.012400083227546259,0.012510213324503892,0.012621196090794694,0.01273303944103182,0.012845748733510645,0.012959326835393825,0.013073774176392916,0.013189088787407797,0.013305266321127463,0.013422300052196887,0.01354018085522129,0.013658897159577445,0.013778434880732682,0.01389877732851378,0.014019905093507925,0.01414179591349661,0.01426442452252008,0.014387762485804487,0.0145117780243794,0.014636435833717716,0.014761696901171073,0.0148875183273106,0.01501385315652954,0.015140650222404893,0.015267854013350932,0.01539540456401827,0.01552323737771879,0.015651283384858813,0.015779468941983177,0.015907715875542683,0.016035941573931976,0.016164059130692337,0.016291977541063127,0.016419601953295462,0.016546833975330588,0.01667357203660723,0.01679971180391263,0.01692514664933723,0.01704976816756023,0.017173466738882218,0.01729613213366101,0.01741765415309164,0.017537923300634084,0.017656831477820305,0.017774272697700332,0.01789014380879627,0.018004345222151986,0.01811678163388599,0.018227362735585194,0.018336003904909505,0.018442626868930657,0.01854716033297091,0.01864954056806413,0.01874971195061052,0.018847627448327953,0.01894324904722322,0.0190365481149909,0.019127505696993133,0.019216112741766517,0.019302370253830678,0.019386289372423784,0.019467891375649485,0.0195472076103757,0.019624279349064973,0.019699157575526094,0.019771902702342452,0.019842584223450043,0.019911280305988027,0.019978077326126387,0.020043069354070853,0.020106357593862943,0.020168049783906218,0.0202282595643834,0.020287105817849968,0.020344711989325224,0.02040120539213786,0.020456716505622783,0.020511378270528527,0.020565325387666568,0.02061869362493966,0.020671619137426486,0.020724237804685675,0.020776684588891845,0.020829092916829498,0.020881594088170936,0.020934316711859236,0.020987386171823167,0.02104092412267371,0.021095048015489178,0.021149870653305074,0.0212054997754754,0.021262037669700033,0.021319580810205695,0.021378219520339466,0.021438037657691967,0.021499112319803598,0.02156151356853897,0.021625304171317365,0.021690539357589123,0.021757266589204783,0.021825525343666684,0.02189534690964859,0.021966754194609812,0.022039761544819257,0.022114374578609382,0.022190590034201204,0.022268395633956172,0.022347769967410763,0.022428682395912947,0.022511092982104148,0.02259495244784215,0.022680202164455623,0.02276677417941758,0.022854591283638818,0.022943567123588523,0.023033606362349867,0.023124604893512184,0.023216450111473923,0.02330902124129926,0.023402189730730084,0.023495819706307194,0.023589768494817965,0.023683887210461843,0.023778021407230756,0.023872011795044473,0.023965695017185654,0.02405890448555457,0.024151471269232498,0.024243225030818497,0.024333995004014626,0.02442361100498672,0.024511904469145293,0.024598709504198846,0.024683863949628116,0.02476721043214711,0.02484859740626218,0.024927880168716932,0.02500492183544406,0.025079594269627272,0.025151778949615726,0.025221367765741864,0.025288263735549592,0.025352381627561888,0.025413648484484578,0.025472004037653203,0.025527401005571916,0.02557980527055258,0.02562919592873059,0.02567556521008078,0.025718918266480695,0.025759272827345237,0.025796658723857658,0.025831117284341426,0.025862700604825643,0.025891470700341267,0.025917498543911847,0.02594086300157817,0.025961649673068955,0.025979949648920586,0.02599585819590702,0.02600947338357995,0.02602089466551398,0.026030221429489457,0.026037551531340707,0.026042979827500888,0.026046596721441367,0.026048486739175748,0.026048727148814208,0.026047386638800792,0.026044524068955438,0.026040187307763665,0.02603441216855572,0.02602722145625415,0.02601862413529923,0.026008614628172794,0.02599717225265411,0.025984260804575873,0.025969828291408984,0.025953806820520103,0.025936112644421142,0.02591664636379006,0.025895293287500544,0.02587192394736666,0.025846394763814635,0.0258185488572381,0.02578821699840442,0.0257552186899617,0.02571936336986529,0.025680451726412153,0.02563827711354872,0.025592627054219594,0.02554328481873926,0.02549003106453516,0.02543264552309814,0.02537090871961272,0.02530460371052419,0.025233517824210686,0.025157444390005043,0.025076184441005758,0.024989548376459954,0.024897357569971367,0.024799445910374553,0.024695661262832045,0.024585866838515658,0.02446994246215107,0.024347785727696608,0.024219313033493905,0.024084460489363222,0.02394318468928855,0.02379546334455441,0.023641295773433813,0.023480703244769103,0.023313729174032457,0.023140439171679187,0.022960920944804772,0.02277528405427771,0.022583659530630656,0.02238619935304294,0.022183075796732638,0.02197448065498512,0.02176062434287077,0.021541734890448996,0.021318056833902123,0.021089850013606668,0.020857388288605127,0.0206209581773215,0.020380857434629945,0.020137393575581666,0.01989088235618365,0.019641646221646207,0.019390012732445318,0.019136312978412943,0.018880879990861143,0.018624047162482883,0.01836614668445263,0.018107508009784157,0.017848456351595918,0.017589311224495106,0.01733038503682307,0.01707198174101537,0.01681439554882376,0.01655790971762855,0.01630279541354776,0.016049310656515492,0.015797699351976197,0.015548190413307112,0.01530099697855803,0.015056315724569166,0.014814326281008983,0.014575190746356268,0.014339053307334084,0.014106039962791023,0.013876258352514007,0.013649797690943022,0.01342672880524756,0.013207104276708277,0.012990958683833178,0.012778308945118702,0.012569154758846571,0.012363479136787902,0.012161249028168437,0.01196241602973085,0.011766917177224044,0.011574675813148923,0.011385602525103204,0.011199596148603143,0.011016544827812846,0.010836327127198602,0.010658813186742784,0.01048386591301048,0.010311342198066831,0.010141094157996314,0.00997297038258958,0.009806817187633158,0.009642479861178973,0.009479803895176518,0.009318636193931655,0.009158826251009854,0.00900022728643067,0.008842697336305733,0.00868610028744869,0.008530306849936923,0.008375195461122231,0.00822065311516818,0.00806657611283354,0.007912870726911363,0.007759453779470278,0.007606253127817199,0.007453208056902003,0.0073002695767030975,0.007147400623963501,0.0069945761684748475,0.006841783224925904,0.006689020772132813,0.006536299582239519,0.0063836419632106265,0.00623108141863047,0.006078662229457037,0.005926438962959459,0.005774475914579988,0.00562284648890727,0.005471632526318294,0.005320923582143842,0.005170816165431968,0.0050214129445274236,0.004872821926751224,0.004725155619458124,0.004578530179669324,0.0044330645593310064,0.004288879653036905,0.004146097454783696,0.004004840230002343,0.0038652297087386125,0.003727386305441445,0.003591428370371858,0.003457471477168256,0.0033256277506079597,0.0031960052380918583],\"yaxis\":\"y\",\"type\":\"scatter\"}],                        {\"barmode\":\"overlay\",\"hovermode\":\"closest\",\"legend\":{\"traceorder\":\"reversed\"},\"xaxis\":{\"anchor\":\"y2\",\"domain\":[0.0,1.0],\"zeroline\":false,\"title\":{\"text\":\"Danceability (%)\"}},\"yaxis\":{\"anchor\":\"free\",\"domain\":[0.0,1],\"position\":0.0,\"title\":{\"text\":\"Density\"}},\"template\":{\"data\":{\"histogram2dcontour\":[{\"type\":\"histogram2dcontour\",\"colorbar\":{\"outlinewidth\":0,\"ticks\":\"\"},\"colorscale\":[[0.0,\"#0d0887\"],[0.1111111111111111,\"#46039f\"],[0.2222222222222222,\"#7201a8\"],[0.3333333333333333,\"#9c179e\"],[0.4444444444444444,\"#bd3786\"],[0.5555555555555556,\"#d8576b\"],[0.6666666666666666,\"#ed7953\"],[0.7777777777777778,\"#fb9f3a\"],[0.8888888888888888,\"#fdca26\"],[1.0,\"#f0f921\"]]}],\"choropleth\":[{\"type\":\"choropleth\",\"colorbar\":{\"outlinewidth\":0,\"ticks\":\"\"}}],\"histogram2d\":[{\"type\":\"histogram2d\",\"colorbar\":{\"outlinewidth\":0,\"ticks\":\"\"},\"colorscale\":[[0.0,\"#0d0887\"],[0.1111111111111111,\"#46039f\"],[0.2222222222222222,\"#7201a8\"],[0.3333333333333333,\"#9c179e\"],[0.4444444444444444,\"#bd3786\"],[0.5555555555555556,\"#d8576b\"],[0.6666666666666666,\"#ed7953\"],[0.7777777777777778,\"#fb9f3a\"],[0.8888888888888888,\"#fdca26\"],[1.0,\"#f0f921\"]]}],\"heatmap\":[{\"type\":\"heatmap\",\"colorbar\":{\"outlinewidth\":0,\"ticks\":\"\"},\"colorscale\":[[0.0,\"#0d0887\"],[0.1111111111111111,\"#46039f\"],[0.2222222222222222,\"#7201a8\"],[0.3333333333333333,\"#9c179e\"],[0.4444444444444444,\"#bd3786\"],[0.5555555555555556,\"#d8576b\"],[0.6666666666666666,\"#ed7953\"],[0.7777777777777778,\"#fb9f3a\"],[0.8888888888888888,\"#fdca26\"],[1.0,\"#f0f921\"]]}],\"heatmapgl\":[{\"type\":\"heatmapgl\",\"colorbar\":{\"outlinewidth\":0,\"ticks\":\"\"},\"colorscale\":[[0.0,\"#0d0887\"],[0.1111111111111111,\"#46039f\"],[0.2222222222222222,\"#7201a8\"],[0.3333333333333333,\"#9c179e\"],[0.4444444444444444,\"#bd3786\"],[0.5555555555555556,\"#d8576b\"],[0.6666666666666666,\"#ed7953\"],[0.7777777777777778,\"#fb9f3a\"],[0.8888888888888888,\"#fdca26\"],[1.0,\"#f0f921\"]]}],\"contourcarpet\":[{\"type\":\"contourcarpet\",\"colorbar\":{\"outlinewidth\":0,\"ticks\":\"\"}}],\"contour\":[{\"type\":\"contour\",\"colorbar\":{\"outlinewidth\":0,\"ticks\":\"\"},\"colorscale\":[[0.0,\"#0d0887\"],[0.1111111111111111,\"#46039f\"],[0.2222222222222222,\"#7201a8\"],[0.3333333333333333,\"#9c179e\"],[0.4444444444444444,\"#bd3786\"],[0.5555555555555556,\"#d8576b\"],[0.6666666666666666,\"#ed7953\"],[0.7777777777777778,\"#fb9f3a\"],[0.8888888888888888,\"#fdca26\"],[1.0,\"#f0f921\"]]}],\"surface\":[{\"type\":\"surface\",\"colorbar\":{\"outlinewidth\":0,\"ticks\":\"\"},\"colorscale\":[[0.0,\"#0d0887\"],[0.1111111111111111,\"#46039f\"],[0.2222222222222222,\"#7201a8\"],[0.3333333333333333,\"#9c179e\"],[0.4444444444444444,\"#bd3786\"],[0.5555555555555556,\"#d8576b\"],[0.6666666666666666,\"#ed7953\"],[0.7777777777777778,\"#fb9f3a\"],[0.8888888888888888,\"#fdca26\"],[1.0,\"#f0f921\"]]}],\"mesh3d\":[{\"type\":\"mesh3d\",\"colorbar\":{\"outlinewidth\":0,\"ticks\":\"\"}}],\"scatter\":[{\"fillpattern\":{\"fillmode\":\"overlay\",\"size\":10,\"solidity\":0.2},\"type\":\"scatter\"}],\"parcoords\":[{\"type\":\"parcoords\",\"line\":{\"colorbar\":{\"outlinewidth\":0,\"ticks\":\"\"}}}],\"scatterpolargl\":[{\"type\":\"scatterpolargl\",\"marker\":{\"colorbar\":{\"outlinewidth\":0,\"ticks\":\"\"}}}],\"bar\":[{\"error_x\":{\"color\":\"#2a3f5f\"},\"error_y\":{\"color\":\"#2a3f5f\"},\"marker\":{\"line\":{\"color\":\"#E5ECF6\",\"width\":0.5},\"pattern\":{\"fillmode\":\"overlay\",\"size\":10,\"solidity\":0.2}},\"type\":\"bar\"}],\"scattergeo\":[{\"type\":\"scattergeo\",\"marker\":{\"colorbar\":{\"outlinewidth\":0,\"ticks\":\"\"}}}],\"scatterpolar\":[{\"type\":\"scatterpolar\",\"marker\":{\"colorbar\":{\"outlinewidth\":0,\"ticks\":\"\"}}}],\"histogram\":[{\"marker\":{\"pattern\":{\"fillmode\":\"overlay\",\"size\":10,\"solidity\":0.2}},\"type\":\"histogram\"}],\"scattergl\":[{\"type\":\"scattergl\",\"marker\":{\"colorbar\":{\"outlinewidth\":0,\"ticks\":\"\"}}}],\"scatter3d\":[{\"type\":\"scatter3d\",\"line\":{\"colorbar\":{\"outlinewidth\":0,\"ticks\":\"\"}},\"marker\":{\"colorbar\":{\"outlinewidth\":0,\"ticks\":\"\"}}}],\"scattermapbox\":[{\"type\":\"scattermapbox\",\"marker\":{\"colorbar\":{\"outlinewidth\":0,\"ticks\":\"\"}}}],\"scatterternary\":[{\"type\":\"scatterternary\",\"marker\":{\"colorbar\":{\"outlinewidth\":0,\"ticks\":\"\"}}}],\"scattercarpet\":[{\"type\":\"scattercarpet\",\"marker\":{\"colorbar\":{\"outlinewidth\":0,\"ticks\":\"\"}}}],\"carpet\":[{\"aaxis\":{\"endlinecolor\":\"#2a3f5f\",\"gridcolor\":\"white\",\"linecolor\":\"white\",\"minorgridcolor\":\"white\",\"startlinecolor\":\"#2a3f5f\"},\"baxis\":{\"endlinecolor\":\"#2a3f5f\",\"gridcolor\":\"white\",\"linecolor\":\"white\",\"minorgridcolor\":\"white\",\"startlinecolor\":\"#2a3f5f\"},\"type\":\"carpet\"}],\"table\":[{\"cells\":{\"fill\":{\"color\":\"#EBF0F8\"},\"line\":{\"color\":\"white\"}},\"header\":{\"fill\":{\"color\":\"#C8D4E3\"},\"line\":{\"color\":\"white\"}},\"type\":\"table\"}],\"barpolar\":[{\"marker\":{\"line\":{\"color\":\"#E5ECF6\",\"width\":0.5},\"pattern\":{\"fillmode\":\"overlay\",\"size\":10,\"solidity\":0.2}},\"type\":\"barpolar\"}],\"pie\":[{\"automargin\":true,\"type\":\"pie\"}]},\"layout\":{\"autotypenumbers\":\"strict\",\"colorway\":[\"#636efa\",\"#EF553B\",\"#00cc96\",\"#ab63fa\",\"#FFA15A\",\"#19d3f3\",\"#FF6692\",\"#B6E880\",\"#FF97FF\",\"#FECB52\"],\"font\":{\"color\":\"#2a3f5f\"},\"hovermode\":\"closest\",\"hoverlabel\":{\"align\":\"left\"},\"paper_bgcolor\":\"white\",\"plot_bgcolor\":\"#E5ECF6\",\"polar\":{\"bgcolor\":\"#E5ECF6\",\"angularaxis\":{\"gridcolor\":\"white\",\"linecolor\":\"white\",\"ticks\":\"\"},\"radialaxis\":{\"gridcolor\":\"white\",\"linecolor\":\"white\",\"ticks\":\"\"}},\"ternary\":{\"bgcolor\":\"#E5ECF6\",\"aaxis\":{\"gridcolor\":\"white\",\"linecolor\":\"white\",\"ticks\":\"\"},\"baxis\":{\"gridcolor\":\"white\",\"linecolor\":\"white\",\"ticks\":\"\"},\"caxis\":{\"gridcolor\":\"white\",\"linecolor\":\"white\",\"ticks\":\"\"}},\"coloraxis\":{\"colorbar\":{\"outlinewidth\":0,\"ticks\":\"\"}},\"colorscale\":{\"sequential\":[[0.0,\"#0d0887\"],[0.1111111111111111,\"#46039f\"],[0.2222222222222222,\"#7201a8\"],[0.3333333333333333,\"#9c179e\"],[0.4444444444444444,\"#bd3786\"],[0.5555555555555556,\"#d8576b\"],[0.6666666666666666,\"#ed7953\"],[0.7777777777777778,\"#fb9f3a\"],[0.8888888888888888,\"#fdca26\"],[1.0,\"#f0f921\"]],\"sequentialminus\":[[0.0,\"#0d0887\"],[0.1111111111111111,\"#46039f\"],[0.2222222222222222,\"#7201a8\"],[0.3333333333333333,\"#9c179e\"],[0.4444444444444444,\"#bd3786\"],[0.5555555555555556,\"#d8576b\"],[0.6666666666666666,\"#ed7953\"],[0.7777777777777778,\"#fb9f3a\"],[0.8888888888888888,\"#fdca26\"],[1.0,\"#f0f921\"]],\"diverging\":[[0,\"#8e0152\"],[0.1,\"#c51b7d\"],[0.2,\"#de77ae\"],[0.3,\"#f1b6da\"],[0.4,\"#fde0ef\"],[0.5,\"#f7f7f7\"],[0.6,\"#e6f5d0\"],[0.7,\"#b8e186\"],[0.8,\"#7fbc41\"],[0.9,\"#4d9221\"],[1,\"#276419\"]]},\"xaxis\":{\"gridcolor\":\"white\",\"linecolor\":\"white\",\"ticks\":\"\",\"title\":{\"standoff\":15},\"zerolinecolor\":\"white\",\"automargin\":true,\"zerolinewidth\":2},\"yaxis\":{\"gridcolor\":\"white\",\"linecolor\":\"white\",\"ticks\":\"\",\"title\":{\"standoff\":15},\"zerolinecolor\":\"white\",\"automargin\":true,\"zerolinewidth\":2},\"scene\":{\"xaxis\":{\"backgroundcolor\":\"#E5ECF6\",\"gridcolor\":\"white\",\"linecolor\":\"white\",\"showbackground\":true,\"ticks\":\"\",\"zerolinecolor\":\"white\",\"gridwidth\":2},\"yaxis\":{\"backgroundcolor\":\"#E5ECF6\",\"gridcolor\":\"white\",\"linecolor\":\"white\",\"showbackground\":true,\"ticks\":\"\",\"zerolinecolor\":\"white\",\"gridwidth\":2},\"zaxis\":{\"backgroundcolor\":\"#E5ECF6\",\"gridcolor\":\"white\",\"linecolor\":\"white\",\"showbackground\":true,\"ticks\":\"\",\"zerolinecolor\":\"white\",\"gridwidth\":2}},\"shapedefaults\":{\"line\":{\"color\":\"#2a3f5f\"}},\"annotationdefaults\":{\"arrowcolor\":\"#2a3f5f\",\"arrowhead\":0,\"arrowwidth\":1},\"geo\":{\"bgcolor\":\"white\",\"landcolor\":\"#E5ECF6\",\"subunitcolor\":\"white\",\"showland\":true,\"showlakes\":true,\"lakecolor\":\"white\"},\"title\":{\"x\":0.05},\"mapbox\":{\"style\":\"light\"}}},\"font\":{\"color\":\"white\",\"size\":16},\"title\":{\"text\":\"Distribution of Danceability with KDE\",\"x\":0.5},\"plot_bgcolor\":\"black\",\"paper_bgcolor\":\"black\"},                        {\"responsive\": true}                    ).then(function(){\n",
              "                            \n",
              "var gd = document.getElementById('a2924006-19c7-46f4-b83c-3e4045bc8bcc');\n",
              "var x = new MutationObserver(function (mutations, observer) {{\n",
              "        var display = window.getComputedStyle(gd).display;\n",
              "        if (!display || display === 'none') {{\n",
              "            console.log([gd, 'removed!']);\n",
              "            Plotly.purge(gd);\n",
              "            observer.disconnect();\n",
              "        }}\n",
              "}});\n",
              "\n",
              "// Listen for the removal of the full notebook cells\n",
              "var notebookContainer = gd.closest('#notebook-container');\n",
              "if (notebookContainer) {{\n",
              "    x.observe(notebookContainer, {childList: true});\n",
              "}}\n",
              "\n",
              "// Listen for the clearing of the current output cell\n",
              "var outputEl = gd.closest('.output');\n",
              "if (outputEl) {{\n",
              "    x.observe(outputEl, {childList: true});\n",
              "}}\n",
              "\n",
              "                        })                };                            </script>        </div>\n",
              "</body>\n",
              "</html>"
            ]
          },
          "metadata": {}
        }
      ]
    },
    {
      "cell_type": "markdown",
      "source": [
        "# Calculate average danceability for each year"
      ],
      "metadata": {
        "id": "Xp-ywyLcN7zo"
      }
    },
    {
      "cell_type": "code",
      "source": [
        "# Calculate average danceability for each year\n",
        "average_danceability_by_year = data.groupby('released_year')['danceability_%'].mean().reset_index()"
      ],
      "metadata": {
        "id": "07HzT8IfDY76"
      },
      "execution_count": 20,
      "outputs": []
    },
    {
      "cell_type": "code",
      "source": [
        "import plotly.graph_objects as go\n",
        "\n",
        "# Calculate average danceability for each year\n",
        "average_danceability_by_year = data.groupby('released_year')['danceability_%'].mean().reset_index()\n",
        "\n",
        "# Create a line chart with Plotly\n",
        "fig = go.Figure()\n",
        "\n",
        "# Add a line trace for danceability trends\n",
        "fig.add_trace(go.Scatter(\n",
        "    x=average_danceability_by_year['released_year'],\n",
        "    y=average_danceability_by_year['danceability_%'],\n",
        "    mode='lines',\n",
        "    line=dict(color='green'),\n",
        "    name='Average Danceability (%)'\n",
        "))\n",
        "\n",
        "# Customize the layout\n",
        "fig.update_layout(\n",
        "    plot_bgcolor='black',  # Set the background to black\n",
        "    paper_bgcolor='black', # Set the paper background to black\n",
        "    xaxis=dict(title='Year'),  # x-axis title\n",
        "    yaxis=dict(title='Average Danceability (%)'),  # y-axis title\n",
        "    font=dict(color='white', size=16),  # Increase font size and set font color to white\n",
        "    title=dict(text='Trends in Danceability Over the Years', x=0.5),  # Center the title\n",
        "    xaxis_showgrid=False,  # Remove x-axis gridlines\n",
        "    yaxis_showgrid=False,  # Remove y-axis gridlines\n",
        "    legend=dict(font=dict(size=12)),  # Decrease legend font size\n",
        ")\n",
        "\n",
        "# Define a custom color palette for each decade\n",
        "color_palette = ['#1f77b4', '#ff7f0e', '#2ca02c', '#d62728', '#9467bd', '#8c564b', '#e377c2', '#7f7f7f', '#bcbd22', '#17becf']\n",
        "\n",
        "# Add arrows with date and percentage to each decade from 1940\n",
        "years = average_danceability_by_year['released_year']\n",
        "if len(years) >= 7:\n",
        "    num_decades = len(range(1940, max(years) + 1, 10))\n",
        "    for decade, color in zip(range(1940, max(years) + 1, 10), color_palette):\n",
        "        year = years[years >= decade].min()\n",
        "        average = average_danceability_by_year.loc[average_danceability_by_year['released_year'] == year, 'danceability_%'].values[0]\n",
        "        fig.add_trace(go.Scatter(\n",
        "            x=[year],\n",
        "            y=[average],\n",
        "            text=[f'{decade}s: {average:.2f}%'],\n",
        "            mode='markers+text',\n",
        "            marker=dict(size=10, color=color),\n",
        "            name=f'{decade}s',\n",
        "        ))\n",
        "\n",
        "# Show the plot\n",
        "fig.show()\n"
      ],
      "metadata": {
        "colab": {
          "base_uri": "https://localhost:8080/",
          "height": 542
        },
        "id": "9pbZ2VQLCOea",
        "outputId": "a8a88323-1258-40da-efaa-d47e7fc0c5d4"
      },
      "execution_count": 21,
      "outputs": [
        {
          "output_type": "display_data",
          "data": {
            "text/html": [
              "<html>\n",
              "<head><meta charset=\"utf-8\" /></head>\n",
              "<body>\n",
              "    <div>            <script src=\"https://cdnjs.cloudflare.com/ajax/libs/mathjax/2.7.5/MathJax.js?config=TeX-AMS-MML_SVG\"></script><script type=\"text/javascript\">if (window.MathJax && window.MathJax.Hub && window.MathJax.Hub.Config) {window.MathJax.Hub.Config({SVG: {font: \"STIX-Web\"}});}</script>                <script type=\"text/javascript\">window.PlotlyConfig = {MathJaxConfig: 'local'};</script>\n",
              "        <script charset=\"utf-8\" src=\"https://cdn.plot.ly/plotly-2.24.1.min.js\"></script>                <div id=\"7d24daf8-a761-48d8-8131-92dbf890f078\" class=\"plotly-graph-div\" style=\"height:525px; width:100%;\"></div>            <script type=\"text/javascript\">                                    window.PLOTLYENV=window.PLOTLYENV || {};                                    if (document.getElementById(\"7d24daf8-a761-48d8-8131-92dbf890f078\")) {                    Plotly.newPlot(                        \"7d24daf8-a761-48d8-8131-92dbf890f078\",                        [{\"line\":{\"color\":\"green\"},\"mode\":\"lines\",\"name\":\"Average Danceability (%)\",\"x\":[1930,1942,1946,1950,1952,1957,1958,1959,1963,1968,1970,1971,1973,1975,1979,1982,1983,1984,1985,1986,1987,1991,1992,1994,1995,1996,1997,1998,1999,2000,2002,2003,2004,2005,2007,2008,2010,2011,2012,2013,2014,2015,2016,2017,2018,2019,2020,2021,2022,2023],\"y\":[65.0,23.0,36.0,60.0,67.0,62.5,70.66666666666667,57.0,37.0,74.0,51.5,33.0,39.0,44.5,75.0,69.5,82.0,65.75,63.5,52.5,45.0,48.0,53.0,34.0,70.0,89.0,74.0,32.0,77.4,63.5,73.83333333333333,42.5,68.5,63.0,52.0,64.0,61.714285714285715,60.7,61.7,57.0,63.53846153846154,53.72727272727273,63.0,63.52173913043478,55.0,60.72222222222222,67.43243243243244,68.18487394957984,68.7139303482587,70.02285714285715],\"type\":\"scatter\"},{\"marker\":{\"color\":\"#1f77b4\",\"size\":10},\"mode\":\"markers+text\",\"name\":\"1940s\",\"text\":[\"1940s: 23.00%\"],\"x\":[1942],\"y\":[23.0],\"type\":\"scatter\"},{\"marker\":{\"color\":\"#ff7f0e\",\"size\":10},\"mode\":\"markers+text\",\"name\":\"1950s\",\"text\":[\"1950s: 60.00%\"],\"x\":[1950],\"y\":[60.0],\"type\":\"scatter\"},{\"marker\":{\"color\":\"#2ca02c\",\"size\":10},\"mode\":\"markers+text\",\"name\":\"1960s\",\"text\":[\"1960s: 37.00%\"],\"x\":[1963],\"y\":[37.0],\"type\":\"scatter\"},{\"marker\":{\"color\":\"#d62728\",\"size\":10},\"mode\":\"markers+text\",\"name\":\"1970s\",\"text\":[\"1970s: 51.50%\"],\"x\":[1970],\"y\":[51.5],\"type\":\"scatter\"},{\"marker\":{\"color\":\"#9467bd\",\"size\":10},\"mode\":\"markers+text\",\"name\":\"1980s\",\"text\":[\"1980s: 69.50%\"],\"x\":[1982],\"y\":[69.5],\"type\":\"scatter\"},{\"marker\":{\"color\":\"#8c564b\",\"size\":10},\"mode\":\"markers+text\",\"name\":\"1990s\",\"text\":[\"1990s: 48.00%\"],\"x\":[1991],\"y\":[48.0],\"type\":\"scatter\"},{\"marker\":{\"color\":\"#e377c2\",\"size\":10},\"mode\":\"markers+text\",\"name\":\"2000s\",\"text\":[\"2000s: 63.50%\"],\"x\":[2000],\"y\":[63.5],\"type\":\"scatter\"},{\"marker\":{\"color\":\"#7f7f7f\",\"size\":10},\"mode\":\"markers+text\",\"name\":\"2010s\",\"text\":[\"2010s: 61.71%\"],\"x\":[2010],\"y\":[61.714285714285715],\"type\":\"scatter\"},{\"marker\":{\"color\":\"#bcbd22\",\"size\":10},\"mode\":\"markers+text\",\"name\":\"2020s\",\"text\":[\"2020s: 67.43%\"],\"x\":[2020],\"y\":[67.43243243243244],\"type\":\"scatter\"}],                        {\"template\":{\"data\":{\"histogram2dcontour\":[{\"type\":\"histogram2dcontour\",\"colorbar\":{\"outlinewidth\":0,\"ticks\":\"\"},\"colorscale\":[[0.0,\"#0d0887\"],[0.1111111111111111,\"#46039f\"],[0.2222222222222222,\"#7201a8\"],[0.3333333333333333,\"#9c179e\"],[0.4444444444444444,\"#bd3786\"],[0.5555555555555556,\"#d8576b\"],[0.6666666666666666,\"#ed7953\"],[0.7777777777777778,\"#fb9f3a\"],[0.8888888888888888,\"#fdca26\"],[1.0,\"#f0f921\"]]}],\"choropleth\":[{\"type\":\"choropleth\",\"colorbar\":{\"outlinewidth\":0,\"ticks\":\"\"}}],\"histogram2d\":[{\"type\":\"histogram2d\",\"colorbar\":{\"outlinewidth\":0,\"ticks\":\"\"},\"colorscale\":[[0.0,\"#0d0887\"],[0.1111111111111111,\"#46039f\"],[0.2222222222222222,\"#7201a8\"],[0.3333333333333333,\"#9c179e\"],[0.4444444444444444,\"#bd3786\"],[0.5555555555555556,\"#d8576b\"],[0.6666666666666666,\"#ed7953\"],[0.7777777777777778,\"#fb9f3a\"],[0.8888888888888888,\"#fdca26\"],[1.0,\"#f0f921\"]]}],\"heatmap\":[{\"type\":\"heatmap\",\"colorbar\":{\"outlinewidth\":0,\"ticks\":\"\"},\"colorscale\":[[0.0,\"#0d0887\"],[0.1111111111111111,\"#46039f\"],[0.2222222222222222,\"#7201a8\"],[0.3333333333333333,\"#9c179e\"],[0.4444444444444444,\"#bd3786\"],[0.5555555555555556,\"#d8576b\"],[0.6666666666666666,\"#ed7953\"],[0.7777777777777778,\"#fb9f3a\"],[0.8888888888888888,\"#fdca26\"],[1.0,\"#f0f921\"]]}],\"heatmapgl\":[{\"type\":\"heatmapgl\",\"colorbar\":{\"outlinewidth\":0,\"ticks\":\"\"},\"colorscale\":[[0.0,\"#0d0887\"],[0.1111111111111111,\"#46039f\"],[0.2222222222222222,\"#7201a8\"],[0.3333333333333333,\"#9c179e\"],[0.4444444444444444,\"#bd3786\"],[0.5555555555555556,\"#d8576b\"],[0.6666666666666666,\"#ed7953\"],[0.7777777777777778,\"#fb9f3a\"],[0.8888888888888888,\"#fdca26\"],[1.0,\"#f0f921\"]]}],\"contourcarpet\":[{\"type\":\"contourcarpet\",\"colorbar\":{\"outlinewidth\":0,\"ticks\":\"\"}}],\"contour\":[{\"type\":\"contour\",\"colorbar\":{\"outlinewidth\":0,\"ticks\":\"\"},\"colorscale\":[[0.0,\"#0d0887\"],[0.1111111111111111,\"#46039f\"],[0.2222222222222222,\"#7201a8\"],[0.3333333333333333,\"#9c179e\"],[0.4444444444444444,\"#bd3786\"],[0.5555555555555556,\"#d8576b\"],[0.6666666666666666,\"#ed7953\"],[0.7777777777777778,\"#fb9f3a\"],[0.8888888888888888,\"#fdca26\"],[1.0,\"#f0f921\"]]}],\"surface\":[{\"type\":\"surface\",\"colorbar\":{\"outlinewidth\":0,\"ticks\":\"\"},\"colorscale\":[[0.0,\"#0d0887\"],[0.1111111111111111,\"#46039f\"],[0.2222222222222222,\"#7201a8\"],[0.3333333333333333,\"#9c179e\"],[0.4444444444444444,\"#bd3786\"],[0.5555555555555556,\"#d8576b\"],[0.6666666666666666,\"#ed7953\"],[0.7777777777777778,\"#fb9f3a\"],[0.8888888888888888,\"#fdca26\"],[1.0,\"#f0f921\"]]}],\"mesh3d\":[{\"type\":\"mesh3d\",\"colorbar\":{\"outlinewidth\":0,\"ticks\":\"\"}}],\"scatter\":[{\"fillpattern\":{\"fillmode\":\"overlay\",\"size\":10,\"solidity\":0.2},\"type\":\"scatter\"}],\"parcoords\":[{\"type\":\"parcoords\",\"line\":{\"colorbar\":{\"outlinewidth\":0,\"ticks\":\"\"}}}],\"scatterpolargl\":[{\"type\":\"scatterpolargl\",\"marker\":{\"colorbar\":{\"outlinewidth\":0,\"ticks\":\"\"}}}],\"bar\":[{\"error_x\":{\"color\":\"#2a3f5f\"},\"error_y\":{\"color\":\"#2a3f5f\"},\"marker\":{\"line\":{\"color\":\"#E5ECF6\",\"width\":0.5},\"pattern\":{\"fillmode\":\"overlay\",\"size\":10,\"solidity\":0.2}},\"type\":\"bar\"}],\"scattergeo\":[{\"type\":\"scattergeo\",\"marker\":{\"colorbar\":{\"outlinewidth\":0,\"ticks\":\"\"}}}],\"scatterpolar\":[{\"type\":\"scatterpolar\",\"marker\":{\"colorbar\":{\"outlinewidth\":0,\"ticks\":\"\"}}}],\"histogram\":[{\"marker\":{\"pattern\":{\"fillmode\":\"overlay\",\"size\":10,\"solidity\":0.2}},\"type\":\"histogram\"}],\"scattergl\":[{\"type\":\"scattergl\",\"marker\":{\"colorbar\":{\"outlinewidth\":0,\"ticks\":\"\"}}}],\"scatter3d\":[{\"type\":\"scatter3d\",\"line\":{\"colorbar\":{\"outlinewidth\":0,\"ticks\":\"\"}},\"marker\":{\"colorbar\":{\"outlinewidth\":0,\"ticks\":\"\"}}}],\"scattermapbox\":[{\"type\":\"scattermapbox\",\"marker\":{\"colorbar\":{\"outlinewidth\":0,\"ticks\":\"\"}}}],\"scatterternary\":[{\"type\":\"scatterternary\",\"marker\":{\"colorbar\":{\"outlinewidth\":0,\"ticks\":\"\"}}}],\"scattercarpet\":[{\"type\":\"scattercarpet\",\"marker\":{\"colorbar\":{\"outlinewidth\":0,\"ticks\":\"\"}}}],\"carpet\":[{\"aaxis\":{\"endlinecolor\":\"#2a3f5f\",\"gridcolor\":\"white\",\"linecolor\":\"white\",\"minorgridcolor\":\"white\",\"startlinecolor\":\"#2a3f5f\"},\"baxis\":{\"endlinecolor\":\"#2a3f5f\",\"gridcolor\":\"white\",\"linecolor\":\"white\",\"minorgridcolor\":\"white\",\"startlinecolor\":\"#2a3f5f\"},\"type\":\"carpet\"}],\"table\":[{\"cells\":{\"fill\":{\"color\":\"#EBF0F8\"},\"line\":{\"color\":\"white\"}},\"header\":{\"fill\":{\"color\":\"#C8D4E3\"},\"line\":{\"color\":\"white\"}},\"type\":\"table\"}],\"barpolar\":[{\"marker\":{\"line\":{\"color\":\"#E5ECF6\",\"width\":0.5},\"pattern\":{\"fillmode\":\"overlay\",\"size\":10,\"solidity\":0.2}},\"type\":\"barpolar\"}],\"pie\":[{\"automargin\":true,\"type\":\"pie\"}]},\"layout\":{\"autotypenumbers\":\"strict\",\"colorway\":[\"#636efa\",\"#EF553B\",\"#00cc96\",\"#ab63fa\",\"#FFA15A\",\"#19d3f3\",\"#FF6692\",\"#B6E880\",\"#FF97FF\",\"#FECB52\"],\"font\":{\"color\":\"#2a3f5f\"},\"hovermode\":\"closest\",\"hoverlabel\":{\"align\":\"left\"},\"paper_bgcolor\":\"white\",\"plot_bgcolor\":\"#E5ECF6\",\"polar\":{\"bgcolor\":\"#E5ECF6\",\"angularaxis\":{\"gridcolor\":\"white\",\"linecolor\":\"white\",\"ticks\":\"\"},\"radialaxis\":{\"gridcolor\":\"white\",\"linecolor\":\"white\",\"ticks\":\"\"}},\"ternary\":{\"bgcolor\":\"#E5ECF6\",\"aaxis\":{\"gridcolor\":\"white\",\"linecolor\":\"white\",\"ticks\":\"\"},\"baxis\":{\"gridcolor\":\"white\",\"linecolor\":\"white\",\"ticks\":\"\"},\"caxis\":{\"gridcolor\":\"white\",\"linecolor\":\"white\",\"ticks\":\"\"}},\"coloraxis\":{\"colorbar\":{\"outlinewidth\":0,\"ticks\":\"\"}},\"colorscale\":{\"sequential\":[[0.0,\"#0d0887\"],[0.1111111111111111,\"#46039f\"],[0.2222222222222222,\"#7201a8\"],[0.3333333333333333,\"#9c179e\"],[0.4444444444444444,\"#bd3786\"],[0.5555555555555556,\"#d8576b\"],[0.6666666666666666,\"#ed7953\"],[0.7777777777777778,\"#fb9f3a\"],[0.8888888888888888,\"#fdca26\"],[1.0,\"#f0f921\"]],\"sequentialminus\":[[0.0,\"#0d0887\"],[0.1111111111111111,\"#46039f\"],[0.2222222222222222,\"#7201a8\"],[0.3333333333333333,\"#9c179e\"],[0.4444444444444444,\"#bd3786\"],[0.5555555555555556,\"#d8576b\"],[0.6666666666666666,\"#ed7953\"],[0.7777777777777778,\"#fb9f3a\"],[0.8888888888888888,\"#fdca26\"],[1.0,\"#f0f921\"]],\"diverging\":[[0,\"#8e0152\"],[0.1,\"#c51b7d\"],[0.2,\"#de77ae\"],[0.3,\"#f1b6da\"],[0.4,\"#fde0ef\"],[0.5,\"#f7f7f7\"],[0.6,\"#e6f5d0\"],[0.7,\"#b8e186\"],[0.8,\"#7fbc41\"],[0.9,\"#4d9221\"],[1,\"#276419\"]]},\"xaxis\":{\"gridcolor\":\"white\",\"linecolor\":\"white\",\"ticks\":\"\",\"title\":{\"standoff\":15},\"zerolinecolor\":\"white\",\"automargin\":true,\"zerolinewidth\":2},\"yaxis\":{\"gridcolor\":\"white\",\"linecolor\":\"white\",\"ticks\":\"\",\"title\":{\"standoff\":15},\"zerolinecolor\":\"white\",\"automargin\":true,\"zerolinewidth\":2},\"scene\":{\"xaxis\":{\"backgroundcolor\":\"#E5ECF6\",\"gridcolor\":\"white\",\"linecolor\":\"white\",\"showbackground\":true,\"ticks\":\"\",\"zerolinecolor\":\"white\",\"gridwidth\":2},\"yaxis\":{\"backgroundcolor\":\"#E5ECF6\",\"gridcolor\":\"white\",\"linecolor\":\"white\",\"showbackground\":true,\"ticks\":\"\",\"zerolinecolor\":\"white\",\"gridwidth\":2},\"zaxis\":{\"backgroundcolor\":\"#E5ECF6\",\"gridcolor\":\"white\",\"linecolor\":\"white\",\"showbackground\":true,\"ticks\":\"\",\"zerolinecolor\":\"white\",\"gridwidth\":2}},\"shapedefaults\":{\"line\":{\"color\":\"#2a3f5f\"}},\"annotationdefaults\":{\"arrowcolor\":\"#2a3f5f\",\"arrowhead\":0,\"arrowwidth\":1},\"geo\":{\"bgcolor\":\"white\",\"landcolor\":\"#E5ECF6\",\"subunitcolor\":\"white\",\"showland\":true,\"showlakes\":true,\"lakecolor\":\"white\"},\"title\":{\"x\":0.05},\"mapbox\":{\"style\":\"light\"}}},\"font\":{\"color\":\"white\",\"size\":16},\"title\":{\"text\":\"Trends in Danceability Over the Years\",\"x\":0.5},\"xaxis\":{\"title\":{\"text\":\"Year\"},\"showgrid\":false},\"yaxis\":{\"title\":{\"text\":\"Average Danceability (%)\"},\"showgrid\":false},\"legend\":{\"font\":{\"size\":12}},\"plot_bgcolor\":\"black\",\"paper_bgcolor\":\"black\"},                        {\"responsive\": true}                    ).then(function(){\n",
              "                            \n",
              "var gd = document.getElementById('7d24daf8-a761-48d8-8131-92dbf890f078');\n",
              "var x = new MutationObserver(function (mutations, observer) {{\n",
              "        var display = window.getComputedStyle(gd).display;\n",
              "        if (!display || display === 'none') {{\n",
              "            console.log([gd, 'removed!']);\n",
              "            Plotly.purge(gd);\n",
              "            observer.disconnect();\n",
              "        }}\n",
              "}});\n",
              "\n",
              "// Listen for the removal of the full notebook cells\n",
              "var notebookContainer = gd.closest('#notebook-container');\n",
              "if (notebookContainer) {{\n",
              "    x.observe(notebookContainer, {childList: true});\n",
              "}}\n",
              "\n",
              "// Listen for the clearing of the current output cell\n",
              "var outputEl = gd.closest('.output');\n",
              "if (outputEl) {{\n",
              "    x.observe(outputEl, {childList: true});\n",
              "}}\n",
              "\n",
              "                        })                };                            </script>        </div>\n",
              "</body>\n",
              "</html>"
            ]
          },
          "metadata": {}
        }
      ]
    },
    {
      "cell_type": "markdown",
      "source": [
        "## Working with Correlation"
      ],
      "metadata": {
        "id": "aCvfum0YaNsF"
      }
    },
    {
      "cell_type": "code",
      "source": [
        "# Select columns for cross-platform metrics\n",
        "cross_platform_columns = [\n",
        "    'in_spotify_playlists', 'in_spotify_charts', 'in_apple_playlists',\n",
        "    'in_apple_charts', 'in_deezer_playlists', 'in_deezer_charts', 'in_shazam_charts'\n",
        "]\n",
        "\n",
        "# Calculate the correlation matrix\n",
        "correlation_matrix = data[cross_platform_columns].corr()"
      ],
      "metadata": {
        "colab": {
          "base_uri": "https://localhost:8080/"
        },
        "id": "DMdVd5-4aiin",
        "outputId": "afa6f27e-aac2-46cf-bccc-9f7fea64634e"
      },
      "execution_count": 22,
      "outputs": [
        {
          "output_type": "stream",
          "name": "stderr",
          "text": [
            "<ipython-input-22-4981591dcec1>:8: FutureWarning:\n",
            "\n",
            "The default value of numeric_only in DataFrame.corr is deprecated. In a future version, it will default to False. Select only valid columns or specify the value of numeric_only to silence this warning.\n",
            "\n"
          ]
        }
      ]
    },
    {
      "cell_type": "code",
      "source": [
        "# Plot the heatmap\n",
        "plt.figure(figsize=(20, 8))\n",
        "sns.heatmap(correlation_matrix, annot=True, cmap='coolwarm', center=0)\n",
        "plt.title('Correlation Heatmap: Cross-Platform Metrics')\n",
        "plt.show()"
      ],
      "metadata": {
        "colab": {
          "base_uri": "https://localhost:8080/",
          "height": 699
        },
        "id": "3cxY0h88aomD",
        "outputId": "54b6ac33-fa4e-42b0-f249-1ec19d46fe37"
      },
      "execution_count": 23,
      "outputs": [
        {
          "output_type": "display_data",
          "data": {
            "text/plain": [
              "<Figure size 2000x800 with 2 Axes>"
            ],
            "image/png": "[encoded data removed]"
          },
          "metadata": {}
        }
      ]
    },
    {
      "cell_type": "code",
      "source": [
        "# Select columns for audio features\n",
        "audio_features_columns = ['danceability_%', 'valence_%', 'energy_%', 'acousticness_%', 'instrumentalness_%']\n",
        "\n",
        "# Calculate the correlation matrix\n",
        "correlation_matrix = data[audio_features_columns].corr()"
      ],
      "metadata": {
        "id": "5iLZoxw1dEWp"
      },
      "execution_count": 24,
      "outputs": []
    },
    {
      "cell_type": "code",
      "source": [
        "# Create a heatmap\n",
        "plt.figure(figsize=(20, 8))\n",
        "sns.heatmap(correlation_matrix, annot=True, cmap='coolwarm', center=0)\n",
        "plt.title('Correlation Heatmap: Audio Features')\n",
        "plt.show()"
      ],
      "metadata": {
        "colab": {
          "base_uri": "https://localhost:8080/",
          "height": 699
        },
        "id": "0SneoWGXdFNw",
        "outputId": "982457d8-fe2e-4311-8a6b-0a0eb4f4ce58"
      },
      "execution_count": 25,
      "outputs": [
        {
          "output_type": "display_data",
          "data": {
            "text/plain": [
              "<Figure size 2000x800 with 2 Axes>"
            ],
            "image/png": "[encoded data removed]"
          },
          "metadata": {}
        }
      ]
    },
    {
      "cell_type": "markdown",
      "source": [
        "## Other Comparations"
      ],
      "metadata": {
        "id": "ia9DtQmwbYTz"
      }
    },
    {
      "cell_type": "code",
      "source": [
        "# Select columns for audio features and popularity\n",
        "audio_features_columns = ['danceability_%', 'energy_%', 'valence_%']\n",
        "popularity_column = 'streams'"
      ],
      "metadata": {
        "id": "Lf9VXdfTIiuE"
      },
      "execution_count": 26,
      "outputs": []
    },
    {
      "cell_type": "code",
      "source": [
        "# Create scatter plots with Plotly Express and map colors based on the audio features columns\n",
        "fig = px.scatter(\n",
        "    data,\n",
        "    x=audio_features_columns[0],  # First audio feature\n",
        "    y=popularity_column,\n",
        "    color=audio_features_columns[0],  # Map colors based on the first audio feature\n",
        "    labels={'x': 'Danceability', 'y': 'Number of Streams'},\n",
        "    title=f'Danceability vs. Number of Streams',\n",
        ")\n",
        "\n",
        "# Customize the layout\n",
        "fig.update_layout(\n",
        "    plot_bgcolor='black',  # Set the background to black\n",
        "    paper_bgcolor='black', # Set the paper background to black\n",
        "    font=dict(color='white', size=12),  # Increase font size and set font color to white\n",
        ")\n",
        "\n",
        "# Show the scatter plot\n",
        "fig.show()\n",
        "\n",
        "# Repeat the process for the other two audio features\n",
        "for feature in audio_features_columns[1:]:\n",
        "    fig = px.scatter(\n",
        "        data,\n",
        "        x=feature,\n",
        "        y=popularity_column,\n",
        "        color=feature,  # Map colors based on the current audio feature\n",
        "        labels={'x': feature.capitalize(), 'y': 'Number of Streams'},\n",
        "        title=f'{feature.capitalize()} vs. Number of Streams',\n",
        "    )\n",
        "\n",
        "    # Customize the layout\n",
        "    fig.update_layout(\n",
        "        plot_bgcolor='black',  # Set the background to black\n",
        "        paper_bgcolor='black', # Set the paper background to black\n",
        "        font=dict(color='white', size=12),  # Increase font size and set font color to white\n",
        "    )\n",
        "\n",
        "    # Show the scatter plot\n",
        "    fig.show()\n"
      ],
      "metadata": {
        "colab": {
          "base_uri": "https://localhost:8080/",
          "height": 1000
        },
        "id": "rMYXiL8uHc_d",
        "outputId": "a5fcfc12-f87d-4b97-e609-9ebd0beec902"
      },
      "execution_count": 27,
      "outputs": [
        {
          "output_type": "display_data",
          "data": {
            "text/html": [
              "<html>\n",
              "<head><meta charset=\"utf-8\" /></head>\n",
              "<body>\n",
              "    <div>            <script src=\"https://cdnjs.cloudflare.com/ajax/libs/mathjax/2.7.5/MathJax.js?config=TeX-AMS-MML_SVG\"></script><script type=\"text/javascript\">if (window.MathJax && window.MathJax.Hub && window.MathJax.Hub.Config) {window.MathJax.Hub.Config({SVG: {font: \"STIX-Web\"}});}</script>                <script type=\"text/javascript\">window.PlotlyConfig = {MathJaxConfig: 'local'};</script>\n",
              "        <script charset=\"utf-8\" src=\"https://cdn.plot.ly/plotly-2.24.1.min.js\"></script>                <div id=\"2ca611ac-3098-4379-acc3-be5bfc88e5c3\" class=\"plotly-graph-div\" style=\"height:525px; width:100%;\"></div>            <script type=\"text/javascript\">                                    window.PLOTLYENV=window.PLOTLYENV || {};                                    if (document.getElementById(\"2ca611ac-3098-4379-acc3-be5bfc88e5c3\")) {                    Plotly.newPlot(                        \"2ca611ac-3098-4379-acc3-be5bfc88e5c3\",                        [{\"hovertemplate\":\"danceability_%=%{marker.color}\\u003cbr\\u003estreams=%{y}\\u003cextra\\u003e\\u003c\\u002fextra\\u003e\",\"legendgroup\":\"\",\"marker\":{\"color\":[80,71,51,55,65,92,67,67,85,81,57,78,71,51,52,64,78,44,86,63,65,69,48,85,85,79,80,81,52,67,74,56,71,64,72,81,61,75,60,79,56,76,56,56,77,67,71,59,68,53,72,60,92,67,45,50,64,84,86,61,86,70,88,77,90,43,64,59,56,51,77,76,51,61,62,49,58,71,78,68,48,34,63,50,59,78,50,91,82,63,71,74,68,62,53,83,49,56,56,62,43,68,50,62,81,54,80,61,77,61,74,51,77,65,64,70,55,84,82,51,75,64,74,49,81,87,63,55,35,78,82,80,42,78,52,63,75,76,60,56,77,84,93,92,79,59,65,45,60,74,81,78,47,69,73,50,54,66,61,73,78,86,77,45,68,68,82,45,73,60,65,60,55,33,57,71,65,70,56,83,67,70,53,34,37,74,54,70,63,57,54,63,65,50,48,74,84,62,81,57,61,53,75,77,56,89,67,85,78,82,70,80,73,84,77,78,54,71,62,72,78,74,66,66,95,80,76,71,59,63,69,78,43,79,82,82,78,73,92,80,59,91,49,47,34,56,60,84,83,67,95,84,65,44,62,50,80,70,77,52,44,79,51,77,68,74,93,77,94,60,72,87,90,57,79,76,76,70,92,84,69,59,75,56,59,80,70,59,32,54,82,89,45,62,70,77,70,80,82,73,65,72,71,70,48,73,78,67,71,74,65,59,72,70,64,90,73,76,81,71,63,95,58,60,40,36,90,71,77,83,70,50,64,68,61,59,64,66,84,56,57,74,56,68,59,73,79,50,70,58,36,86,59,59,87,49,72,53,55,81,82,74,88,76,53,72,75,65,75,73,66,66,84,53,60,74,70,80,58,53,56,70,64,88,66,79,82,25,64,57,65,92,81,82,44,51,71,70,68,41,68,47,77,79,71,80,46,79,58,64,74,41,40,87,87,40,46,47,91,90,81,49,64,95,63,39,80,67,58,81,58,70,46,70,82,65,84,69,58,65,74,34,74,70,74,35,46,24,45,72,51,50,65,67,53,65,71,33,73,67,36,75,60,62,60,72,60,51,67,23,51,34,43,53,72,59,73,67,70,49,54,80,70,69,47,79,66,64,89,70,80,63,87,45,83,69,51,61,33,63,70,70,70,60,65,85,58,76,80,74,67,53,70,56,41,49,77,75,66,61,74,27,65,28,74,68,71,75,64,83,75,31,56,29,59,59,82,63,77,53,70,46,65,79,40,57,83,73,81,58,63,77,44,75,63,73,66,56,73,72,70,86,79,77,83,44,75,74,66,67,66,59,85,77,53,77,59,46,42,35,77,59,68,83,70,72,86,63,39,80,91,45,79,73,76,96,40,67,80,73,75,46,81,61,74,79,73,78,60,45,78,76,63,52,64,53,75,80,77,73,82,44,89,42,52,45,67,52,41,71,35,60,74,75,57,74,72,70,82,79,55,77,56,90,69,80,85,63,84,81,51,35,53,92,69,47,52,91,90,61,60,37,31,57,46,84,60,67,77,93,31,76,91,78,81,67,86,74,79,73,89,65,89,51,47,78,31,44,73,39,84,56,92,76,62,68,74,44,81,76,87,81,95,64,28,78,81,59,80,65,55,72,59,77,80,42,76,41,59,69,53,70,69,67,61,75,39,86,68,91,58,45,81,60,68,76,70,83,72,59,63,56,78,79,70,86,71,71,69,93,57,89,87,58,86,78,45,79,86,91,68,61,61,81,84,78,56,79,52,55,87,85,50,71,92,66,78,80,82,65,61,84,78,56,86,57,50,80,81,63,61,83,85,51,73,91,36,44,64,83,38,37,43,88,66,84,61,66,71,49,68,77,71,82,87,73,86,54,47,53,32,76,58,47,37,70,56,72,72,51,63,69,80,88,82,60,56,80,71,58,73,82,56,65,63,85,72,83,81,57,51,71,91,83,56,60,52,81,42,68,49,70,54,70,91,51,73,81,80,44,78,45,80,56,88,88,95,85,44,58,71,63,77,72,70,74,61,55,47,81,90,56,79,79,81,77,70,82,77,67,67,68,37,74,77,90,70,65,65,34,56,37,70,81,64,82,78,70,52,65,84,73,66,57,72,57,92,49,74,80,59,91,75,80,75,84,66,73,48,77,34,48,62,93,54,85,64,57,60,42,80,82,61],\"coloraxis\":\"coloraxis\",\"symbol\":\"circle\"},\"mode\":\"markers\",\"name\":\"\",\"orientation\":\"v\",\"showlegend\":false,\"x\":[80,71,51,55,65,92,67,67,85,81,57,78,71,51,52,64,78,44,86,63,65,69,48,85,85,79,80,81,52,67,74,56,71,64,72,81,61,75,60,79,56,76,56,56,77,67,71,59,68,53,72,60,92,67,45,50,64,84,86,61,86,70,88,77,90,43,64,59,56,51,77,76,51,61,62,49,58,71,78,68,48,34,63,50,59,78,50,91,82,63,71,74,68,62,53,83,49,56,56,62,43,68,50,62,81,54,80,61,77,61,74,51,77,65,64,70,55,84,82,51,75,64,74,49,81,87,63,55,35,78,82,80,42,78,52,63,75,76,60,56,77,84,93,92,79,59,65,45,60,74,81,78,47,69,73,50,54,66,61,73,78,86,77,45,68,68,82,45,73,60,65,60,55,33,57,71,65,70,56,83,67,70,53,34,37,74,54,70,63,57,54,63,65,50,48,74,84,62,81,57,61,53,75,77,56,89,67,85,78,82,70,80,73,84,77,78,54,71,62,72,78,74,66,66,95,80,76,71,59,63,69,78,43,79,82,82,78,73,92,80,59,91,49,47,34,56,60,84,83,67,95,84,65,44,62,50,80,70,77,52,44,79,51,77,68,74,93,77,94,60,72,87,90,57,79,76,76,70,92,84,69,59,75,56,59,80,70,59,32,54,82,89,45,62,70,77,70,80,82,73,65,72,71,70,48,73,78,67,71,74,65,59,72,70,64,90,73,76,81,71,63,95,58,60,40,36,90,71,77,83,70,50,64,68,61,59,64,66,84,56,57,74,56,68,59,73,79,50,70,58,36,86,59,59,87,49,72,53,55,81,82,74,88,76,53,72,75,65,75,73,66,66,84,53,60,74,70,80,58,53,56,70,64,88,66,79,82,25,64,57,65,92,81,82,44,51,71,70,68,41,68,47,77,79,71,80,46,79,58,64,74,41,40,87,87,40,46,47,91,90,81,49,64,95,63,39,80,67,58,81,58,70,46,70,82,65,84,69,58,65,74,34,74,70,74,35,46,24,45,72,51,50,65,67,53,65,71,33,73,67,36,75,60,62,60,72,60,51,67,23,51,34,43,53,72,59,73,67,70,49,54,80,70,69,47,79,66,64,89,70,80,63,87,45,83,69,51,61,33,63,70,70,70,60,65,85,58,76,80,74,67,53,70,56,41,49,77,75,66,61,74,27,65,28,74,68,71,75,64,83,75,31,56,29,59,59,82,63,77,53,70,46,65,79,40,57,83,73,81,58,63,77,44,75,63,73,66,56,73,72,70,86,79,77,83,44,75,74,66,67,66,59,85,77,53,77,59,46,42,35,77,59,68,83,70,72,86,63,39,80,91,45,79,73,76,96,40,67,80,73,75,46,81,61,74,79,73,78,60,45,78,76,63,52,64,53,75,80,77,73,82,44,89,42,52,45,67,52,41,71,35,60,74,75,57,74,72,70,82,79,55,77,56,90,69,80,85,63,84,81,51,35,53,92,69,47,52,91,90,61,60,37,31,57,46,84,60,67,77,93,31,76,91,78,81,67,86,74,79,73,89,65,89,51,47,78,31,44,73,39,84,56,92,76,62,68,74,44,81,76,87,81,95,64,28,78,81,59,80,65,55,72,59,77,80,42,76,41,59,69,53,70,69,67,61,75,39,86,68,91,58,45,81,60,68,76,70,83,72,59,63,56,78,79,70,86,71,71,69,93,57,89,87,58,86,78,45,79,86,91,68,61,61,81,84,78,56,79,52,55,87,85,50,71,92,66,78,80,82,65,61,84,78,56,86,57,50,80,81,63,61,83,85,51,73,91,36,44,64,83,38,37,43,88,66,84,61,66,71,49,68,77,71,82,87,73,86,54,47,53,32,76,58,47,37,70,56,72,72,51,63,69,80,88,82,60,56,80,71,58,73,82,56,65,63,85,72,83,81,57,51,71,91,83,56,60,52,81,42,68,49,70,54,70,91,51,73,81,80,44,78,45,80,56,88,88,95,85,44,58,71,63,77,72,70,74,61,55,47,81,90,56,79,79,81,77,70,82,77,67,67,68,37,74,77,90,70,65,65,34,56,37,70,81,64,82,78,70,52,65,84,73,66,57,72,57,92,49,74,80,59,91,75,80,75,84,66,73,48,77,34,48,62,93,54,85,64,57,60,42,80,82,61],\"xaxis\":\"x\",\"y\":[141381703.0,133716286.0,140003974.0,800840817.0,303236322.0,183706234.0,725980112.0,58149378.0,95217315.0,553634067.0,505671438.0,58255150.0,1316855716.0,387570742.0,2513188493.0,1163093654.0,496795686.0,30546883.0,335222234.0,363369738.0,86444842.0,52135248.0,1297026226.0,200647221.0,115364561.0,78300654.0,899183384.0,61245289.0,429829812.0,127408954.0,22581161.0,52294266.0,843957510.0,999748277.0,618990393.0,123122413.0,188933502.0,1355959075.0,786181836.0,176553476.0,354495408.0,2808096550.0,1109433169.0,1047101291.0,65156199.0,570515054.0,1085685420.0,1647990401.0,2565529693.0,518745108.0,107753850.0,177740666.0,153372011.0,57876440.0,1813673666.0,3703895074.0,256483385.0,1214083358.0,16011326.0,812019557.0,111947664.0,156338624.0,720434240.0,357925728.0,674072710.0,1755214421.0,404562836.0,373199958.0,14780425.0,39578178.0,54266102.0,2557975762.0,751134527.0,2282771485.0,1356565093.0,1592909789.0,635412045.0,1230675890.0,585695368.0,43857627.0,2009094673.0,600976848.0,39709092.0,39228929.0,2665343922.0,223633238.0,2887241814.0,1440757818.0,165484133.0,58054811.0,157058870.0,95131998.0,250305248.0,685032533.0,38411956.0,144565150.0,127567540.0,399686758.0,983637508.0,118482347.0,882831184.0,286400165.0,172825906.0,1241559043.0,29562220.0,77309611.0,1605224506.0,1116995633.0,838079900.0,1163620694.0,1093605526.0,179659294.0,39058561.0,36912123.0,1205951614.0,1791000570.0,201660859.0,248088961.0,90839753.0,607123776.0,55842345.0,211050784.0,342897938.0,2762.0,330346424.0,601863821.0,1953533826.0,2322580122.0,2355719893.0,66902503.0,96273746.0,430977451.0,284819874.0,721975598.0,1217120710.0,109276132.0,276259178.0,54225632.0,2559529074.0,681583126.0,2594040133.0,81102253.0,11956641.0,1687664027.0,11599388.0,611700552.0,1133865788.0,1089402494.0,411747614.0,255932395.0,31873544.0,95053634.0,1279434863.0,233801632.0,1481349984.0,142095275.0,618885532.0,2011464183.0,1167330737.0,929964809.0,436027885.0,657723613.0,2713922350.0,621660989.0,1591223784.0,950906471.0,1593270737.0,1410088830.0,1235005533.0,1661187319.0,1374581173.0,94186466.0,1788326445.0,1840364617.0,143573775.0,684675814.0,1113838873.0,1267333350.0,726307468.0,3562543890.0,1131090940.0,307370144.0,1271293243.0,265882712.0,841749534.0,47956378.0,806397070.0,2132335812.0,1641426668.0,2135158446.0,367316268.0,350381515.0,1264310836.0,30343206.0,405136812.0,1145727611.0,540654286.0,57312735.0,397582059.0,1479115056.0,86773632.0,133753727.0,123124076.0,463564958.0,64533040.0,65496046.0,68616963.0,161460990.0,70106975.0,113509496.0,89933133.0,71007139.0,43522589.0,232896922.0,37126685.0,195576623.0,532336353.0,538115192.0,46142772.0,401036314.0,127026613.0,345031710.0,288101651.0,60350538.0,335074782.0,76767396.0,46065667.0,459276435.0,39666245.0,138517666.0,822633917.0,595900742.0,51985779.0,57945987.0,115010040.0,175097833.0,57089066.0,488386797.0,32761689.0,1047480053.0,153454328.0,217672943.0,457184829.0,939844851.0,726434358.0,573633020.0,1406111294.0,71573339.0,24975653.0,145458418.0,1424589568.0,231332117.0,415932686.0,988515741.0,50847624.0,39893489.0,92035115.0,118810253.0,77233241.0,206399629.0,117747907.0,266624541.0,293186992.0,139681964.0,123132751.0,103762518.0,162887075.0,91221625.0,190490915.0,96180277.0,185240616.0,885093467.0,104992946.0,147290338.0,1302184087.0,158950978.0,76910644.0,137123880.0,782369383.0,502574952.0,207033255.0,404887295.0,381161027.0,466231982.0,357580552.0,61105704.0,198275403.0,168448603.0,705469769.0,34502215.0,482175240.0,304118600.0,1449799467.0,173627354.0,90025258.0,652704649.0,1829992958.0,655466831.0,146409671.0,95816024.0,117206995.0,100409613.0,80758350.0,325592432.0,58473276.0,52722996.0,191945597.0,77377503.0,743693613.0,267789608.0,1221813483.0,449701773.0,67070410.0,116334601.0,433356509.0,165584767.0,367814306.0,477033549.0,156214700.0,448843705.0,1357608774.0,294352144.0,972164968.0,920045682.0,2420461338.0,1947371785.0,244658767.0,68216992.0,223582566.0,471819764.0,272377463.0,1361425037.0,149778242.0,116599790.0,148469433.0,497225336.0,88791109.0,125917280.0,105062254.0,95623148.0,144584800.0,298063749.0,166570053.0,83021468.0,139836056.0,303216294.0,221409663.0,58890931.0,81419389.0,156777415.0,284908316.0,93438910.0,363472647.0,372476382.0,380726517.0,56533272.0,175399345.0,203221468.0,1624165576.0,134294498.0,70069745.0,609293408.0,671365962.0,362361576.0,93587665.0,1223481149.0,1022258230.0,263453310.0,1435127549.0,236857112.0,147538971.0,698086140.0,723894473.0,34450974.0,403097450.0,309483971.0,319566866.0,909001996.0,1061966512.0,32526947.0,124988687.0,103787664.0,134255790.0,301051721.0,156338624.0,152850295.0,309653982.0,297328960.0,332506354.0,480507035.0,1065580332.0,122763672.0,445763624.0,1365184.0,184308753.0,789753877.0,323358833.0,606361689.0,120972253.0,338564981.0,1606986953.0,1301799902.0,140187018.0,1897517891.0,107642809.0,551305895.0,556585270.0,2303033973.0,646886885.0,222612678.0,1814349763.0,872137015.0,571386359.0,304079786.0,174006928.0,284785823.0,163284000.0,246390068.0,482257456.0,168684524.0,78489819.0,195516622.0,1260594497.0,428685680.0,1024858327.0,838586769.0,199386237.0,972509632.0,213438580.0,1555511105.0,210038833.0,227918678.0,826623384.0,1802514301.0,1329090101.0,181831132.0,462791599.0,348647203.0,366599607.0,90598517.0,1479264469.0,1449779435.0,1159176109.0,769213520.0,741301563.0,807561936.0,834129063.0,663832097.0,446390129.0,690104769.0,485285717.0,520034544.0,476244795.0,629173063.0,404664135.0,98709329.0,110849052.0,460492795.0,94005786.0,395591396.0,389771964.0,403939487.0,481697415.0,110073250.0,88092256.0,351636786.0,473248298.0,73981293.0,155653938.0,395591396.0,429504768.0,242767149.0,65362788.0,67540165.0,62019074.0,135723538.0,295998468.0,261116938.0,136689549.0,135611421.0,356709897.0,110649992.0,301869854.0,127027715.0,57144458.0,56870689.0,323437194.0,317726339.0,116144341.0,328207708.0,608228647.0,180577478.0,809306935.0,49262961.0,614555082.0,245350949.0,178660459.0,51641685.0,78139948.0,322336177.0,1007612429.0,326792833.0,391251368.0,349585590.0,339659802.0,674772936.0,432719968.0,1309887447.0,119238316.0,116903579.0,888046992.0,200660871.0,130655803.0,1887039593.0,88103848.0,101114984.0,1575467011.0,91656026.0,1042568408.0,1735441776.0,726837877.0,53933526.0,267758538.0,74601456.0,920797189.0,539595276.0,1367810478.0,578207856.0,775542072.0,863625566.0,656013912.0,1056760045.0,611994237.0,1230855859.0,582981380.0,1858144199.0,240684449.0,583687007.0,63803529.0,466214729.0,236940480.0,41924466.0,225259194.0,393230256.0,287201015.0,599770206.0,342779426.0,673801126.0,1168642797.0,540539717.0,383550148.0,530511203.0,37307967.0,510876816.0,1445941661.0,1763363713.0,374191487.0,108809090.0,436695353.0,421040617.0,501541661.0,354065229.0,1143647827.0,311395144.0,672656250.0,1256880657.0,1692897992.0,245095641.0,686734357.0,261414174.0,610045621.0,1115880852.0,594482982.0,566954746.0,null,374706940.0,184937148.0,31959571.0,167076418.0,824420218.0,363467642.0,1127468248.0,60680939.0,247737946.0,1699402402.0,154797871.0,198883004.0,124407432.0,850608354.0,376333030.0,516784627.0,1608045237.0,506778838.0,1472799873.0,513643924.0,261286503.0,783706581.0,422691058.0,1062345656.0,1252563873.0,851070493.0,263894529.0,345903614.0,951637566.0,956865266.0,427486004.0,156658366.0,624515457.0,777765388.0,412795151.0,1138474110.0,355219175.0,290228626.0,1062956628.0,1180094974.0,1456081449.0,432702334.0,489945871.0,465959382.0,1223481149.0,2864791672.0,2288695111.0,720825549.0,2086124197.0,1690192927.0,991336132.0,593917618.0,200972675.0,71014967.0,560222750.0,1806617704.0,77337771.0,528544703.0,865640097.0,2159346687.0,211372494.0,651732901.0,608334048.0,863756573.0,797402345.0,1695712020.0,1759567999.0,223319934.0,54937991.0,226897599.0,258316038.0,596152090.0,177129919.0,716591492.0,1210599487.0,246376690.0,496311364.0,146789379.0,843309044.0,500340342.0,107255472.0,135079152.0,822239726.0,1202722675.0,343197054.0,240769997.0,426204830.0,421135627.0,554875730.0,467727006.0,327498031.0,185408548.0,245400167.0,579395142.0,675039469.0,252871192.0,231996128.0,1929770265.0,918915401.0,1180896317.0,498960285.0,685071800.0,258714692.0,143139338.0,209768491.0,64714573.0,50746620.0,154119539.0,181328253.0,370068639.0,2280566092.0,563902868.0,317622165.0,291709698.0,203680270.0,81350745.0,282883169.0,64787943.0,2484812918.0,461437791.0,1439191367.0,759208783.0,368646862.0,299634472.0,756907987.0,682475162.0,546191065.0,229473310.0,202677468.0,121913181.0,208166039.0,527033089.0,94616487.0,394030335.0,193443895.0,299648208.0,182978249.0,319757142.0,109091573.0,153240879.0,346127840.0,312622938.0,2197010679.0,1200808494.0,797196073.0,1970673297.0,665765558.0,263779030.0,339473453.0,2204080728.0,2591224264.0,135444283.0,1457139296.0,236872197.0,694525298.0,240661097.0,421365166.0,349746291.0,255120451.0,190981339.0,924193303.0,305771063.0,273005485.0,89566512.0,677389855.0,75476209.0,408843328.0,187772591.0,178512385.0,101780047.0,118381354.0,146363130.0,126443991.0,157990698.0,176290831.0,1023187129.0,106933107.0,139193812.0,212234990.0,1714490998.0,197643795.0,807015863.0,933815613.0,499710590.0,120847157.0,53909146.0,2236667932.0,2123309722.0,301242089.0,723894473.0,237351106.0,461558540.0,417230415.0,156898322.0,127309180.0,313113297.0,173702135.0,271666301.0,305650299.0,123216717.0,479655659.0,126191104.0,344055883.0,338422004.0,68895644.0,86176890.0,403231558.0,319546754.0,61739839.0,283359161.0,76831876.0,283332261.0,307752576.0,279737940.0,212351890.0,1304313953.0,150500965.0,246127838.0,582863434.0,58687425.0,212109195.0,382199619.0,41210087.0,231657891.0,53729194.0,244741137.0,42485571.0,37778188.0,254218729.0,53603447.0,160035717.0,164163229.0,37091576.0,284249832.0,33381454.0,184622518.0,300983101.0,121077868.0,106919680.0,136996305.0,65719930.0,229497852.0,185550869.0,54682594.0,240580042.0,1284942608.0,71423324.0,244891912.0,132171975.0,184706613.0,184826429.0,302006641.0,330881149.0,334733572.0,366214458.0,114546317.0,290833204.0,448500832.0,136676504.0,190625045.0,79095270.0,273194684.0,333146475.0,194902696.0,311482393.0,195918494.0,248511839.0,233671263.0,199587884.0,91781263.0,383835984.0,236060709.0,189236868.0,160845341.0,588955257.0,238350348.0,187703102.0,295307001.0,138334433.0,445590495.0,286739476.0,1122364376.0,157136970.0,137070925.0,183273246.0,184807630.0,164856284.0,704171068.0,354614964.0,279717388.0,195628667.0,221752937.0,263280370.0,213505179.0,130419412.0,155795783.0,1553497987.0,293466523.0,711366595.0,191448892.0,85924992.0,176103902.0,121189256.0,131746175.0,244790012.0,129314708.0,331511413.0,219196651.0,170732845.0,273914335.0,179061440.0,185236961.0,171788484.0,387080183.0,264717480.0,244928911.0,97610446.0,287278853.0,887906111.0,123473120.0,295152154.0,323455692.0,240918092.0,191873381.0,284216603.0,239411309.0,265548837.0,703301727.0,244585109.0,189476119.0,277132266.0,278920007.0,222410722.0,185392587.0,202452860.0,1608164312.0,624101957.0,148461629.0,47093942.0,380319238.0,209106362.0,53987404.0,115331792.0,225093344.0,84697729.0,159240673.0,170709584.0,154356956.0,723043854.0,247689123.0,176474912.0,235549288.0,140430339.0,85559365.0,146223492.0,187701588.0,154863153.0,191333656.0,253650850.0,223064273.0,170413877.0,218320587.0,141720999.0,187339835.0,198365537.0,186104310.0,177503916.0,71095708.0,112436403.0,203436468.0,93367537.0,106249219.0,181382590.0,91473363.0,121871870.0,73513683.0,133895612.0,96007391.0],\"yaxis\":\"y\",\"type\":\"scatter\"}],                        {\"template\":{\"data\":{\"histogram2dcontour\":[{\"type\":\"histogram2dcontour\",\"colorbar\":{\"outlinewidth\":0,\"ticks\":\"\"},\"colorscale\":[[0.0,\"#0d0887\"],[0.1111111111111111,\"#46039f\"],[0.2222222222222222,\"#7201a8\"],[0.3333333333333333,\"#9c179e\"],[0.4444444444444444,\"#bd3786\"],[0.5555555555555556,\"#d8576b\"],[0.6666666666666666,\"#ed7953\"],[0.7777777777777778,\"#fb9f3a\"],[0.8888888888888888,\"#fdca26\"],[1.0,\"#f0f921\"]]}],\"choropleth\":[{\"type\":\"choropleth\",\"colorbar\":{\"outlinewidth\":0,\"ticks\":\"\"}}],\"histogram2d\":[{\"type\":\"histogram2d\",\"colorbar\":{\"outlinewidth\":0,\"ticks\":\"\"},\"colorscale\":[[0.0,\"#0d0887\"],[0.1111111111111111,\"#46039f\"],[0.2222222222222222,\"#7201a8\"],[0.3333333333333333,\"#9c179e\"],[0.4444444444444444,\"#bd3786\"],[0.5555555555555556,\"#d8576b\"],[0.6666666666666666,\"#ed7953\"],[0.7777777777777778,\"#fb9f3a\"],[0.8888888888888888,\"#fdca26\"],[1.0,\"#f0f921\"]]}],\"heatmap\":[{\"type\":\"heatmap\",\"colorbar\":{\"outlinewidth\":0,\"ticks\":\"\"},\"colorscale\":[[0.0,\"#0d0887\"],[0.1111111111111111,\"#46039f\"],[0.2222222222222222,\"#7201a8\"],[0.3333333333333333,\"#9c179e\"],[0.4444444444444444,\"#bd3786\"],[0.5555555555555556,\"#d8576b\"],[0.6666666666666666,\"#ed7953\"],[0.7777777777777778,\"#fb9f3a\"],[0.8888888888888888,\"#fdca26\"],[1.0,\"#f0f921\"]]}],\"heatmapgl\":[{\"type\":\"heatmapgl\",\"colorbar\":{\"outlinewidth\":0,\"ticks\":\"\"},\"colorscale\":[[0.0,\"#0d0887\"],[0.1111111111111111,\"#46039f\"],[0.2222222222222222,\"#7201a8\"],[0.3333333333333333,\"#9c179e\"],[0.4444444444444444,\"#bd3786\"],[0.5555555555555556,\"#d8576b\"],[0.6666666666666666,\"#ed7953\"],[0.7777777777777778,\"#fb9f3a\"],[0.8888888888888888,\"#fdca26\"],[1.0,\"#f0f921\"]]}],\"contourcarpet\":[{\"type\":\"contourcarpet\",\"colorbar\":{\"outlinewidth\":0,\"ticks\":\"\"}}],\"contour\":[{\"type\":\"contour\",\"colorbar\":{\"outlinewidth\":0,\"ticks\":\"\"},\"colorscale\":[[0.0,\"#0d0887\"],[0.1111111111111111,\"#46039f\"],[0.2222222222222222,\"#7201a8\"],[0.3333333333333333,\"#9c179e\"],[0.4444444444444444,\"#bd3786\"],[0.5555555555555556,\"#d8576b\"],[0.6666666666666666,\"#ed7953\"],[0.7777777777777778,\"#fb9f3a\"],[0.8888888888888888,\"#fdca26\"],[1.0,\"#f0f921\"]]}],\"surface\":[{\"type\":\"surface\",\"colorbar\":{\"outlinewidth\":0,\"ticks\":\"\"},\"colorscale\":[[0.0,\"#0d0887\"],[0.1111111111111111,\"#46039f\"],[0.2222222222222222,\"#7201a8\"],[0.3333333333333333,\"#9c179e\"],[0.4444444444444444,\"#bd3786\"],[0.5555555555555556,\"#d8576b\"],[0.6666666666666666,\"#ed7953\"],[0.7777777777777778,\"#fb9f3a\"],[0.8888888888888888,\"#fdca26\"],[1.0,\"#f0f921\"]]}],\"mesh3d\":[{\"type\":\"mesh3d\",\"colorbar\":{\"outlinewidth\":0,\"ticks\":\"\"}}],\"scatter\":[{\"fillpattern\":{\"fillmode\":\"overlay\",\"size\":10,\"solidity\":0.2},\"type\":\"scatter\"}],\"parcoords\":[{\"type\":\"parcoords\",\"line\":{\"colorbar\":{\"outlinewidth\":0,\"ticks\":\"\"}}}],\"scatterpolargl\":[{\"type\":\"scatterpolargl\",\"marker\":{\"colorbar\":{\"outlinewidth\":0,\"ticks\":\"\"}}}],\"bar\":[{\"error_x\":{\"color\":\"#2a3f5f\"},\"error_y\":{\"color\":\"#2a3f5f\"},\"marker\":{\"line\":{\"color\":\"#E5ECF6\",\"width\":0.5},\"pattern\":{\"fillmode\":\"overlay\",\"size\":10,\"solidity\":0.2}},\"type\":\"bar\"}],\"scattergeo\":[{\"type\":\"scattergeo\",\"marker\":{\"colorbar\":{\"outlinewidth\":0,\"ticks\":\"\"}}}],\"scatterpolar\":[{\"type\":\"scatterpolar\",\"marker\":{\"colorbar\":{\"outlinewidth\":0,\"ticks\":\"\"}}}],\"histogram\":[{\"marker\":{\"pattern\":{\"fillmode\":\"overlay\",\"size\":10,\"solidity\":0.2}},\"type\":\"histogram\"}],\"scattergl\":[{\"type\":\"scattergl\",\"marker\":{\"colorbar\":{\"outlinewidth\":0,\"ticks\":\"\"}}}],\"scatter3d\":[{\"type\":\"scatter3d\",\"line\":{\"colorbar\":{\"outlinewidth\":0,\"ticks\":\"\"}},\"marker\":{\"colorbar\":{\"outlinewidth\":0,\"ticks\":\"\"}}}],\"scattermapbox\":[{\"type\":\"scattermapbox\",\"marker\":{\"colorbar\":{\"outlinewidth\":0,\"ticks\":\"\"}}}],\"scatterternary\":[{\"type\":\"scatterternary\",\"marker\":{\"colorbar\":{\"outlinewidth\":0,\"ticks\":\"\"}}}],\"scattercarpet\":[{\"type\":\"scattercarpet\",\"marker\":{\"colorbar\":{\"outlinewidth\":0,\"ticks\":\"\"}}}],\"carpet\":[{\"aaxis\":{\"endlinecolor\":\"#2a3f5f\",\"gridcolor\":\"white\",\"linecolor\":\"white\",\"minorgridcolor\":\"white\",\"startlinecolor\":\"#2a3f5f\"},\"baxis\":{\"endlinecolor\":\"#2a3f5f\",\"gridcolor\":\"white\",\"linecolor\":\"white\",\"minorgridcolor\":\"white\",\"startlinecolor\":\"#2a3f5f\"},\"type\":\"carpet\"}],\"table\":[{\"cells\":{\"fill\":{\"color\":\"#EBF0F8\"},\"line\":{\"color\":\"white\"}},\"header\":{\"fill\":{\"color\":\"#C8D4E3\"},\"line\":{\"color\":\"white\"}},\"type\":\"table\"}],\"barpolar\":[{\"marker\":{\"line\":{\"color\":\"#E5ECF6\",\"width\":0.5},\"pattern\":{\"fillmode\":\"overlay\",\"size\":10,\"solidity\":0.2}},\"type\":\"barpolar\"}],\"pie\":[{\"automargin\":true,\"type\":\"pie\"}]},\"layout\":{\"autotypenumbers\":\"strict\",\"colorway\":[\"#636efa\",\"#EF553B\",\"#00cc96\",\"#ab63fa\",\"#FFA15A\",\"#19d3f3\",\"#FF6692\",\"#B6E880\",\"#FF97FF\",\"#FECB52\"],\"font\":{\"color\":\"#2a3f5f\"},\"hovermode\":\"closest\",\"hoverlabel\":{\"align\":\"left\"},\"paper_bgcolor\":\"white\",\"plot_bgcolor\":\"#E5ECF6\",\"polar\":{\"bgcolor\":\"#E5ECF6\",\"angularaxis\":{\"gridcolor\":\"white\",\"linecolor\":\"white\",\"ticks\":\"\"},\"radialaxis\":{\"gridcolor\":\"white\",\"linecolor\":\"white\",\"ticks\":\"\"}},\"ternary\":{\"bgcolor\":\"#E5ECF6\",\"aaxis\":{\"gridcolor\":\"white\",\"linecolor\":\"white\",\"ticks\":\"\"},\"baxis\":{\"gridcolor\":\"white\",\"linecolor\":\"white\",\"ticks\":\"\"},\"caxis\":{\"gridcolor\":\"white\",\"linecolor\":\"white\",\"ticks\":\"\"}},\"coloraxis\":{\"colorbar\":{\"outlinewidth\":0,\"ticks\":\"\"}},\"colorscale\":{\"sequential\":[[0.0,\"#0d0887\"],[0.1111111111111111,\"#46039f\"],[0.2222222222222222,\"#7201a8\"],[0.3333333333333333,\"#9c179e\"],[0.4444444444444444,\"#bd3786\"],[0.5555555555555556,\"#d8576b\"],[0.6666666666666666,\"#ed7953\"],[0.7777777777777778,\"#fb9f3a\"],[0.8888888888888888,\"#fdca26\"],[1.0,\"#f0f921\"]],\"sequentialminus\":[[0.0,\"#0d0887\"],[0.1111111111111111,\"#46039f\"],[0.2222222222222222,\"#7201a8\"],[0.3333333333333333,\"#9c179e\"],[0.4444444444444444,\"#bd3786\"],[0.5555555555555556,\"#d8576b\"],[0.6666666666666666,\"#ed7953\"],[0.7777777777777778,\"#fb9f3a\"],[0.8888888888888888,\"#fdca26\"],[1.0,\"#f0f921\"]],\"diverging\":[[0,\"#8e0152\"],[0.1,\"#c51b7d\"],[0.2,\"#de77ae\"],[0.3,\"#f1b6da\"],[0.4,\"#fde0ef\"],[0.5,\"#f7f7f7\"],[0.6,\"#e6f5d0\"],[0.7,\"#b8e186\"],[0.8,\"#7fbc41\"],[0.9,\"#4d9221\"],[1,\"#276419\"]]},\"xaxis\":{\"gridcolor\":\"white\",\"linecolor\":\"white\",\"ticks\":\"\",\"title\":{\"standoff\":15},\"zerolinecolor\":\"white\",\"automargin\":true,\"zerolinewidth\":2},\"yaxis\":{\"gridcolor\":\"white\",\"linecolor\":\"white\",\"ticks\":\"\",\"title\":{\"standoff\":15},\"zerolinecolor\":\"white\",\"automargin\":true,\"zerolinewidth\":2},\"scene\":{\"xaxis\":{\"backgroundcolor\":\"#E5ECF6\",\"gridcolor\":\"white\",\"linecolor\":\"white\",\"showbackground\":true,\"ticks\":\"\",\"zerolinecolor\":\"white\",\"gridwidth\":2},\"yaxis\":{\"backgroundcolor\":\"#E5ECF6\",\"gridcolor\":\"white\",\"linecolor\":\"white\",\"showbackground\":true,\"ticks\":\"\",\"zerolinecolor\":\"white\",\"gridwidth\":2},\"zaxis\":{\"backgroundcolor\":\"#E5ECF6\",\"gridcolor\":\"white\",\"linecolor\":\"white\",\"showbackground\":true,\"ticks\":\"\",\"zerolinecolor\":\"white\",\"gridwidth\":2}},\"shapedefaults\":{\"line\":{\"color\":\"#2a3f5f\"}},\"annotationdefaults\":{\"arrowcolor\":\"#2a3f5f\",\"arrowhead\":0,\"arrowwidth\":1},\"geo\":{\"bgcolor\":\"white\",\"landcolor\":\"#E5ECF6\",\"subunitcolor\":\"white\",\"showland\":true,\"showlakes\":true,\"lakecolor\":\"white\"},\"title\":{\"x\":0.05},\"mapbox\":{\"style\":\"light\"}}},\"xaxis\":{\"anchor\":\"y\",\"domain\":[0.0,1.0],\"title\":{\"text\":\"danceability_%\"}},\"yaxis\":{\"anchor\":\"x\",\"domain\":[0.0,1.0],\"title\":{\"text\":\"streams\"}},\"coloraxis\":{\"colorbar\":{\"title\":{\"text\":\"danceability_%\"}},\"colorscale\":[[0.0,\"#0d0887\"],[0.1111111111111111,\"#46039f\"],[0.2222222222222222,\"#7201a8\"],[0.3333333333333333,\"#9c179e\"],[0.4444444444444444,\"#bd3786\"],[0.5555555555555556,\"#d8576b\"],[0.6666666666666666,\"#ed7953\"],[0.7777777777777778,\"#fb9f3a\"],[0.8888888888888888,\"#fdca26\"],[1.0,\"#f0f921\"]]},\"legend\":{\"tracegroupgap\":0},\"title\":{\"text\":\"Danceability vs. Number of Streams\"},\"font\":{\"color\":\"white\",\"size\":12},\"plot_bgcolor\":\"black\",\"paper_bgcolor\":\"black\"},                        {\"responsive\": true}                    ).then(function(){\n",
              "                            \n",
              "var gd = document.getElementById('2ca611ac-3098-4379-acc3-be5bfc88e5c3');\n",
              "var x = new MutationObserver(function (mutations, observer) {{\n",
              "        var display = window.getComputedStyle(gd).display;\n",
              "        if (!display || display === 'none') {{\n",
              "            console.log([gd, 'removed!']);\n",
              "            Plotly.purge(gd);\n",
              "            observer.disconnect();\n",
              "        }}\n",
              "}});\n",
              "\n",
              "// Listen for the removal of the full notebook cells\n",
              "var notebookContainer = gd.closest('#notebook-container');\n",
              "if (notebookContainer) {{\n",
              "    x.observe(notebookContainer, {childList: true});\n",
              "}}\n",
              "\n",
              "// Listen for the clearing of the current output cell\n",
              "var outputEl = gd.closest('.output');\n",
              "if (outputEl) {{\n",
              "    x.observe(outputEl, {childList: true});\n",
              "}}\n",
              "\n",
              "                        })                };                            </script>        </div>\n",
              "</body>\n",
              "</html>"
            ]
          },
          "metadata": {}
        },
        {
          "output_type": "display_data",
          "data": {
            "text/html": [
              "<html>\n",
              "<head><meta charset=\"utf-8\" /></head>\n",
              "<body>\n",
              "    <div>            <script src=\"https://cdnjs.cloudflare.com/ajax/libs/mathjax/2.7.5/MathJax.js?config=TeX-AMS-MML_SVG\"></script><script type=\"text/javascript\">if (window.MathJax && window.MathJax.Hub && window.MathJax.Hub.Config) {window.MathJax.Hub.Config({SVG: {font: \"STIX-Web\"}});}</script>                <script type=\"text/javascript\">window.PlotlyConfig = {MathJaxConfig: 'local'};</script>\n",
              "        <script charset=\"utf-8\" src=\"https://cdn.plot.ly/plotly-2.24.1.min.js\"></script>                <div id=\"844e96d9-6319-468f-8525-a78783d96c73\" class=\"plotly-graph-div\" style=\"height:525px; width:100%;\"></div>            <script type=\"text/javascript\">                                    window.PLOTLYENV=window.PLOTLYENV || {};                                    if (document.getElementById(\"844e96d9-6319-468f-8525-a78783d96c73\")) {                    Plotly.newPlot(                        \"844e96d9-6319-468f-8525-a78783d96c73\",                        [{\"hovertemplate\":\"energy_%=%{marker.color}\\u003cbr\\u003estreams=%{y}\\u003cextra\\u003e\\u003c\\u002fextra\\u003e\",\"legendgroup\":\"\",\"marker\":{\"color\":[83,74,53,72,80,58,76,71,62,48,72,82,68,43,73,73,59,9,66,73,74,76,42,67,68,86,80,71,68,85,84,87,61,63,63,68,73,68,79,85,65,50,97,56,58,64,81,52,59,53,64,91,70,88,54,80,72,68,72,58,96,81,59,64,59,66,62,42,73,53,89,53,59,81,78,62,48,47,73,79,73,57,34,64,76,68,41,71,66,82,60,76,76,53,47,44,35,55,66,59,55,71,90,67,72,40,80,69,72,68,53,44,62,78,81,52,78,71,85,61,63,87,68,64,60,55,93,82,30,65,83,77,86,63,85,54,53,72,45,55,78,50,65,66,89,48,69,59,35,80,77,81,92,71,70,52,67,71,74,69,83,80,63,62,82,60,45,37,77,27,55,53,53,71,94,50,80,63,64,65,52,54,34,56,47,63,55,75,85,66,60,73,72,89,41,70,77,80,64,90,48,67,48,73,55,78,78,68,30,39,43,74,62,39,55,53,74,70,62,59,84,83,60,40,52,78,58,56,60,92,51,69,74,62,62,44,70,44,51,48,89,58,55,78,51,52,37,47,69,67,66,79,53,32,66,76,88,84,58,48,41,78,33,66,88,73,47,88,61,57,47,52,68,59,86,81,70,41,62,53,90,53,76,87,64,70,48,82,74,48,69,66,60,76,68,71,73,76,67,57,56,78,65,79,80,86,46,76,73,87,79,38,66,79,37,73,85,79,79,97,61,69,67,78,56,57,14,31,87,83,55,86,77,82,91,74,80,76,67,85,76,45,43,81,56,79,74,76,73,38,28,79,94,65,70,67,63,70,90,77,59,69,50,56,36,76,25,95,65,57,40,57,74,81,76,73,51,67,68,66,63,90,89,80,84,68,45,30,72,84,86,51,78,74,77,79,88,64,71,25,49,43,80,86,89,69,64,79,60,91,70,61,48,83,52,64,28,52,57,81,84,66,65,89,55,43,62,64,62,90,94,34,78,83,76,47,69,39,57,80,74,63,65,41,37,23,63,60,24,51,81,82,47,54,77,65,26,61,69,36,15,58,57,43,20,87,32,66,59,25,58,76,44,74,68,94,32,72,59,77,39,54,57,36,68,46,32,40,74,56,68,88,69,68,80,71,34,55,59,86,54,79,58,47,74,81,45,77,51,73,67,79,77,66,64,59,66,84,61,51,73,49,58,41,85,78,80,76,70,55,76,24,67,33,61,43,61,52,62,73,44,50,47,70,29,58,41,86,63,60,62,47,94,86,68,57,82,55,85,68,49,53,36,42,62,60,77,65,68,63,69,62,37,79,69,30,63,48,36,94,79,52,73,73,72,71,79,35,45,55,66,60,91,76,77,42,29,90,62,80,61,83,90,46,89,84,45,52,33,57,70,84,67,61,37,85,74,60,63,74,59,48,82,26,91,33,47,69,88,61,93,89,66,46,40,67,72,74,86,54,85,32,76,54,89,69,54,75,70,78,76,61,31,89,63,80,60,61,71,64,71,67,88,66,43,72,62,75,84,74,86,62,60,74,75,54,79,52,52,74,70,60,86,53,76,45,63,38,83,55,51,46,86,52,73,77,87,20,63,70,53,73,37,44,20,57,70,74,68,58,44,64,45,70,65,44,80,40,46,88,78,58,57,46,65,52,77,52,43,56,83,67,83,69,55,71,71,74,46,62,64,57,64,84,61,79,44,45,91,45,27,64,50,80,80,75,84,81,49,72,58,38,38,66,74,74,90,55,83,78,59,43,78,65,57,79,43,62,67,69,71,69,60,47,65,82,50,85,79,70,62,65,58,82,54,96,54,42,88,82,66,24,38,66,65,42,90,43,60,37,71,78,52,66,60,81,62,79,83,43,72,81,36,50,56,44,89,82,72,29,51,45,60,56,70,84,54,85,86,46,67,75,54,72,62,80,48,64,58,89,63,81,77,82,45,71,48,93,20,76,40,62,83,88,82,68,75,65,86,92,72,90,56,64,49,69,57,83,67,91,40,43,87,46,76,58,62,64,90,65,51,53,59,65,73,75,59,88,74,77,74,92,66,89,91,50,57,66,80,31,44,27,76,70,60,85,62,56,60,53,75,91,58,37,77,85,62,74,67,81,60,55,63,28,50,36,35,61,31,70,16,84,44,61,76,43,53,74,39,24,67,77,67],\"coloraxis\":\"coloraxis\",\"symbol\":\"circle\"},\"mode\":\"markers\",\"name\":\"\",\"orientation\":\"v\",\"showlegend\":false,\"x\":[83,74,53,72,80,58,76,71,62,48,72,82,68,43,73,73,59,9,66,73,74,76,42,67,68,86,80,71,68,85,84,87,61,63,63,68,73,68,79,85,65,50,97,56,58,64,81,52,59,53,64,91,70,88,54,80,72,68,72,58,96,81,59,64,59,66,62,42,73,53,89,53,59,81,78,62,48,47,73,79,73,57,34,64,76,68,41,71,66,82,60,76,76,53,47,44,35,55,66,59,55,71,90,67,72,40,80,69,72,68,53,44,62,78,81,52,78,71,85,61,63,87,68,64,60,55,93,82,30,65,83,77,86,63,85,54,53,72,45,55,78,50,65,66,89,48,69,59,35,80,77,81,92,71,70,52,67,71,74,69,83,80,63,62,82,60,45,37,77,27,55,53,53,71,94,50,80,63,64,65,52,54,34,56,47,63,55,75,85,66,60,73,72,89,41,70,77,80,64,90,48,67,48,73,55,78,78,68,30,39,43,74,62,39,55,53,74,70,62,59,84,83,60,40,52,78,58,56,60,92,51,69,74,62,62,44,70,44,51,48,89,58,55,78,51,52,37,47,69,67,66,79,53,32,66,76,88,84,58,48,41,78,33,66,88,73,47,88,61,57,47,52,68,59,86,81,70,41,62,53,90,53,76,87,64,70,48,82,74,48,69,66,60,76,68,71,73,76,67,57,56,78,65,79,80,86,46,76,73,87,79,38,66,79,37,73,85,79,79,97,61,69,67,78,56,57,14,31,87,83,55,86,77,82,91,74,80,76,67,85,76,45,43,81,56,79,74,76,73,38,28,79,94,65,70,67,63,70,90,77,59,69,50,56,36,76,25,95,65,57,40,57,74,81,76,73,51,67,68,66,63,90,89,80,84,68,45,30,72,84,86,51,78,74,77,79,88,64,71,25,49,43,80,86,89,69,64,79,60,91,70,61,48,83,52,64,28,52,57,81,84,66,65,89,55,43,62,64,62,90,94,34,78,83,76,47,69,39,57,80,74,63,65,41,37,23,63,60,24,51,81,82,47,54,77,65,26,61,69,36,15,58,57,43,20,87,32,66,59,25,58,76,44,74,68,94,32,72,59,77,39,54,57,36,68,46,32,40,74,56,68,88,69,68,80,71,34,55,59,86,54,79,58,47,74,81,45,77,51,73,67,79,77,66,64,59,66,84,61,51,73,49,58,41,85,78,80,76,70,55,76,24,67,33,61,43,61,52,62,73,44,50,47,70,29,58,41,86,63,60,62,47,94,86,68,57,82,55,85,68,49,53,36,42,62,60,77,65,68,63,69,62,37,79,69,30,63,48,36,94,79,52,73,73,72,71,79,35,45,55,66,60,91,76,77,42,29,90,62,80,61,83,90,46,89,84,45,52,33,57,70,84,67,61,37,85,74,60,63,74,59,48,82,26,91,33,47,69,88,61,93,89,66,46,40,67,72,74,86,54,85,32,76,54,89,69,54,75,70,78,76,61,31,89,63,80,60,61,71,64,71,67,88,66,43,72,62,75,84,74,86,62,60,74,75,54,79,52,52,74,70,60,86,53,76,45,63,38,83,55,51,46,86,52,73,77,87,20,63,70,53,73,37,44,20,57,70,74,68,58,44,64,45,70,65,44,80,40,46,88,78,58,57,46,65,52,77,52,43,56,83,67,83,69,55,71,71,74,46,62,64,57,64,84,61,79,44,45,91,45,27,64,50,80,80,75,84,81,49,72,58,38,38,66,74,74,90,55,83,78,59,43,78,65,57,79,43,62,67,69,71,69,60,47,65,82,50,85,79,70,62,65,58,82,54,96,54,42,88,82,66,24,38,66,65,42,90,43,60,37,71,78,52,66,60,81,62,79,83,43,72,81,36,50,56,44,89,82,72,29,51,45,60,56,70,84,54,85,86,46,67,75,54,72,62,80,48,64,58,89,63,81,77,82,45,71,48,93,20,76,40,62,83,88,82,68,75,65,86,92,72,90,56,64,49,69,57,83,67,91,40,43,87,46,76,58,62,64,90,65,51,53,59,65,73,75,59,88,74,77,74,92,66,89,91,50,57,66,80,31,44,27,76,70,60,85,62,56,60,53,75,91,58,37,77,85,62,74,67,81,60,55,63,28,50,36,35,61,31,70,16,84,44,61,76,43,53,74,39,24,67,77,67],\"xaxis\":\"x\",\"y\":[141381703.0,133716286.0,140003974.0,800840817.0,303236322.0,183706234.0,725980112.0,58149378.0,95217315.0,553634067.0,505671438.0,58255150.0,1316855716.0,387570742.0,2513188493.0,1163093654.0,496795686.0,30546883.0,335222234.0,363369738.0,86444842.0,52135248.0,1297026226.0,200647221.0,115364561.0,78300654.0,899183384.0,61245289.0,429829812.0,127408954.0,22581161.0,52294266.0,843957510.0,999748277.0,618990393.0,123122413.0,188933502.0,1355959075.0,786181836.0,176553476.0,354495408.0,2808096550.0,1109433169.0,1047101291.0,65156199.0,570515054.0,1085685420.0,1647990401.0,2565529693.0,518745108.0,107753850.0,177740666.0,153372011.0,57876440.0,1813673666.0,3703895074.0,256483385.0,1214083358.0,16011326.0,812019557.0,111947664.0,156338624.0,720434240.0,357925728.0,674072710.0,1755214421.0,404562836.0,373199958.0,14780425.0,39578178.0,54266102.0,2557975762.0,751134527.0,2282771485.0,1356565093.0,1592909789.0,635412045.0,1230675890.0,585695368.0,43857627.0,2009094673.0,600976848.0,39709092.0,39228929.0,2665343922.0,223633238.0,2887241814.0,1440757818.0,165484133.0,58054811.0,157058870.0,95131998.0,250305248.0,685032533.0,38411956.0,144565150.0,127567540.0,399686758.0,983637508.0,118482347.0,882831184.0,286400165.0,172825906.0,1241559043.0,29562220.0,77309611.0,1605224506.0,1116995633.0,838079900.0,1163620694.0,1093605526.0,179659294.0,39058561.0,36912123.0,1205951614.0,1791000570.0,201660859.0,248088961.0,90839753.0,607123776.0,55842345.0,211050784.0,342897938.0,2762.0,330346424.0,601863821.0,1953533826.0,2322580122.0,2355719893.0,66902503.0,96273746.0,430977451.0,284819874.0,721975598.0,1217120710.0,109276132.0,276259178.0,54225632.0,2559529074.0,681583126.0,2594040133.0,81102253.0,11956641.0,1687664027.0,11599388.0,611700552.0,1133865788.0,1089402494.0,411747614.0,255932395.0,31873544.0,95053634.0,1279434863.0,233801632.0,1481349984.0,142095275.0,618885532.0,2011464183.0,1167330737.0,929964809.0,436027885.0,657723613.0,2713922350.0,621660989.0,1591223784.0,950906471.0,1593270737.0,1410088830.0,1235005533.0,1661187319.0,1374581173.0,94186466.0,1788326445.0,1840364617.0,143573775.0,684675814.0,1113838873.0,1267333350.0,726307468.0,3562543890.0,1131090940.0,307370144.0,1271293243.0,265882712.0,841749534.0,47956378.0,806397070.0,2132335812.0,1641426668.0,2135158446.0,367316268.0,350381515.0,1264310836.0,30343206.0,405136812.0,1145727611.0,540654286.0,57312735.0,397582059.0,1479115056.0,86773632.0,133753727.0,123124076.0,463564958.0,64533040.0,65496046.0,68616963.0,161460990.0,70106975.0,113509496.0,89933133.0,71007139.0,43522589.0,232896922.0,37126685.0,195576623.0,532336353.0,538115192.0,46142772.0,401036314.0,127026613.0,345031710.0,288101651.0,60350538.0,335074782.0,76767396.0,46065667.0,459276435.0,39666245.0,138517666.0,822633917.0,595900742.0,51985779.0,57945987.0,115010040.0,175097833.0,57089066.0,488386797.0,32761689.0,1047480053.0,153454328.0,217672943.0,457184829.0,939844851.0,726434358.0,573633020.0,1406111294.0,71573339.0,24975653.0,145458418.0,1424589568.0,231332117.0,415932686.0,988515741.0,50847624.0,39893489.0,92035115.0,118810253.0,77233241.0,206399629.0,117747907.0,266624541.0,293186992.0,139681964.0,123132751.0,103762518.0,162887075.0,91221625.0,190490915.0,96180277.0,185240616.0,885093467.0,104992946.0,147290338.0,1302184087.0,158950978.0,76910644.0,137123880.0,782369383.0,502574952.0,207033255.0,404887295.0,381161027.0,466231982.0,357580552.0,61105704.0,198275403.0,168448603.0,705469769.0,34502215.0,482175240.0,304118600.0,1449799467.0,173627354.0,90025258.0,652704649.0,1829992958.0,655466831.0,146409671.0,95816024.0,117206995.0,100409613.0,80758350.0,325592432.0,58473276.0,52722996.0,191945597.0,77377503.0,743693613.0,267789608.0,1221813483.0,449701773.0,67070410.0,116334601.0,433356509.0,165584767.0,367814306.0,477033549.0,156214700.0,448843705.0,1357608774.0,294352144.0,972164968.0,920045682.0,2420461338.0,1947371785.0,244658767.0,68216992.0,223582566.0,471819764.0,272377463.0,1361425037.0,149778242.0,116599790.0,148469433.0,497225336.0,88791109.0,125917280.0,105062254.0,95623148.0,144584800.0,298063749.0,166570053.0,83021468.0,139836056.0,303216294.0,221409663.0,58890931.0,81419389.0,156777415.0,284908316.0,93438910.0,363472647.0,372476382.0,380726517.0,56533272.0,175399345.0,203221468.0,1624165576.0,134294498.0,70069745.0,609293408.0,671365962.0,362361576.0,93587665.0,1223481149.0,1022258230.0,263453310.0,1435127549.0,236857112.0,147538971.0,698086140.0,723894473.0,34450974.0,403097450.0,309483971.0,319566866.0,909001996.0,1061966512.0,32526947.0,124988687.0,103787664.0,134255790.0,301051721.0,156338624.0,152850295.0,309653982.0,297328960.0,332506354.0,480507035.0,1065580332.0,122763672.0,445763624.0,1365184.0,184308753.0,789753877.0,323358833.0,606361689.0,120972253.0,338564981.0,1606986953.0,1301799902.0,140187018.0,1897517891.0,107642809.0,551305895.0,556585270.0,2303033973.0,646886885.0,222612678.0,1814349763.0,872137015.0,571386359.0,304079786.0,174006928.0,284785823.0,163284000.0,246390068.0,482257456.0,168684524.0,78489819.0,195516622.0,1260594497.0,428685680.0,1024858327.0,838586769.0,199386237.0,972509632.0,213438580.0,1555511105.0,210038833.0,227918678.0,826623384.0,1802514301.0,1329090101.0,181831132.0,462791599.0,348647203.0,366599607.0,90598517.0,1479264469.0,1449779435.0,1159176109.0,769213520.0,741301563.0,807561936.0,834129063.0,663832097.0,446390129.0,690104769.0,485285717.0,520034544.0,476244795.0,629173063.0,404664135.0,98709329.0,110849052.0,460492795.0,94005786.0,395591396.0,389771964.0,403939487.0,481697415.0,110073250.0,88092256.0,351636786.0,473248298.0,73981293.0,155653938.0,395591396.0,429504768.0,242767149.0,65362788.0,67540165.0,62019074.0,135723538.0,295998468.0,261116938.0,136689549.0,135611421.0,356709897.0,110649992.0,301869854.0,127027715.0,57144458.0,56870689.0,323437194.0,317726339.0,116144341.0,328207708.0,608228647.0,180577478.0,809306935.0,49262961.0,614555082.0,245350949.0,178660459.0,51641685.0,78139948.0,322336177.0,1007612429.0,326792833.0,391251368.0,349585590.0,339659802.0,674772936.0,432719968.0,1309887447.0,119238316.0,116903579.0,888046992.0,200660871.0,130655803.0,1887039593.0,88103848.0,101114984.0,1575467011.0,91656026.0,1042568408.0,1735441776.0,726837877.0,53933526.0,267758538.0,74601456.0,920797189.0,539595276.0,1367810478.0,578207856.0,775542072.0,863625566.0,656013912.0,1056760045.0,611994237.0,1230855859.0,582981380.0,1858144199.0,240684449.0,583687007.0,63803529.0,466214729.0,236940480.0,41924466.0,225259194.0,393230256.0,287201015.0,599770206.0,342779426.0,673801126.0,1168642797.0,540539717.0,383550148.0,530511203.0,37307967.0,510876816.0,1445941661.0,1763363713.0,374191487.0,108809090.0,436695353.0,421040617.0,501541661.0,354065229.0,1143647827.0,311395144.0,672656250.0,1256880657.0,1692897992.0,245095641.0,686734357.0,261414174.0,610045621.0,1115880852.0,594482982.0,566954746.0,null,374706940.0,184937148.0,31959571.0,167076418.0,824420218.0,363467642.0,1127468248.0,60680939.0,247737946.0,1699402402.0,154797871.0,198883004.0,124407432.0,850608354.0,376333030.0,516784627.0,1608045237.0,506778838.0,1472799873.0,513643924.0,261286503.0,783706581.0,422691058.0,1062345656.0,1252563873.0,851070493.0,263894529.0,345903614.0,951637566.0,956865266.0,427486004.0,156658366.0,624515457.0,777765388.0,412795151.0,1138474110.0,355219175.0,290228626.0,1062956628.0,1180094974.0,1456081449.0,432702334.0,489945871.0,465959382.0,1223481149.0,2864791672.0,2288695111.0,720825549.0,2086124197.0,1690192927.0,991336132.0,593917618.0,200972675.0,71014967.0,560222750.0,1806617704.0,77337771.0,528544703.0,865640097.0,2159346687.0,211372494.0,651732901.0,608334048.0,863756573.0,797402345.0,1695712020.0,1759567999.0,223319934.0,54937991.0,226897599.0,258316038.0,596152090.0,177129919.0,716591492.0,1210599487.0,246376690.0,496311364.0,146789379.0,843309044.0,500340342.0,107255472.0,135079152.0,822239726.0,1202722675.0,343197054.0,240769997.0,426204830.0,421135627.0,554875730.0,467727006.0,327498031.0,185408548.0,245400167.0,579395142.0,675039469.0,252871192.0,231996128.0,1929770265.0,918915401.0,1180896317.0,498960285.0,685071800.0,258714692.0,143139338.0,209768491.0,64714573.0,50746620.0,154119539.0,181328253.0,370068639.0,2280566092.0,563902868.0,317622165.0,291709698.0,203680270.0,81350745.0,282883169.0,64787943.0,2484812918.0,461437791.0,1439191367.0,759208783.0,368646862.0,299634472.0,756907987.0,682475162.0,546191065.0,229473310.0,202677468.0,121913181.0,208166039.0,527033089.0,94616487.0,394030335.0,193443895.0,299648208.0,182978249.0,319757142.0,109091573.0,153240879.0,346127840.0,312622938.0,2197010679.0,1200808494.0,797196073.0,1970673297.0,665765558.0,263779030.0,339473453.0,2204080728.0,2591224264.0,135444283.0,1457139296.0,236872197.0,694525298.0,240661097.0,421365166.0,349746291.0,255120451.0,190981339.0,924193303.0,305771063.0,273005485.0,89566512.0,677389855.0,75476209.0,408843328.0,187772591.0,178512385.0,101780047.0,118381354.0,146363130.0,126443991.0,157990698.0,176290831.0,1023187129.0,106933107.0,139193812.0,212234990.0,1714490998.0,197643795.0,807015863.0,933815613.0,499710590.0,120847157.0,53909146.0,2236667932.0,2123309722.0,301242089.0,723894473.0,237351106.0,461558540.0,417230415.0,156898322.0,127309180.0,313113297.0,173702135.0,271666301.0,305650299.0,123216717.0,479655659.0,126191104.0,344055883.0,338422004.0,68895644.0,86176890.0,403231558.0,319546754.0,61739839.0,283359161.0,76831876.0,283332261.0,307752576.0,279737940.0,212351890.0,1304313953.0,150500965.0,246127838.0,582863434.0,58687425.0,212109195.0,382199619.0,41210087.0,231657891.0,53729194.0,244741137.0,42485571.0,37778188.0,254218729.0,53603447.0,160035717.0,164163229.0,37091576.0,284249832.0,33381454.0,184622518.0,300983101.0,121077868.0,106919680.0,136996305.0,65719930.0,229497852.0,185550869.0,54682594.0,240580042.0,1284942608.0,71423324.0,244891912.0,132171975.0,184706613.0,184826429.0,302006641.0,330881149.0,334733572.0,366214458.0,114546317.0,290833204.0,448500832.0,136676504.0,190625045.0,79095270.0,273194684.0,333146475.0,194902696.0,311482393.0,195918494.0,248511839.0,233671263.0,199587884.0,91781263.0,383835984.0,236060709.0,189236868.0,160845341.0,588955257.0,238350348.0,187703102.0,295307001.0,138334433.0,445590495.0,286739476.0,1122364376.0,157136970.0,137070925.0,183273246.0,184807630.0,164856284.0,704171068.0,354614964.0,279717388.0,195628667.0,221752937.0,263280370.0,213505179.0,130419412.0,155795783.0,1553497987.0,293466523.0,711366595.0,191448892.0,85924992.0,176103902.0,121189256.0,131746175.0,244790012.0,129314708.0,331511413.0,219196651.0,170732845.0,273914335.0,179061440.0,185236961.0,171788484.0,387080183.0,264717480.0,244928911.0,97610446.0,287278853.0,887906111.0,123473120.0,295152154.0,323455692.0,240918092.0,191873381.0,284216603.0,239411309.0,265548837.0,703301727.0,244585109.0,189476119.0,277132266.0,278920007.0,222410722.0,185392587.0,202452860.0,1608164312.0,624101957.0,148461629.0,47093942.0,380319238.0,209106362.0,53987404.0,115331792.0,225093344.0,84697729.0,159240673.0,170709584.0,154356956.0,723043854.0,247689123.0,176474912.0,235549288.0,140430339.0,85559365.0,146223492.0,187701588.0,154863153.0,191333656.0,253650850.0,223064273.0,170413877.0,218320587.0,141720999.0,187339835.0,198365537.0,186104310.0,177503916.0,71095708.0,112436403.0,203436468.0,93367537.0,106249219.0,181382590.0,91473363.0,121871870.0,73513683.0,133895612.0,96007391.0],\"yaxis\":\"y\",\"type\":\"scatter\"}],                        {\"template\":{\"data\":{\"histogram2dcontour\":[{\"type\":\"histogram2dcontour\",\"colorbar\":{\"outlinewidth\":0,\"ticks\":\"\"},\"colorscale\":[[0.0,\"#0d0887\"],[0.1111111111111111,\"#46039f\"],[0.2222222222222222,\"#7201a8\"],[0.3333333333333333,\"#9c179e\"],[0.4444444444444444,\"#bd3786\"],[0.5555555555555556,\"#d8576b\"],[0.6666666666666666,\"#ed7953\"],[0.7777777777777778,\"#fb9f3a\"],[0.8888888888888888,\"#fdca26\"],[1.0,\"#f0f921\"]]}],\"choropleth\":[{\"type\":\"choropleth\",\"colorbar\":{\"outlinewidth\":0,\"ticks\":\"\"}}],\"histogram2d\":[{\"type\":\"histogram2d\",\"colorbar\":{\"outlinewidth\":0,\"ticks\":\"\"},\"colorscale\":[[0.0,\"#0d0887\"],[0.1111111111111111,\"#46039f\"],[0.2222222222222222,\"#7201a8\"],[0.3333333333333333,\"#9c179e\"],[0.4444444444444444,\"#bd3786\"],[0.5555555555555556,\"#d8576b\"],[0.6666666666666666,\"#ed7953\"],[0.7777777777777778,\"#fb9f3a\"],[0.8888888888888888,\"#fdca26\"],[1.0,\"#f0f921\"]]}],\"heatmap\":[{\"type\":\"heatmap\",\"colorbar\":{\"outlinewidth\":0,\"ticks\":\"\"},\"colorscale\":[[0.0,\"#0d0887\"],[0.1111111111111111,\"#46039f\"],[0.2222222222222222,\"#7201a8\"],[0.3333333333333333,\"#9c179e\"],[0.4444444444444444,\"#bd3786\"],[0.5555555555555556,\"#d8576b\"],[0.6666666666666666,\"#ed7953\"],[0.7777777777777778,\"#fb9f3a\"],[0.8888888888888888,\"#fdca26\"],[1.0,\"#f0f921\"]]}],\"heatmapgl\":[{\"type\":\"heatmapgl\",\"colorbar\":{\"outlinewidth\":0,\"ticks\":\"\"},\"colorscale\":[[0.0,\"#0d0887\"],[0.1111111111111111,\"#46039f\"],[0.2222222222222222,\"#7201a8\"],[0.3333333333333333,\"#9c179e\"],[0.4444444444444444,\"#bd3786\"],[0.5555555555555556,\"#d8576b\"],[0.6666666666666666,\"#ed7953\"],[0.7777777777777778,\"#fb9f3a\"],[0.8888888888888888,\"#fdca26\"],[1.0,\"#f0f921\"]]}],\"contourcarpet\":[{\"type\":\"contourcarpet\",\"colorbar\":{\"outlinewidth\":0,\"ticks\":\"\"}}],\"contour\":[{\"type\":\"contour\",\"colorbar\":{\"outlinewidth\":0,\"ticks\":\"\"},\"colorscale\":[[0.0,\"#0d0887\"],[0.1111111111111111,\"#46039f\"],[0.2222222222222222,\"#7201a8\"],[0.3333333333333333,\"#9c179e\"],[0.4444444444444444,\"#bd3786\"],[0.5555555555555556,\"#d8576b\"],[0.6666666666666666,\"#ed7953\"],[0.7777777777777778,\"#fb9f3a\"],[0.8888888888888888,\"#fdca26\"],[1.0,\"#f0f921\"]]}],\"surface\":[{\"type\":\"surface\",\"colorbar\":{\"outlinewidth\":0,\"ticks\":\"\"},\"colorscale\":[[0.0,\"#0d0887\"],[0.1111111111111111,\"#46039f\"],[0.2222222222222222,\"#7201a8\"],[0.3333333333333333,\"#9c179e\"],[0.4444444444444444,\"#bd3786\"],[0.5555555555555556,\"#d8576b\"],[0.6666666666666666,\"#ed7953\"],[0.7777777777777778,\"#fb9f3a\"],[0.8888888888888888,\"#fdca26\"],[1.0,\"#f0f921\"]]}],\"mesh3d\":[{\"type\":\"mesh3d\",\"colorbar\":{\"outlinewidth\":0,\"ticks\":\"\"}}],\"scatter\":[{\"fillpattern\":{\"fillmode\":\"overlay\",\"size\":10,\"solidity\":0.2},\"type\":\"scatter\"}],\"parcoords\":[{\"type\":\"parcoords\",\"line\":{\"colorbar\":{\"outlinewidth\":0,\"ticks\":\"\"}}}],\"scatterpolargl\":[{\"type\":\"scatterpolargl\",\"marker\":{\"colorbar\":{\"outlinewidth\":0,\"ticks\":\"\"}}}],\"bar\":[{\"error_x\":{\"color\":\"#2a3f5f\"},\"error_y\":{\"color\":\"#2a3f5f\"},\"marker\":{\"line\":{\"color\":\"#E5ECF6\",\"width\":0.5},\"pattern\":{\"fillmode\":\"overlay\",\"size\":10,\"solidity\":0.2}},\"type\":\"bar\"}],\"scattergeo\":[{\"type\":\"scattergeo\",\"marker\":{\"colorbar\":{\"outlinewidth\":0,\"ticks\":\"\"}}}],\"scatterpolar\":[{\"type\":\"scatterpolar\",\"marker\":{\"colorbar\":{\"outlinewidth\":0,\"ticks\":\"\"}}}],\"histogram\":[{\"marker\":{\"pattern\":{\"fillmode\":\"overlay\",\"size\":10,\"solidity\":0.2}},\"type\":\"histogram\"}],\"scattergl\":[{\"type\":\"scattergl\",\"marker\":{\"colorbar\":{\"outlinewidth\":0,\"ticks\":\"\"}}}],\"scatter3d\":[{\"type\":\"scatter3d\",\"line\":{\"colorbar\":{\"outlinewidth\":0,\"ticks\":\"\"}},\"marker\":{\"colorbar\":{\"outlinewidth\":0,\"ticks\":\"\"}}}],\"scattermapbox\":[{\"type\":\"scattermapbox\",\"marker\":{\"colorbar\":{\"outlinewidth\":0,\"ticks\":\"\"}}}],\"scatterternary\":[{\"type\":\"scatterternary\",\"marker\":{\"colorbar\":{\"outlinewidth\":0,\"ticks\":\"\"}}}],\"scattercarpet\":[{\"type\":\"scattercarpet\",\"marker\":{\"colorbar\":{\"outlinewidth\":0,\"ticks\":\"\"}}}],\"carpet\":[{\"aaxis\":{\"endlinecolor\":\"#2a3f5f\",\"gridcolor\":\"white\",\"linecolor\":\"white\",\"minorgridcolor\":\"white\",\"startlinecolor\":\"#2a3f5f\"},\"baxis\":{\"endlinecolor\":\"#2a3f5f\",\"gridcolor\":\"white\",\"linecolor\":\"white\",\"minorgridcolor\":\"white\",\"startlinecolor\":\"#2a3f5f\"},\"type\":\"carpet\"}],\"table\":[{\"cells\":{\"fill\":{\"color\":\"#EBF0F8\"},\"line\":{\"color\":\"white\"}},\"header\":{\"fill\":{\"color\":\"#C8D4E3\"},\"line\":{\"color\":\"white\"}},\"type\":\"table\"}],\"barpolar\":[{\"marker\":{\"line\":{\"color\":\"#E5ECF6\",\"width\":0.5},\"pattern\":{\"fillmode\":\"overlay\",\"size\":10,\"solidity\":0.2}},\"type\":\"barpolar\"}],\"pie\":[{\"automargin\":true,\"type\":\"pie\"}]},\"layout\":{\"autotypenumbers\":\"strict\",\"colorway\":[\"#636efa\",\"#EF553B\",\"#00cc96\",\"#ab63fa\",\"#FFA15A\",\"#19d3f3\",\"#FF6692\",\"#B6E880\",\"#FF97FF\",\"#FECB52\"],\"font\":{\"color\":\"#2a3f5f\"},\"hovermode\":\"closest\",\"hoverlabel\":{\"align\":\"left\"},\"paper_bgcolor\":\"white\",\"plot_bgcolor\":\"#E5ECF6\",\"polar\":{\"bgcolor\":\"#E5ECF6\",\"angularaxis\":{\"gridcolor\":\"white\",\"linecolor\":\"white\",\"ticks\":\"\"},\"radialaxis\":{\"gridcolor\":\"white\",\"linecolor\":\"white\",\"ticks\":\"\"}},\"ternary\":{\"bgcolor\":\"#E5ECF6\",\"aaxis\":{\"gridcolor\":\"white\",\"linecolor\":\"white\",\"ticks\":\"\"},\"baxis\":{\"gridcolor\":\"white\",\"linecolor\":\"white\",\"ticks\":\"\"},\"caxis\":{\"gridcolor\":\"white\",\"linecolor\":\"white\",\"ticks\":\"\"}},\"coloraxis\":{\"colorbar\":{\"outlinewidth\":0,\"ticks\":\"\"}},\"colorscale\":{\"sequential\":[[0.0,\"#0d0887\"],[0.1111111111111111,\"#46039f\"],[0.2222222222222222,\"#7201a8\"],[0.3333333333333333,\"#9c179e\"],[0.4444444444444444,\"#bd3786\"],[0.5555555555555556,\"#d8576b\"],[0.6666666666666666,\"#ed7953\"],[0.7777777777777778,\"#fb9f3a\"],[0.8888888888888888,\"#fdca26\"],[1.0,\"#f0f921\"]],\"sequentialminus\":[[0.0,\"#0d0887\"],[0.1111111111111111,\"#46039f\"],[0.2222222222222222,\"#7201a8\"],[0.3333333333333333,\"#9c179e\"],[0.4444444444444444,\"#bd3786\"],[0.5555555555555556,\"#d8576b\"],[0.6666666666666666,\"#ed7953\"],[0.7777777777777778,\"#fb9f3a\"],[0.8888888888888888,\"#fdca26\"],[1.0,\"#f0f921\"]],\"diverging\":[[0,\"#8e0152\"],[0.1,\"#c51b7d\"],[0.2,\"#de77ae\"],[0.3,\"#f1b6da\"],[0.4,\"#fde0ef\"],[0.5,\"#f7f7f7\"],[0.6,\"#e6f5d0\"],[0.7,\"#b8e186\"],[0.8,\"#7fbc41\"],[0.9,\"#4d9221\"],[1,\"#276419\"]]},\"xaxis\":{\"gridcolor\":\"white\",\"linecolor\":\"white\",\"ticks\":\"\",\"title\":{\"standoff\":15},\"zerolinecolor\":\"white\",\"automargin\":true,\"zerolinewidth\":2},\"yaxis\":{\"gridcolor\":\"white\",\"linecolor\":\"white\",\"ticks\":\"\",\"title\":{\"standoff\":15},\"zerolinecolor\":\"white\",\"automargin\":true,\"zerolinewidth\":2},\"scene\":{\"xaxis\":{\"backgroundcolor\":\"#E5ECF6\",\"gridcolor\":\"white\",\"linecolor\":\"white\",\"showbackground\":true,\"ticks\":\"\",\"zerolinecolor\":\"white\",\"gridwidth\":2},\"yaxis\":{\"backgroundcolor\":\"#E5ECF6\",\"gridcolor\":\"white\",\"linecolor\":\"white\",\"showbackground\":true,\"ticks\":\"\",\"zerolinecolor\":\"white\",\"gridwidth\":2},\"zaxis\":{\"backgroundcolor\":\"#E5ECF6\",\"gridcolor\":\"white\",\"linecolor\":\"white\",\"showbackground\":true,\"ticks\":\"\",\"zerolinecolor\":\"white\",\"gridwidth\":2}},\"shapedefaults\":{\"line\":{\"color\":\"#2a3f5f\"}},\"annotationdefaults\":{\"arrowcolor\":\"#2a3f5f\",\"arrowhead\":0,\"arrowwidth\":1},\"geo\":{\"bgcolor\":\"white\",\"landcolor\":\"#E5ECF6\",\"subunitcolor\":\"white\",\"showland\":true,\"showlakes\":true,\"lakecolor\":\"white\"},\"title\":{\"x\":0.05},\"mapbox\":{\"style\":\"light\"}}},\"xaxis\":{\"anchor\":\"y\",\"domain\":[0.0,1.0],\"title\":{\"text\":\"energy_%\"}},\"yaxis\":{\"anchor\":\"x\",\"domain\":[0.0,1.0],\"title\":{\"text\":\"streams\"}},\"coloraxis\":{\"colorbar\":{\"title\":{\"text\":\"energy_%\"}},\"colorscale\":[[0.0,\"#0d0887\"],[0.1111111111111111,\"#46039f\"],[0.2222222222222222,\"#7201a8\"],[0.3333333333333333,\"#9c179e\"],[0.4444444444444444,\"#bd3786\"],[0.5555555555555556,\"#d8576b\"],[0.6666666666666666,\"#ed7953\"],[0.7777777777777778,\"#fb9f3a\"],[0.8888888888888888,\"#fdca26\"],[1.0,\"#f0f921\"]]},\"legend\":{\"tracegroupgap\":0},\"title\":{\"text\":\"Energy_% vs. Number of Streams\"},\"font\":{\"color\":\"white\",\"size\":12},\"plot_bgcolor\":\"black\",\"paper_bgcolor\":\"black\"},                        {\"responsive\": true}                    ).then(function(){\n",
              "                            \n",
              "var gd = document.getElementById('844e96d9-6319-468f-8525-a78783d96c73');\n",
              "var x = new MutationObserver(function (mutations, observer) {{\n",
              "        var display = window.getComputedStyle(gd).display;\n",
              "        if (!display || display === 'none') {{\n",
              "            console.log([gd, 'removed!']);\n",
              "            Plotly.purge(gd);\n",
              "            observer.disconnect();\n",
              "        }}\n",
              "}});\n",
              "\n",
              "// Listen for the removal of the full notebook cells\n",
              "var notebookContainer = gd.closest('#notebook-container');\n",
              "if (notebookContainer) {{\n",
              "    x.observe(notebookContainer, {childList: true});\n",
              "}}\n",
              "\n",
              "// Listen for the clearing of the current output cell\n",
              "var outputEl = gd.closest('.output');\n",
              "if (outputEl) {{\n",
              "    x.observe(outputEl, {childList: true});\n",
              "}}\n",
              "\n",
              "                        })                };                            </script>        </div>\n",
              "</body>\n",
              "</html>"
            ]
          },
          "metadata": {}
        },
        {
          "output_type": "display_data",
          "data": {
            "text/html": [
              "<html>\n",
              "<head><meta charset=\"utf-8\" /></head>\n",
              "<body>\n",
              "    <div>            <script src=\"https://cdnjs.cloudflare.com/ajax/libs/mathjax/2.7.5/MathJax.js?config=TeX-AMS-MML_SVG\"></script><script type=\"text/javascript\">if (window.MathJax && window.MathJax.Hub && window.MathJax.Hub.Config) {window.MathJax.Hub.Config({SVG: {font: \"STIX-Web\"}});}</script>                <script type=\"text/javascript\">window.PlotlyConfig = {MathJaxConfig: 'local'};</script>\n",
              "        <script charset=\"utf-8\" src=\"https://cdn.plot.ly/plotly-2.24.1.min.js\"></script>                <div id=\"96aae208-b7b6-427d-b64b-326b60c0de50\" class=\"plotly-graph-div\" style=\"height:525px; width:100%;\"></div>            <script type=\"text/javascript\">                                    window.PLOTLYENV=window.PLOTLYENV || {};                                    if (document.getElementById(\"96aae208-b7b6-427d-b64b-326b60c0de50\")) {                    Plotly.newPlot(                        \"96aae208-b7b6-427d-b64b-326b60c0de50\",                        [{\"hovertemplate\":\"valence_%=%{marker.color}\\u003cbr\\u003estreams=%{y}\\u003cextra\\u003e\\u003c\\u002fextra\\u003e\",\"legendgroup\":\"\",\"marker\":{\"color\":[89,61,32,58,23,66,83,26,22,56,56,52,65,32,66,43,76,14,67,36,87,82,44,81,83,96,82,74,52,78,35,63,17,51,61,63,39,57,48,96,84,91,38,58,75,49,82,51,49,50,17,23,55,96,13,38,88,85,42,53,59,86,72,53,40,28,10,71,48,22,84,53,14,41,55,42,27,24,58,40,50,32,36,20,48,70,45,43,40,84,67,76,14,19,34,69,17,39,24,57,50,17,37,24,53,50,92,45,65,47,37,18,79,49,54,47,30,96,89,42,79,31,68,78,39,57,88,56,12,59,69,74,20,50,20,22,48,96,17,20,74,65,68,67,92,52,27,33,24,96,90,70,86,61,87,85,40,48,41,31,89,74,36,24,61,51,73,10,60,43,51,13,42,38,84,40,95,81,53,93,40,37,12,24,17,36,54,59,46,41,75,49,19,67,37,76,52,55,18,86,20,24,35,79,53,67,24,53,5,51,42,85,45,64,28,39,25,58,7,45,90,61,85,32,62,69,61,59,26,75,69,64,14,58,47,54,20,10,59,23,63,63,4,27,25,42,13,55,25,55,78,96,46,27,56,44,38,83,69,57,36,58,27,94,38,75,47,35,71,10,40,53,74,80,82,80,26,35,78,88,36,69,55,57,15,33,77,56,17,19,67,61,17,32,86,84,6,64,53,44,71,79,80,70,50,22,75,11,90,79,63,22,42,76,18,96,64,46,64,57,40,43,46,77,45,12,64,41,72,58,34,24,30,81,92,20,67,43,44,72,68,51,20,83,44,65,66,49,29,26,28,68,78,49,82,48,96,51,40,97,61,43,43,49,40,59,18,72,43,88,47,16,72,61,52,64,40,29,42,32,56,84,25,82,74,60,55,17,31,47,80,73,82,62,38,62,34,57,83,9,50,25,65,59,83,71,34,68,4,61,89,9,23,20,52,39,60,15,97,76,6,24,44,91,20,24,46,26,17,59,29,31,53,92,88,36,70,40,44,49,51,33,88,85,78,38,53,76,72,33,69,96,70,88,84,35,55,39,71,81,22,74,23,59,19,91,86,51,22,19,87,35,42,47,78,60,72,69,92,42,41,15,57,96,33,77,19,4,48,39,42,93,51,35,47,94,94,48,51,34,42,91,60,45,82,64,83,44,62,35,50,50,35,68,27,49,74,85,19,76,53,10,37,13,55,72,59,36,14,40,46,31,16,12,69,21,52,21,25,55,61,55,46,79,7,36,11,79,57,44,85,40,52,93,49,14,76,58,60,67,57,31,70,49,44,22,74,39,18,78,63,72,22,51,75,82,56,23,47,41,51,33,29,59,76,54,86,31,36,21,79,19,56,52,63,71,19,40,24,66,96,62,92,59,45,79,31,65,11,12,47,58,76,7,8,66,53,33,26,54,54,22,77,33,73,27,29,68,65,14,24,40,79,19,30,65,67,65,80,44,10,60,61,74,70,62,92,75,90,53,50,23,31,31,91,50,44,49,79,65,37,17,30,23,43,49,47,74,76,61,4,92,42,53,83,8,89,61,86,37,75,60,89,66,44,58,31,18,68,45,54,19,62,77,46,57,59,8,68,96,82,40,36,76,26,55,56,70,71,11,86,55,73,68,24,33,81,23,23,90,66,71,35,37,47,64,28,75,33,32,56,27,59,58,41,63,54,63,22,30,45,41,63,48,22,91,55,63,90,77,6,59,28,71,97,83,25,87,62,73,24,20,53,39,72,40,61,22,32,50,93,41,39,43,78,58,51,45,50,52,66,74,55,56,67,71,41,26,77,60,24,41,72,48,26,91,30,74,80,32,20,14,60,28,29,61,32,83,67,50,45,53,37,82,46,59,43,45,33,14,49,79,27,7,27,31,68,70,36,39,29,63,74,15,76,68,40,77,39,30,88,42,20,88,29,42,90,90,68,30,21,90,63,56,25,46,28,61,32,54,14,97,59,87,59,5,62,72,36,41,31,67,55,52,8,52,83,80,44,68,78,56,94,18,46,46,38,46,56,70,73,43,64,66,90,71,97,49,74,49,72,80,28,71,78,75,58,79,52,22,21,17,26,48,4,75,75,26,24,24,43,65,24,24,92,50,53,13,22,82,62,23,45,16,11,33,12,25,15,20,39,55,25,62,22,40,11,55,24,7,81,67,32],\"coloraxis\":\"coloraxis\",\"symbol\":\"circle\"},\"mode\":\"markers\",\"name\":\"\",\"orientation\":\"v\",\"showlegend\":false,\"x\":[89,61,32,58,23,66,83,26,22,56,56,52,65,32,66,43,76,14,67,36,87,82,44,81,83,96,82,74,52,78,35,63,17,51,61,63,39,57,48,96,84,91,38,58,75,49,82,51,49,50,17,23,55,96,13,38,88,85,42,53,59,86,72,53,40,28,10,71,48,22,84,53,14,41,55,42,27,24,58,40,50,32,36,20,48,70,45,43,40,84,67,76,14,19,34,69,17,39,24,57,50,17,37,24,53,50,92,45,65,47,37,18,79,49,54,47,30,96,89,42,79,31,68,78,39,57,88,56,12,59,69,74,20,50,20,22,48,96,17,20,74,65,68,67,92,52,27,33,24,96,90,70,86,61,87,85,40,48,41,31,89,74,36,24,61,51,73,10,60,43,51,13,42,38,84,40,95,81,53,93,40,37,12,24,17,36,54,59,46,41,75,49,19,67,37,76,52,55,18,86,20,24,35,79,53,67,24,53,5,51,42,85,45,64,28,39,25,58,7,45,90,61,85,32,62,69,61,59,26,75,69,64,14,58,47,54,20,10,59,23,63,63,4,27,25,42,13,55,25,55,78,96,46,27,56,44,38,83,69,57,36,58,27,94,38,75,47,35,71,10,40,53,74,80,82,80,26,35,78,88,36,69,55,57,15,33,77,56,17,19,67,61,17,32,86,84,6,64,53,44,71,79,80,70,50,22,75,11,90,79,63,22,42,76,18,96,64,46,64,57,40,43,46,77,45,12,64,41,72,58,34,24,30,81,92,20,67,43,44,72,68,51,20,83,44,65,66,49,29,26,28,68,78,49,82,48,96,51,40,97,61,43,43,49,40,59,18,72,43,88,47,16,72,61,52,64,40,29,42,32,56,84,25,82,74,60,55,17,31,47,80,73,82,62,38,62,34,57,83,9,50,25,65,59,83,71,34,68,4,61,89,9,23,20,52,39,60,15,97,76,6,24,44,91,20,24,46,26,17,59,29,31,53,92,88,36,70,40,44,49,51,33,88,85,78,38,53,76,72,33,69,96,70,88,84,35,55,39,71,81,22,74,23,59,19,91,86,51,22,19,87,35,42,47,78,60,72,69,92,42,41,15,57,96,33,77,19,4,48,39,42,93,51,35,47,94,94,48,51,34,42,91,60,45,82,64,83,44,62,35,50,50,35,68,27,49,74,85,19,76,53,10,37,13,55,72,59,36,14,40,46,31,16,12,69,21,52,21,25,55,61,55,46,79,7,36,11,79,57,44,85,40,52,93,49,14,76,58,60,67,57,31,70,49,44,22,74,39,18,78,63,72,22,51,75,82,56,23,47,41,51,33,29,59,76,54,86,31,36,21,79,19,56,52,63,71,19,40,24,66,96,62,92,59,45,79,31,65,11,12,47,58,76,7,8,66,53,33,26,54,54,22,77,33,73,27,29,68,65,14,24,40,79,19,30,65,67,65,80,44,10,60,61,74,70,62,92,75,90,53,50,23,31,31,91,50,44,49,79,65,37,17,30,23,43,49,47,74,76,61,4,92,42,53,83,8,89,61,86,37,75,60,89,66,44,58,31,18,68,45,54,19,62,77,46,57,59,8,68,96,82,40,36,76,26,55,56,70,71,11,86,55,73,68,24,33,81,23,23,90,66,71,35,37,47,64,28,75,33,32,56,27,59,58,41,63,54,63,22,30,45,41,63,48,22,91,55,63,90,77,6,59,28,71,97,83,25,87,62,73,24,20,53,39,72,40,61,22,32,50,93,41,39,43,78,58,51,45,50,52,66,74,55,56,67,71,41,26,77,60,24,41,72,48,26,91,30,74,80,32,20,14,60,28,29,61,32,83,67,50,45,53,37,82,46,59,43,45,33,14,49,79,27,7,27,31,68,70,36,39,29,63,74,15,76,68,40,77,39,30,88,42,20,88,29,42,90,90,68,30,21,90,63,56,25,46,28,61,32,54,14,97,59,87,59,5,62,72,36,41,31,67,55,52,8,52,83,80,44,68,78,56,94,18,46,46,38,46,56,70,73,43,64,66,90,71,97,49,74,49,72,80,28,71,78,75,58,79,52,22,21,17,26,48,4,75,75,26,24,24,43,65,24,24,92,50,53,13,22,82,62,23,45,16,11,33,12,25,15,20,39,55,25,62,22,40,11,55,24,7,81,67,32],\"xaxis\":\"x\",\"y\":[141381703.0,133716286.0,140003974.0,800840817.0,303236322.0,183706234.0,725980112.0,58149378.0,95217315.0,553634067.0,505671438.0,58255150.0,1316855716.0,387570742.0,2513188493.0,1163093654.0,496795686.0,30546883.0,335222234.0,363369738.0,86444842.0,52135248.0,1297026226.0,200647221.0,115364561.0,78300654.0,899183384.0,61245289.0,429829812.0,127408954.0,22581161.0,52294266.0,843957510.0,999748277.0,618990393.0,123122413.0,188933502.0,1355959075.0,786181836.0,176553476.0,354495408.0,2808096550.0,1109433169.0,1047101291.0,65156199.0,570515054.0,1085685420.0,1647990401.0,2565529693.0,518745108.0,107753850.0,177740666.0,153372011.0,57876440.0,1813673666.0,3703895074.0,256483385.0,1214083358.0,16011326.0,812019557.0,111947664.0,156338624.0,720434240.0,357925728.0,674072710.0,1755214421.0,404562836.0,373199958.0,14780425.0,39578178.0,54266102.0,2557975762.0,751134527.0,2282771485.0,1356565093.0,1592909789.0,635412045.0,1230675890.0,585695368.0,43857627.0,2009094673.0,600976848.0,39709092.0,39228929.0,2665343922.0,223633238.0,2887241814.0,1440757818.0,165484133.0,58054811.0,157058870.0,95131998.0,250305248.0,685032533.0,38411956.0,144565150.0,127567540.0,399686758.0,983637508.0,118482347.0,882831184.0,286400165.0,172825906.0,1241559043.0,29562220.0,77309611.0,1605224506.0,1116995633.0,838079900.0,1163620694.0,1093605526.0,179659294.0,39058561.0,36912123.0,1205951614.0,1791000570.0,201660859.0,248088961.0,90839753.0,607123776.0,55842345.0,211050784.0,342897938.0,2762.0,330346424.0,601863821.0,1953533826.0,2322580122.0,2355719893.0,66902503.0,96273746.0,430977451.0,284819874.0,721975598.0,1217120710.0,109276132.0,276259178.0,54225632.0,2559529074.0,681583126.0,2594040133.0,81102253.0,11956641.0,1687664027.0,11599388.0,611700552.0,1133865788.0,1089402494.0,411747614.0,255932395.0,31873544.0,95053634.0,1279434863.0,233801632.0,1481349984.0,142095275.0,618885532.0,2011464183.0,1167330737.0,929964809.0,436027885.0,657723613.0,2713922350.0,621660989.0,1591223784.0,950906471.0,1593270737.0,1410088830.0,1235005533.0,1661187319.0,1374581173.0,94186466.0,1788326445.0,1840364617.0,143573775.0,684675814.0,1113838873.0,1267333350.0,726307468.0,3562543890.0,1131090940.0,307370144.0,1271293243.0,265882712.0,841749534.0,47956378.0,806397070.0,2132335812.0,1641426668.0,2135158446.0,367316268.0,350381515.0,1264310836.0,30343206.0,405136812.0,1145727611.0,540654286.0,57312735.0,397582059.0,1479115056.0,86773632.0,133753727.0,123124076.0,463564958.0,64533040.0,65496046.0,68616963.0,161460990.0,70106975.0,113509496.0,89933133.0,71007139.0,43522589.0,232896922.0,37126685.0,195576623.0,532336353.0,538115192.0,46142772.0,401036314.0,127026613.0,345031710.0,288101651.0,60350538.0,335074782.0,76767396.0,46065667.0,459276435.0,39666245.0,138517666.0,822633917.0,595900742.0,51985779.0,57945987.0,115010040.0,175097833.0,57089066.0,488386797.0,32761689.0,1047480053.0,153454328.0,217672943.0,457184829.0,939844851.0,726434358.0,573633020.0,1406111294.0,71573339.0,24975653.0,145458418.0,1424589568.0,231332117.0,415932686.0,988515741.0,50847624.0,39893489.0,92035115.0,118810253.0,77233241.0,206399629.0,117747907.0,266624541.0,293186992.0,139681964.0,123132751.0,103762518.0,162887075.0,91221625.0,190490915.0,96180277.0,185240616.0,885093467.0,104992946.0,147290338.0,1302184087.0,158950978.0,76910644.0,137123880.0,782369383.0,502574952.0,207033255.0,404887295.0,381161027.0,466231982.0,357580552.0,61105704.0,198275403.0,168448603.0,705469769.0,34502215.0,482175240.0,304118600.0,1449799467.0,173627354.0,90025258.0,652704649.0,1829992958.0,655466831.0,146409671.0,95816024.0,117206995.0,100409613.0,80758350.0,325592432.0,58473276.0,52722996.0,191945597.0,77377503.0,743693613.0,267789608.0,1221813483.0,449701773.0,67070410.0,116334601.0,433356509.0,165584767.0,367814306.0,477033549.0,156214700.0,448843705.0,1357608774.0,294352144.0,972164968.0,920045682.0,2420461338.0,1947371785.0,244658767.0,68216992.0,223582566.0,471819764.0,272377463.0,1361425037.0,149778242.0,116599790.0,148469433.0,497225336.0,88791109.0,125917280.0,105062254.0,95623148.0,144584800.0,298063749.0,166570053.0,83021468.0,139836056.0,303216294.0,221409663.0,58890931.0,81419389.0,156777415.0,284908316.0,93438910.0,363472647.0,372476382.0,380726517.0,56533272.0,175399345.0,203221468.0,1624165576.0,134294498.0,70069745.0,609293408.0,671365962.0,362361576.0,93587665.0,1223481149.0,1022258230.0,263453310.0,1435127549.0,236857112.0,147538971.0,698086140.0,723894473.0,34450974.0,403097450.0,309483971.0,319566866.0,909001996.0,1061966512.0,32526947.0,124988687.0,103787664.0,134255790.0,301051721.0,156338624.0,152850295.0,309653982.0,297328960.0,332506354.0,480507035.0,1065580332.0,122763672.0,445763624.0,1365184.0,184308753.0,789753877.0,323358833.0,606361689.0,120972253.0,338564981.0,1606986953.0,1301799902.0,140187018.0,1897517891.0,107642809.0,551305895.0,556585270.0,2303033973.0,646886885.0,222612678.0,1814349763.0,872137015.0,571386359.0,304079786.0,174006928.0,284785823.0,163284000.0,246390068.0,482257456.0,168684524.0,78489819.0,195516622.0,1260594497.0,428685680.0,1024858327.0,838586769.0,199386237.0,972509632.0,213438580.0,1555511105.0,210038833.0,227918678.0,826623384.0,1802514301.0,1329090101.0,181831132.0,462791599.0,348647203.0,366599607.0,90598517.0,1479264469.0,1449779435.0,1159176109.0,769213520.0,741301563.0,807561936.0,834129063.0,663832097.0,446390129.0,690104769.0,485285717.0,520034544.0,476244795.0,629173063.0,404664135.0,98709329.0,110849052.0,460492795.0,94005786.0,395591396.0,389771964.0,403939487.0,481697415.0,110073250.0,88092256.0,351636786.0,473248298.0,73981293.0,155653938.0,395591396.0,429504768.0,242767149.0,65362788.0,67540165.0,62019074.0,135723538.0,295998468.0,261116938.0,136689549.0,135611421.0,356709897.0,110649992.0,301869854.0,127027715.0,57144458.0,56870689.0,323437194.0,317726339.0,116144341.0,328207708.0,608228647.0,180577478.0,809306935.0,49262961.0,614555082.0,245350949.0,178660459.0,51641685.0,78139948.0,322336177.0,1007612429.0,326792833.0,391251368.0,349585590.0,339659802.0,674772936.0,432719968.0,1309887447.0,119238316.0,116903579.0,888046992.0,200660871.0,130655803.0,1887039593.0,88103848.0,101114984.0,1575467011.0,91656026.0,1042568408.0,1735441776.0,726837877.0,53933526.0,267758538.0,74601456.0,920797189.0,539595276.0,1367810478.0,578207856.0,775542072.0,863625566.0,656013912.0,1056760045.0,611994237.0,1230855859.0,582981380.0,1858144199.0,240684449.0,583687007.0,63803529.0,466214729.0,236940480.0,41924466.0,225259194.0,393230256.0,287201015.0,599770206.0,342779426.0,673801126.0,1168642797.0,540539717.0,383550148.0,530511203.0,37307967.0,510876816.0,1445941661.0,1763363713.0,374191487.0,108809090.0,436695353.0,421040617.0,501541661.0,354065229.0,1143647827.0,311395144.0,672656250.0,1256880657.0,1692897992.0,245095641.0,686734357.0,261414174.0,610045621.0,1115880852.0,594482982.0,566954746.0,null,374706940.0,184937148.0,31959571.0,167076418.0,824420218.0,363467642.0,1127468248.0,60680939.0,247737946.0,1699402402.0,154797871.0,198883004.0,124407432.0,850608354.0,376333030.0,516784627.0,1608045237.0,506778838.0,1472799873.0,513643924.0,261286503.0,783706581.0,422691058.0,1062345656.0,1252563873.0,851070493.0,263894529.0,345903614.0,951637566.0,956865266.0,427486004.0,156658366.0,624515457.0,777765388.0,412795151.0,1138474110.0,355219175.0,290228626.0,1062956628.0,1180094974.0,1456081449.0,432702334.0,489945871.0,465959382.0,1223481149.0,2864791672.0,2288695111.0,720825549.0,2086124197.0,1690192927.0,991336132.0,593917618.0,200972675.0,71014967.0,560222750.0,1806617704.0,77337771.0,528544703.0,865640097.0,2159346687.0,211372494.0,651732901.0,608334048.0,863756573.0,797402345.0,1695712020.0,1759567999.0,223319934.0,54937991.0,226897599.0,258316038.0,596152090.0,177129919.0,716591492.0,1210599487.0,246376690.0,496311364.0,146789379.0,843309044.0,500340342.0,107255472.0,135079152.0,822239726.0,1202722675.0,343197054.0,240769997.0,426204830.0,421135627.0,554875730.0,467727006.0,327498031.0,185408548.0,245400167.0,579395142.0,675039469.0,252871192.0,231996128.0,1929770265.0,918915401.0,1180896317.0,498960285.0,685071800.0,258714692.0,143139338.0,209768491.0,64714573.0,50746620.0,154119539.0,181328253.0,370068639.0,2280566092.0,563902868.0,317622165.0,291709698.0,203680270.0,81350745.0,282883169.0,64787943.0,2484812918.0,461437791.0,1439191367.0,759208783.0,368646862.0,299634472.0,756907987.0,682475162.0,546191065.0,229473310.0,202677468.0,121913181.0,208166039.0,527033089.0,94616487.0,394030335.0,193443895.0,299648208.0,182978249.0,319757142.0,109091573.0,153240879.0,346127840.0,312622938.0,2197010679.0,1200808494.0,797196073.0,1970673297.0,665765558.0,263779030.0,339473453.0,2204080728.0,2591224264.0,135444283.0,1457139296.0,236872197.0,694525298.0,240661097.0,421365166.0,349746291.0,255120451.0,190981339.0,924193303.0,305771063.0,273005485.0,89566512.0,677389855.0,75476209.0,408843328.0,187772591.0,178512385.0,101780047.0,118381354.0,146363130.0,126443991.0,157990698.0,176290831.0,1023187129.0,106933107.0,139193812.0,212234990.0,1714490998.0,197643795.0,807015863.0,933815613.0,499710590.0,120847157.0,53909146.0,2236667932.0,2123309722.0,301242089.0,723894473.0,237351106.0,461558540.0,417230415.0,156898322.0,127309180.0,313113297.0,173702135.0,271666301.0,305650299.0,123216717.0,479655659.0,126191104.0,344055883.0,338422004.0,68895644.0,86176890.0,403231558.0,319546754.0,61739839.0,283359161.0,76831876.0,283332261.0,307752576.0,279737940.0,212351890.0,1304313953.0,150500965.0,246127838.0,582863434.0,58687425.0,212109195.0,382199619.0,41210087.0,231657891.0,53729194.0,244741137.0,42485571.0,37778188.0,254218729.0,53603447.0,160035717.0,164163229.0,37091576.0,284249832.0,33381454.0,184622518.0,300983101.0,121077868.0,106919680.0,136996305.0,65719930.0,229497852.0,185550869.0,54682594.0,240580042.0,1284942608.0,71423324.0,244891912.0,132171975.0,184706613.0,184826429.0,302006641.0,330881149.0,334733572.0,366214458.0,114546317.0,290833204.0,448500832.0,136676504.0,190625045.0,79095270.0,273194684.0,333146475.0,194902696.0,311482393.0,195918494.0,248511839.0,233671263.0,199587884.0,91781263.0,383835984.0,236060709.0,189236868.0,160845341.0,588955257.0,238350348.0,187703102.0,295307001.0,138334433.0,445590495.0,286739476.0,1122364376.0,157136970.0,137070925.0,183273246.0,184807630.0,164856284.0,704171068.0,354614964.0,279717388.0,195628667.0,221752937.0,263280370.0,213505179.0,130419412.0,155795783.0,1553497987.0,293466523.0,711366595.0,191448892.0,85924992.0,176103902.0,121189256.0,131746175.0,244790012.0,129314708.0,331511413.0,219196651.0,170732845.0,273914335.0,179061440.0,185236961.0,171788484.0,387080183.0,264717480.0,244928911.0,97610446.0,287278853.0,887906111.0,123473120.0,295152154.0,323455692.0,240918092.0,191873381.0,284216603.0,239411309.0,265548837.0,703301727.0,244585109.0,189476119.0,277132266.0,278920007.0,222410722.0,185392587.0,202452860.0,1608164312.0,624101957.0,148461629.0,47093942.0,380319238.0,209106362.0,53987404.0,115331792.0,225093344.0,84697729.0,159240673.0,170709584.0,154356956.0,723043854.0,247689123.0,176474912.0,235549288.0,140430339.0,85559365.0,146223492.0,187701588.0,154863153.0,191333656.0,253650850.0,223064273.0,170413877.0,218320587.0,141720999.0,187339835.0,198365537.0,186104310.0,177503916.0,71095708.0,112436403.0,203436468.0,93367537.0,106249219.0,181382590.0,91473363.0,121871870.0,73513683.0,133895612.0,96007391.0],\"yaxis\":\"y\",\"type\":\"scatter\"}],                        {\"template\":{\"data\":{\"histogram2dcontour\":[{\"type\":\"histogram2dcontour\",\"colorbar\":{\"outlinewidth\":0,\"ticks\":\"\"},\"colorscale\":[[0.0,\"#0d0887\"],[0.1111111111111111,\"#46039f\"],[0.2222222222222222,\"#7201a8\"],[0.3333333333333333,\"#9c179e\"],[0.4444444444444444,\"#bd3786\"],[0.5555555555555556,\"#d8576b\"],[0.6666666666666666,\"#ed7953\"],[0.7777777777777778,\"#fb9f3a\"],[0.8888888888888888,\"#fdca26\"],[1.0,\"#f0f921\"]]}],\"choropleth\":[{\"type\":\"choropleth\",\"colorbar\":{\"outlinewidth\":0,\"ticks\":\"\"}}],\"histogram2d\":[{\"type\":\"histogram2d\",\"colorbar\":{\"outlinewidth\":0,\"ticks\":\"\"},\"colorscale\":[[0.0,\"#0d0887\"],[0.1111111111111111,\"#46039f\"],[0.2222222222222222,\"#7201a8\"],[0.3333333333333333,\"#9c179e\"],[0.4444444444444444,\"#bd3786\"],[0.5555555555555556,\"#d8576b\"],[0.6666666666666666,\"#ed7953\"],[0.7777777777777778,\"#fb9f3a\"],[0.8888888888888888,\"#fdca26\"],[1.0,\"#f0f921\"]]}],\"heatmap\":[{\"type\":\"heatmap\",\"colorbar\":{\"outlinewidth\":0,\"ticks\":\"\"},\"colorscale\":[[0.0,\"#0d0887\"],[0.1111111111111111,\"#46039f\"],[0.2222222222222222,\"#7201a8\"],[0.3333333333333333,\"#9c179e\"],[0.4444444444444444,\"#bd3786\"],[0.5555555555555556,\"#d8576b\"],[0.6666666666666666,\"#ed7953\"],[0.7777777777777778,\"#fb9f3a\"],[0.8888888888888888,\"#fdca26\"],[1.0,\"#f0f921\"]]}],\"heatmapgl\":[{\"type\":\"heatmapgl\",\"colorbar\":{\"outlinewidth\":0,\"ticks\":\"\"},\"colorscale\":[[0.0,\"#0d0887\"],[0.1111111111111111,\"#46039f\"],[0.2222222222222222,\"#7201a8\"],[0.3333333333333333,\"#9c179e\"],[0.4444444444444444,\"#bd3786\"],[0.5555555555555556,\"#d8576b\"],[0.6666666666666666,\"#ed7953\"],[0.7777777777777778,\"#fb9f3a\"],[0.8888888888888888,\"#fdca26\"],[1.0,\"#f0f921\"]]}],\"contourcarpet\":[{\"type\":\"contourcarpet\",\"colorbar\":{\"outlinewidth\":0,\"ticks\":\"\"}}],\"contour\":[{\"type\":\"contour\",\"colorbar\":{\"outlinewidth\":0,\"ticks\":\"\"},\"colorscale\":[[0.0,\"#0d0887\"],[0.1111111111111111,\"#46039f\"],[0.2222222222222222,\"#7201a8\"],[0.3333333333333333,\"#9c179e\"],[0.4444444444444444,\"#bd3786\"],[0.5555555555555556,\"#d8576b\"],[0.6666666666666666,\"#ed7953\"],[0.7777777777777778,\"#fb9f3a\"],[0.8888888888888888,\"#fdca26\"],[1.0,\"#f0f921\"]]}],\"surface\":[{\"type\":\"surface\",\"colorbar\":{\"outlinewidth\":0,\"ticks\":\"\"},\"colorscale\":[[0.0,\"#0d0887\"],[0.1111111111111111,\"#46039f\"],[0.2222222222222222,\"#7201a8\"],[0.3333333333333333,\"#9c179e\"],[0.4444444444444444,\"#bd3786\"],[0.5555555555555556,\"#d8576b\"],[0.6666666666666666,\"#ed7953\"],[0.7777777777777778,\"#fb9f3a\"],[0.8888888888888888,\"#fdca26\"],[1.0,\"#f0f921\"]]}],\"mesh3d\":[{\"type\":\"mesh3d\",\"colorbar\":{\"outlinewidth\":0,\"ticks\":\"\"}}],\"scatter\":[{\"fillpattern\":{\"fillmode\":\"overlay\",\"size\":10,\"solidity\":0.2},\"type\":\"scatter\"}],\"parcoords\":[{\"type\":\"parcoords\",\"line\":{\"colorbar\":{\"outlinewidth\":0,\"ticks\":\"\"}}}],\"scatterpolargl\":[{\"type\":\"scatterpolargl\",\"marker\":{\"colorbar\":{\"outlinewidth\":0,\"ticks\":\"\"}}}],\"bar\":[{\"error_x\":{\"color\":\"#2a3f5f\"},\"error_y\":{\"color\":\"#2a3f5f\"},\"marker\":{\"line\":{\"color\":\"#E5ECF6\",\"width\":0.5},\"pattern\":{\"fillmode\":\"overlay\",\"size\":10,\"solidity\":0.2}},\"type\":\"bar\"}],\"scattergeo\":[{\"type\":\"scattergeo\",\"marker\":{\"colorbar\":{\"outlinewidth\":0,\"ticks\":\"\"}}}],\"scatterpolar\":[{\"type\":\"scatterpolar\",\"marker\":{\"colorbar\":{\"outlinewidth\":0,\"ticks\":\"\"}}}],\"histogram\":[{\"marker\":{\"pattern\":{\"fillmode\":\"overlay\",\"size\":10,\"solidity\":0.2}},\"type\":\"histogram\"}],\"scattergl\":[{\"type\":\"scattergl\",\"marker\":{\"colorbar\":{\"outlinewidth\":0,\"ticks\":\"\"}}}],\"scatter3d\":[{\"type\":\"scatter3d\",\"line\":{\"colorbar\":{\"outlinewidth\":0,\"ticks\":\"\"}},\"marker\":{\"colorbar\":{\"outlinewidth\":0,\"ticks\":\"\"}}}],\"scattermapbox\":[{\"type\":\"scattermapbox\",\"marker\":{\"colorbar\":{\"outlinewidth\":0,\"ticks\":\"\"}}}],\"scatterternary\":[{\"type\":\"scatterternary\",\"marker\":{\"colorbar\":{\"outlinewidth\":0,\"ticks\":\"\"}}}],\"scattercarpet\":[{\"type\":\"scattercarpet\",\"marker\":{\"colorbar\":{\"outlinewidth\":0,\"ticks\":\"\"}}}],\"carpet\":[{\"aaxis\":{\"endlinecolor\":\"#2a3f5f\",\"gridcolor\":\"white\",\"linecolor\":\"white\",\"minorgridcolor\":\"white\",\"startlinecolor\":\"#2a3f5f\"},\"baxis\":{\"endlinecolor\":\"#2a3f5f\",\"gridcolor\":\"white\",\"linecolor\":\"white\",\"minorgridcolor\":\"white\",\"startlinecolor\":\"#2a3f5f\"},\"type\":\"carpet\"}],\"table\":[{\"cells\":{\"fill\":{\"color\":\"#EBF0F8\"},\"line\":{\"color\":\"white\"}},\"header\":{\"fill\":{\"color\":\"#C8D4E3\"},\"line\":{\"color\":\"white\"}},\"type\":\"table\"}],\"barpolar\":[{\"marker\":{\"line\":{\"color\":\"#E5ECF6\",\"width\":0.5},\"pattern\":{\"fillmode\":\"overlay\",\"size\":10,\"solidity\":0.2}},\"type\":\"barpolar\"}],\"pie\":[{\"automargin\":true,\"type\":\"pie\"}]},\"layout\":{\"autotypenumbers\":\"strict\",\"colorway\":[\"#636efa\",\"#EF553B\",\"#00cc96\",\"#ab63fa\",\"#FFA15A\",\"#19d3f3\",\"#FF6692\",\"#B6E880\",\"#FF97FF\",\"#FECB52\"],\"font\":{\"color\":\"#2a3f5f\"},\"hovermode\":\"closest\",\"hoverlabel\":{\"align\":\"left\"},\"paper_bgcolor\":\"white\",\"plot_bgcolor\":\"#E5ECF6\",\"polar\":{\"bgcolor\":\"#E5ECF6\",\"angularaxis\":{\"gridcolor\":\"white\",\"linecolor\":\"white\",\"ticks\":\"\"},\"radialaxis\":{\"gridcolor\":\"white\",\"linecolor\":\"white\",\"ticks\":\"\"}},\"ternary\":{\"bgcolor\":\"#E5ECF6\",\"aaxis\":{\"gridcolor\":\"white\",\"linecolor\":\"white\",\"ticks\":\"\"},\"baxis\":{\"gridcolor\":\"white\",\"linecolor\":\"white\",\"ticks\":\"\"},\"caxis\":{\"gridcolor\":\"white\",\"linecolor\":\"white\",\"ticks\":\"\"}},\"coloraxis\":{\"colorbar\":{\"outlinewidth\":0,\"ticks\":\"\"}},\"colorscale\":{\"sequential\":[[0.0,\"#0d0887\"],[0.1111111111111111,\"#46039f\"],[0.2222222222222222,\"#7201a8\"],[0.3333333333333333,\"#9c179e\"],[0.4444444444444444,\"#bd3786\"],[0.5555555555555556,\"#d8576b\"],[0.6666666666666666,\"#ed7953\"],[0.7777777777777778,\"#fb9f3a\"],[0.8888888888888888,\"#fdca26\"],[1.0,\"#f0f921\"]],\"sequentialminus\":[[0.0,\"#0d0887\"],[0.1111111111111111,\"#46039f\"],[0.2222222222222222,\"#7201a8\"],[0.3333333333333333,\"#9c179e\"],[0.4444444444444444,\"#bd3786\"],[0.5555555555555556,\"#d8576b\"],[0.6666666666666666,\"#ed7953\"],[0.7777777777777778,\"#fb9f3a\"],[0.8888888888888888,\"#fdca26\"],[1.0,\"#f0f921\"]],\"diverging\":[[0,\"#8e0152\"],[0.1,\"#c51b7d\"],[0.2,\"#de77ae\"],[0.3,\"#f1b6da\"],[0.4,\"#fde0ef\"],[0.5,\"#f7f7f7\"],[0.6,\"#e6f5d0\"],[0.7,\"#b8e186\"],[0.8,\"#7fbc41\"],[0.9,\"#4d9221\"],[1,\"#276419\"]]},\"xaxis\":{\"gridcolor\":\"white\",\"linecolor\":\"white\",\"ticks\":\"\",\"title\":{\"standoff\":15},\"zerolinecolor\":\"white\",\"automargin\":true,\"zerolinewidth\":2},\"yaxis\":{\"gridcolor\":\"white\",\"linecolor\":\"white\",\"ticks\":\"\",\"title\":{\"standoff\":15},\"zerolinecolor\":\"white\",\"automargin\":true,\"zerolinewidth\":2},\"scene\":{\"xaxis\":{\"backgroundcolor\":\"#E5ECF6\",\"gridcolor\":\"white\",\"linecolor\":\"white\",\"showbackground\":true,\"ticks\":\"\",\"zerolinecolor\":\"white\",\"gridwidth\":2},\"yaxis\":{\"backgroundcolor\":\"#E5ECF6\",\"gridcolor\":\"white\",\"linecolor\":\"white\",\"showbackground\":true,\"ticks\":\"\",\"zerolinecolor\":\"white\",\"gridwidth\":2},\"zaxis\":{\"backgroundcolor\":\"#E5ECF6\",\"gridcolor\":\"white\",\"linecolor\":\"white\",\"showbackground\":true,\"ticks\":\"\",\"zerolinecolor\":\"white\",\"gridwidth\":2}},\"shapedefaults\":{\"line\":{\"color\":\"#2a3f5f\"}},\"annotationdefaults\":{\"arrowcolor\":\"#2a3f5f\",\"arrowhead\":0,\"arrowwidth\":1},\"geo\":{\"bgcolor\":\"white\",\"landcolor\":\"#E5ECF6\",\"subunitcolor\":\"white\",\"showland\":true,\"showlakes\":true,\"lakecolor\":\"white\"},\"title\":{\"x\":0.05},\"mapbox\":{\"style\":\"light\"}}},\"xaxis\":{\"anchor\":\"y\",\"domain\":[0.0,1.0],\"title\":{\"text\":\"valence_%\"}},\"yaxis\":{\"anchor\":\"x\",\"domain\":[0.0,1.0],\"title\":{\"text\":\"streams\"}},\"coloraxis\":{\"colorbar\":{\"title\":{\"text\":\"valence_%\"}},\"colorscale\":[[0.0,\"#0d0887\"],[0.1111111111111111,\"#46039f\"],[0.2222222222222222,\"#7201a8\"],[0.3333333333333333,\"#9c179e\"],[0.4444444444444444,\"#bd3786\"],[0.5555555555555556,\"#d8576b\"],[0.6666666666666666,\"#ed7953\"],[0.7777777777777778,\"#fb9f3a\"],[0.8888888888888888,\"#fdca26\"],[1.0,\"#f0f921\"]]},\"legend\":{\"tracegroupgap\":0},\"title\":{\"text\":\"Valence_% vs. Number of Streams\"},\"font\":{\"color\":\"white\",\"size\":12},\"plot_bgcolor\":\"black\",\"paper_bgcolor\":\"black\"},                        {\"responsive\": true}                    ).then(function(){\n",
              "                            \n",
              "var gd = document.getElementById('96aae208-b7b6-427d-b64b-326b60c0de50');\n",
              "var x = new MutationObserver(function (mutations, observer) {{\n",
              "        var display = window.getComputedStyle(gd).display;\n",
              "        if (!display || display === 'none') {{\n",
              "            console.log([gd, 'removed!']);\n",
              "            Plotly.purge(gd);\n",
              "            observer.disconnect();\n",
              "        }}\n",
              "}});\n",
              "\n",
              "// Listen for the removal of the full notebook cells\n",
              "var notebookContainer = gd.closest('#notebook-container');\n",
              "if (notebookContainer) {{\n",
              "    x.observe(notebookContainer, {childList: true});\n",
              "}}\n",
              "\n",
              "// Listen for the clearing of the current output cell\n",
              "var outputEl = gd.closest('.output');\n",
              "if (outputEl) {{\n",
              "    x.observe(outputEl, {childList: true});\n",
              "}}\n",
              "\n",
              "                        })                };                            </script>        </div>\n",
              "</body>\n",
              "</html>"
            ]
          },
          "metadata": {}
        }
      ]
    },
    {
      "cell_type": "markdown",
      "source": [
        "## Danceability x Popularity"
      ],
      "metadata": {
        "id": "B_tgOPkBb6tW"
      }
    },
    {
      "cell_type": "code",
      "source": [
        "import plotly.express as px\n",
        "\n",
        "# Create scatter plot for Popularity vs. Danceability\n",
        "fig = px.scatter(data, x='danceability_%', y='streams', title='Popularity vs. Danceability')\n",
        "\n",
        "# Customize the layout\n",
        "fig.update_layout(\n",
        "    xaxis_title='Danceability (%)',\n",
        "    yaxis_title='Number of Streams',\n",
        "    plot_bgcolor='black',  # Set the background to black\n",
        "    paper_bgcolor='black', # Set the paper background to black\n",
        "    font=dict(color='white', size=16),  # Increase font size and set font color to white\n",
        "    title=dict(text='Popularity vs. Danceability', x=0.5),  # Center and enlarge the title\n",
        ")\n",
        "\n",
        "# Customize the marker color to green\n",
        "fig.update_traces(marker=dict(color='green'))\n",
        "\n",
        "# Show the scatter plot\n",
        "fig.show()"
      ],
      "metadata": {
        "colab": {
          "base_uri": "https://localhost:8080/",
          "height": 542
        },
        "id": "Ufu0fqMCcICe",
        "outputId": "a9d71c54-1fb4-45ae-f3fc-70a2141518fe"
      },
      "execution_count": 28,
      "outputs": [
        {
          "output_type": "display_data",
          "data": {
            "text/html": [
              "<html>\n",
              "<head><meta charset=\"utf-8\" /></head>\n",
              "<body>\n",
              "    <div>            <script src=\"https://cdnjs.cloudflare.com/ajax/libs/mathjax/2.7.5/MathJax.js?config=TeX-AMS-MML_SVG\"></script><script type=\"text/javascript\">if (window.MathJax && window.MathJax.Hub && window.MathJax.Hub.Config) {window.MathJax.Hub.Config({SVG: {font: \"STIX-Web\"}});}</script>                <script type=\"text/javascript\">window.PlotlyConfig = {MathJaxConfig: 'local'};</script>\n",
              "        <script charset=\"utf-8\" src=\"https://cdn.plot.ly/plotly-2.24.1.min.js\"></script>                <div id=\"48d53276-4b08-4587-83b4-6febb12ada73\" class=\"plotly-graph-div\" style=\"height:525px; width:100%;\"></div>            <script type=\"text/javascript\">                                    window.PLOTLYENV=window.PLOTLYENV || {};                                    if (document.getElementById(\"48d53276-4b08-4587-83b4-6febb12ada73\")) {                    Plotly.newPlot(                        \"48d53276-4b08-4587-83b4-6febb12ada73\",                        [{\"hovertemplate\":\"danceability_%=%{x}\\u003cbr\\u003estreams=%{y}\\u003cextra\\u003e\\u003c\\u002fextra\\u003e\",\"legendgroup\":\"\",\"marker\":{\"color\":\"green\",\"symbol\":\"circle\"},\"mode\":\"markers\",\"name\":\"\",\"orientation\":\"v\",\"showlegend\":false,\"x\":[80,71,51,55,65,92,67,67,85,81,57,78,71,51,52,64,78,44,86,63,65,69,48,85,85,79,80,81,52,67,74,56,71,64,72,81,61,75,60,79,56,76,56,56,77,67,71,59,68,53,72,60,92,67,45,50,64,84,86,61,86,70,88,77,90,43,64,59,56,51,77,76,51,61,62,49,58,71,78,68,48,34,63,50,59,78,50,91,82,63,71,74,68,62,53,83,49,56,56,62,43,68,50,62,81,54,80,61,77,61,74,51,77,65,64,70,55,84,82,51,75,64,74,49,81,87,63,55,35,78,82,80,42,78,52,63,75,76,60,56,77,84,93,92,79,59,65,45,60,74,81,78,47,69,73,50,54,66,61,73,78,86,77,45,68,68,82,45,73,60,65,60,55,33,57,71,65,70,56,83,67,70,53,34,37,74,54,70,63,57,54,63,65,50,48,74,84,62,81,57,61,53,75,77,56,89,67,85,78,82,70,80,73,84,77,78,54,71,62,72,78,74,66,66,95,80,76,71,59,63,69,78,43,79,82,82,78,73,92,80,59,91,49,47,34,56,60,84,83,67,95,84,65,44,62,50,80,70,77,52,44,79,51,77,68,74,93,77,94,60,72,87,90,57,79,76,76,70,92,84,69,59,75,56,59,80,70,59,32,54,82,89,45,62,70,77,70,80,82,73,65,72,71,70,48,73,78,67,71,74,65,59,72,70,64,90,73,76,81,71,63,95,58,60,40,36,90,71,77,83,70,50,64,68,61,59,64,66,84,56,57,74,56,68,59,73,79,50,70,58,36,86,59,59,87,49,72,53,55,81,82,74,88,76,53,72,75,65,75,73,66,66,84,53,60,74,70,80,58,53,56,70,64,88,66,79,82,25,64,57,65,92,81,82,44,51,71,70,68,41,68,47,77,79,71,80,46,79,58,64,74,41,40,87,87,40,46,47,91,90,81,49,64,95,63,39,80,67,58,81,58,70,46,70,82,65,84,69,58,65,74,34,74,70,74,35,46,24,45,72,51,50,65,67,53,65,71,33,73,67,36,75,60,62,60,72,60,51,67,23,51,34,43,53,72,59,73,67,70,49,54,80,70,69,47,79,66,64,89,70,80,63,87,45,83,69,51,61,33,63,70,70,70,60,65,85,58,76,80,74,67,53,70,56,41,49,77,75,66,61,74,27,65,28,74,68,71,75,64,83,75,31,56,29,59,59,82,63,77,53,70,46,65,79,40,57,83,73,81,58,63,77,44,75,63,73,66,56,73,72,70,86,79,77,83,44,75,74,66,67,66,59,85,77,53,77,59,46,42,35,77,59,68,83,70,72,86,63,39,80,91,45,79,73,76,96,40,67,80,73,75,46,81,61,74,79,73,78,60,45,78,76,63,52,64,53,75,80,77,73,82,44,89,42,52,45,67,52,41,71,35,60,74,75,57,74,72,70,82,79,55,77,56,90,69,80,85,63,84,81,51,35,53,92,69,47,52,91,90,61,60,37,31,57,46,84,60,67,77,93,31,76,91,78,81,67,86,74,79,73,89,65,89,51,47,78,31,44,73,39,84,56,92,76,62,68,74,44,81,76,87,81,95,64,28,78,81,59,80,65,55,72,59,77,80,42,76,41,59,69,53,70,69,67,61,75,39,86,68,91,58,45,81,60,68,76,70,83,72,59,63,56,78,79,70,86,71,71,69,93,57,89,87,58,86,78,45,79,86,91,68,61,61,81,84,78,56,79,52,55,87,85,50,71,92,66,78,80,82,65,61,84,78,56,86,57,50,80,81,63,61,83,85,51,73,91,36,44,64,83,38,37,43,88,66,84,61,66,71,49,68,77,71,82,87,73,86,54,47,53,32,76,58,47,37,70,56,72,72,51,63,69,80,88,82,60,56,80,71,58,73,82,56,65,63,85,72,83,81,57,51,71,91,83,56,60,52,81,42,68,49,70,54,70,91,51,73,81,80,44,78,45,80,56,88,88,95,85,44,58,71,63,77,72,70,74,61,55,47,81,90,56,79,79,81,77,70,82,77,67,67,68,37,74,77,90,70,65,65,34,56,37,70,81,64,82,78,70,52,65,84,73,66,57,72,57,92,49,74,80,59,91,75,80,75,84,66,73,48,77,34,48,62,93,54,85,64,57,60,42,80,82,61],\"xaxis\":\"x\",\"y\":[141381703.0,133716286.0,140003974.0,800840817.0,303236322.0,183706234.0,725980112.0,58149378.0,95217315.0,553634067.0,505671438.0,58255150.0,1316855716.0,387570742.0,2513188493.0,1163093654.0,496795686.0,30546883.0,335222234.0,363369738.0,86444842.0,52135248.0,1297026226.0,200647221.0,115364561.0,78300654.0,899183384.0,61245289.0,429829812.0,127408954.0,22581161.0,52294266.0,843957510.0,999748277.0,618990393.0,123122413.0,188933502.0,1355959075.0,786181836.0,176553476.0,354495408.0,2808096550.0,1109433169.0,1047101291.0,65156199.0,570515054.0,1085685420.0,1647990401.0,2565529693.0,518745108.0,107753850.0,177740666.0,153372011.0,57876440.0,1813673666.0,3703895074.0,256483385.0,1214083358.0,16011326.0,812019557.0,111947664.0,156338624.0,720434240.0,357925728.0,674072710.0,1755214421.0,404562836.0,373199958.0,14780425.0,39578178.0,54266102.0,2557975762.0,751134527.0,2282771485.0,1356565093.0,1592909789.0,635412045.0,1230675890.0,585695368.0,43857627.0,2009094673.0,600976848.0,39709092.0,39228929.0,2665343922.0,223633238.0,2887241814.0,1440757818.0,165484133.0,58054811.0,157058870.0,95131998.0,250305248.0,685032533.0,38411956.0,144565150.0,127567540.0,399686758.0,983637508.0,118482347.0,882831184.0,286400165.0,172825906.0,1241559043.0,29562220.0,77309611.0,1605224506.0,1116995633.0,838079900.0,1163620694.0,1093605526.0,179659294.0,39058561.0,36912123.0,1205951614.0,1791000570.0,201660859.0,248088961.0,90839753.0,607123776.0,55842345.0,211050784.0,342897938.0,2762.0,330346424.0,601863821.0,1953533826.0,2322580122.0,2355719893.0,66902503.0,96273746.0,430977451.0,284819874.0,721975598.0,1217120710.0,109276132.0,276259178.0,54225632.0,2559529074.0,681583126.0,2594040133.0,81102253.0,11956641.0,1687664027.0,11599388.0,611700552.0,1133865788.0,1089402494.0,411747614.0,255932395.0,31873544.0,95053634.0,1279434863.0,233801632.0,1481349984.0,142095275.0,618885532.0,2011464183.0,1167330737.0,929964809.0,436027885.0,657723613.0,2713922350.0,621660989.0,1591223784.0,950906471.0,1593270737.0,1410088830.0,1235005533.0,1661187319.0,1374581173.0,94186466.0,1788326445.0,1840364617.0,143573775.0,684675814.0,1113838873.0,1267333350.0,726307468.0,3562543890.0,1131090940.0,307370144.0,1271293243.0,265882712.0,841749534.0,47956378.0,806397070.0,2132335812.0,1641426668.0,2135158446.0,367316268.0,350381515.0,1264310836.0,30343206.0,405136812.0,1145727611.0,540654286.0,57312735.0,397582059.0,1479115056.0,86773632.0,133753727.0,123124076.0,463564958.0,64533040.0,65496046.0,68616963.0,161460990.0,70106975.0,113509496.0,89933133.0,71007139.0,43522589.0,232896922.0,37126685.0,195576623.0,532336353.0,538115192.0,46142772.0,401036314.0,127026613.0,345031710.0,288101651.0,60350538.0,335074782.0,76767396.0,46065667.0,459276435.0,39666245.0,138517666.0,822633917.0,595900742.0,51985779.0,57945987.0,115010040.0,175097833.0,57089066.0,488386797.0,32761689.0,1047480053.0,153454328.0,217672943.0,457184829.0,939844851.0,726434358.0,573633020.0,1406111294.0,71573339.0,24975653.0,145458418.0,1424589568.0,231332117.0,415932686.0,988515741.0,50847624.0,39893489.0,92035115.0,118810253.0,77233241.0,206399629.0,117747907.0,266624541.0,293186992.0,139681964.0,123132751.0,103762518.0,162887075.0,91221625.0,190490915.0,96180277.0,185240616.0,885093467.0,104992946.0,147290338.0,1302184087.0,158950978.0,76910644.0,137123880.0,782369383.0,502574952.0,207033255.0,404887295.0,381161027.0,466231982.0,357580552.0,61105704.0,198275403.0,168448603.0,705469769.0,34502215.0,482175240.0,304118600.0,1449799467.0,173627354.0,90025258.0,652704649.0,1829992958.0,655466831.0,146409671.0,95816024.0,117206995.0,100409613.0,80758350.0,325592432.0,58473276.0,52722996.0,191945597.0,77377503.0,743693613.0,267789608.0,1221813483.0,449701773.0,67070410.0,116334601.0,433356509.0,165584767.0,367814306.0,477033549.0,156214700.0,448843705.0,1357608774.0,294352144.0,972164968.0,920045682.0,2420461338.0,1947371785.0,244658767.0,68216992.0,223582566.0,471819764.0,272377463.0,1361425037.0,149778242.0,116599790.0,148469433.0,497225336.0,88791109.0,125917280.0,105062254.0,95623148.0,144584800.0,298063749.0,166570053.0,83021468.0,139836056.0,303216294.0,221409663.0,58890931.0,81419389.0,156777415.0,284908316.0,93438910.0,363472647.0,372476382.0,380726517.0,56533272.0,175399345.0,203221468.0,1624165576.0,134294498.0,70069745.0,609293408.0,671365962.0,362361576.0,93587665.0,1223481149.0,1022258230.0,263453310.0,1435127549.0,236857112.0,147538971.0,698086140.0,723894473.0,34450974.0,403097450.0,309483971.0,319566866.0,909001996.0,1061966512.0,32526947.0,124988687.0,103787664.0,134255790.0,301051721.0,156338624.0,152850295.0,309653982.0,297328960.0,332506354.0,480507035.0,1065580332.0,122763672.0,445763624.0,1365184.0,184308753.0,789753877.0,323358833.0,606361689.0,120972253.0,338564981.0,1606986953.0,1301799902.0,140187018.0,1897517891.0,107642809.0,551305895.0,556585270.0,2303033973.0,646886885.0,222612678.0,1814349763.0,872137015.0,571386359.0,304079786.0,174006928.0,284785823.0,163284000.0,246390068.0,482257456.0,168684524.0,78489819.0,195516622.0,1260594497.0,428685680.0,1024858327.0,838586769.0,199386237.0,972509632.0,213438580.0,1555511105.0,210038833.0,227918678.0,826623384.0,1802514301.0,1329090101.0,181831132.0,462791599.0,348647203.0,366599607.0,90598517.0,1479264469.0,1449779435.0,1159176109.0,769213520.0,741301563.0,807561936.0,834129063.0,663832097.0,446390129.0,690104769.0,485285717.0,520034544.0,476244795.0,629173063.0,404664135.0,98709329.0,110849052.0,460492795.0,94005786.0,395591396.0,389771964.0,403939487.0,481697415.0,110073250.0,88092256.0,351636786.0,473248298.0,73981293.0,155653938.0,395591396.0,429504768.0,242767149.0,65362788.0,67540165.0,62019074.0,135723538.0,295998468.0,261116938.0,136689549.0,135611421.0,356709897.0,110649992.0,301869854.0,127027715.0,57144458.0,56870689.0,323437194.0,317726339.0,116144341.0,328207708.0,608228647.0,180577478.0,809306935.0,49262961.0,614555082.0,245350949.0,178660459.0,51641685.0,78139948.0,322336177.0,1007612429.0,326792833.0,391251368.0,349585590.0,339659802.0,674772936.0,432719968.0,1309887447.0,119238316.0,116903579.0,888046992.0,200660871.0,130655803.0,1887039593.0,88103848.0,101114984.0,1575467011.0,91656026.0,1042568408.0,1735441776.0,726837877.0,53933526.0,267758538.0,74601456.0,920797189.0,539595276.0,1367810478.0,578207856.0,775542072.0,863625566.0,656013912.0,1056760045.0,611994237.0,1230855859.0,582981380.0,1858144199.0,240684449.0,583687007.0,63803529.0,466214729.0,236940480.0,41924466.0,225259194.0,393230256.0,287201015.0,599770206.0,342779426.0,673801126.0,1168642797.0,540539717.0,383550148.0,530511203.0,37307967.0,510876816.0,1445941661.0,1763363713.0,374191487.0,108809090.0,436695353.0,421040617.0,501541661.0,354065229.0,1143647827.0,311395144.0,672656250.0,1256880657.0,1692897992.0,245095641.0,686734357.0,261414174.0,610045621.0,1115880852.0,594482982.0,566954746.0,null,374706940.0,184937148.0,31959571.0,167076418.0,824420218.0,363467642.0,1127468248.0,60680939.0,247737946.0,1699402402.0,154797871.0,198883004.0,124407432.0,850608354.0,376333030.0,516784627.0,1608045237.0,506778838.0,1472799873.0,513643924.0,261286503.0,783706581.0,422691058.0,1062345656.0,1252563873.0,851070493.0,263894529.0,345903614.0,951637566.0,956865266.0,427486004.0,156658366.0,624515457.0,777765388.0,412795151.0,1138474110.0,355219175.0,290228626.0,1062956628.0,1180094974.0,1456081449.0,432702334.0,489945871.0,465959382.0,1223481149.0,2864791672.0,2288695111.0,720825549.0,2086124197.0,1690192927.0,991336132.0,593917618.0,200972675.0,71014967.0,560222750.0,1806617704.0,77337771.0,528544703.0,865640097.0,2159346687.0,211372494.0,651732901.0,608334048.0,863756573.0,797402345.0,1695712020.0,1759567999.0,223319934.0,54937991.0,226897599.0,258316038.0,596152090.0,177129919.0,716591492.0,1210599487.0,246376690.0,496311364.0,146789379.0,843309044.0,500340342.0,107255472.0,135079152.0,822239726.0,1202722675.0,343197054.0,240769997.0,426204830.0,421135627.0,554875730.0,467727006.0,327498031.0,185408548.0,245400167.0,579395142.0,675039469.0,252871192.0,231996128.0,1929770265.0,918915401.0,1180896317.0,498960285.0,685071800.0,258714692.0,143139338.0,209768491.0,64714573.0,50746620.0,154119539.0,181328253.0,370068639.0,2280566092.0,563902868.0,317622165.0,291709698.0,203680270.0,81350745.0,282883169.0,64787943.0,2484812918.0,461437791.0,1439191367.0,759208783.0,368646862.0,299634472.0,756907987.0,682475162.0,546191065.0,229473310.0,202677468.0,121913181.0,208166039.0,527033089.0,94616487.0,394030335.0,193443895.0,299648208.0,182978249.0,319757142.0,109091573.0,153240879.0,346127840.0,312622938.0,2197010679.0,1200808494.0,797196073.0,1970673297.0,665765558.0,263779030.0,339473453.0,2204080728.0,2591224264.0,135444283.0,1457139296.0,236872197.0,694525298.0,240661097.0,421365166.0,349746291.0,255120451.0,190981339.0,924193303.0,305771063.0,273005485.0,89566512.0,677389855.0,75476209.0,408843328.0,187772591.0,178512385.0,101780047.0,118381354.0,146363130.0,126443991.0,157990698.0,176290831.0,1023187129.0,106933107.0,139193812.0,212234990.0,1714490998.0,197643795.0,807015863.0,933815613.0,499710590.0,120847157.0,53909146.0,2236667932.0,2123309722.0,301242089.0,723894473.0,237351106.0,461558540.0,417230415.0,156898322.0,127309180.0,313113297.0,173702135.0,271666301.0,305650299.0,123216717.0,479655659.0,126191104.0,344055883.0,338422004.0,68895644.0,86176890.0,403231558.0,319546754.0,61739839.0,283359161.0,76831876.0,283332261.0,307752576.0,279737940.0,212351890.0,1304313953.0,150500965.0,246127838.0,582863434.0,58687425.0,212109195.0,382199619.0,41210087.0,231657891.0,53729194.0,244741137.0,42485571.0,37778188.0,254218729.0,53603447.0,160035717.0,164163229.0,37091576.0,284249832.0,33381454.0,184622518.0,300983101.0,121077868.0,106919680.0,136996305.0,65719930.0,229497852.0,185550869.0,54682594.0,240580042.0,1284942608.0,71423324.0,244891912.0,132171975.0,184706613.0,184826429.0,302006641.0,330881149.0,334733572.0,366214458.0,114546317.0,290833204.0,448500832.0,136676504.0,190625045.0,79095270.0,273194684.0,333146475.0,194902696.0,311482393.0,195918494.0,248511839.0,233671263.0,199587884.0,91781263.0,383835984.0,236060709.0,189236868.0,160845341.0,588955257.0,238350348.0,187703102.0,295307001.0,138334433.0,445590495.0,286739476.0,1122364376.0,157136970.0,137070925.0,183273246.0,184807630.0,164856284.0,704171068.0,354614964.0,279717388.0,195628667.0,221752937.0,263280370.0,213505179.0,130419412.0,155795783.0,1553497987.0,293466523.0,711366595.0,191448892.0,85924992.0,176103902.0,121189256.0,131746175.0,244790012.0,129314708.0,331511413.0,219196651.0,170732845.0,273914335.0,179061440.0,185236961.0,171788484.0,387080183.0,264717480.0,244928911.0,97610446.0,287278853.0,887906111.0,123473120.0,295152154.0,323455692.0,240918092.0,191873381.0,284216603.0,239411309.0,265548837.0,703301727.0,244585109.0,189476119.0,277132266.0,278920007.0,222410722.0,185392587.0,202452860.0,1608164312.0,624101957.0,148461629.0,47093942.0,380319238.0,209106362.0,53987404.0,115331792.0,225093344.0,84697729.0,159240673.0,170709584.0,154356956.0,723043854.0,247689123.0,176474912.0,235549288.0,140430339.0,85559365.0,146223492.0,187701588.0,154863153.0,191333656.0,253650850.0,223064273.0,170413877.0,218320587.0,141720999.0,187339835.0,198365537.0,186104310.0,177503916.0,71095708.0,112436403.0,203436468.0,93367537.0,106249219.0,181382590.0,91473363.0,121871870.0,73513683.0,133895612.0,96007391.0],\"yaxis\":\"y\",\"type\":\"scatter\"}],                        {\"template\":{\"data\":{\"histogram2dcontour\":[{\"type\":\"histogram2dcontour\",\"colorbar\":{\"outlinewidth\":0,\"ticks\":\"\"},\"colorscale\":[[0.0,\"#0d0887\"],[0.1111111111111111,\"#46039f\"],[0.2222222222222222,\"#7201a8\"],[0.3333333333333333,\"#9c179e\"],[0.4444444444444444,\"#bd3786\"],[0.5555555555555556,\"#d8576b\"],[0.6666666666666666,\"#ed7953\"],[0.7777777777777778,\"#fb9f3a\"],[0.8888888888888888,\"#fdca26\"],[1.0,\"#f0f921\"]]}],\"choropleth\":[{\"type\":\"choropleth\",\"colorbar\":{\"outlinewidth\":0,\"ticks\":\"\"}}],\"histogram2d\":[{\"type\":\"histogram2d\",\"colorbar\":{\"outlinewidth\":0,\"ticks\":\"\"},\"colorscale\":[[0.0,\"#0d0887\"],[0.1111111111111111,\"#46039f\"],[0.2222222222222222,\"#7201a8\"],[0.3333333333333333,\"#9c179e\"],[0.4444444444444444,\"#bd3786\"],[0.5555555555555556,\"#d8576b\"],[0.6666666666666666,\"#ed7953\"],[0.7777777777777778,\"#fb9f3a\"],[0.8888888888888888,\"#fdca26\"],[1.0,\"#f0f921\"]]}],\"heatmap\":[{\"type\":\"heatmap\",\"colorbar\":{\"outlinewidth\":0,\"ticks\":\"\"},\"colorscale\":[[0.0,\"#0d0887\"],[0.1111111111111111,\"#46039f\"],[0.2222222222222222,\"#7201a8\"],[0.3333333333333333,\"#9c179e\"],[0.4444444444444444,\"#bd3786\"],[0.5555555555555556,\"#d8576b\"],[0.6666666666666666,\"#ed7953\"],[0.7777777777777778,\"#fb9f3a\"],[0.8888888888888888,\"#fdca26\"],[1.0,\"#f0f921\"]]}],\"heatmapgl\":[{\"type\":\"heatmapgl\",\"colorbar\":{\"outlinewidth\":0,\"ticks\":\"\"},\"colorscale\":[[0.0,\"#0d0887\"],[0.1111111111111111,\"#46039f\"],[0.2222222222222222,\"#7201a8\"],[0.3333333333333333,\"#9c179e\"],[0.4444444444444444,\"#bd3786\"],[0.5555555555555556,\"#d8576b\"],[0.6666666666666666,\"#ed7953\"],[0.7777777777777778,\"#fb9f3a\"],[0.8888888888888888,\"#fdca26\"],[1.0,\"#f0f921\"]]}],\"contourcarpet\":[{\"type\":\"contourcarpet\",\"colorbar\":{\"outlinewidth\":0,\"ticks\":\"\"}}],\"contour\":[{\"type\":\"contour\",\"colorbar\":{\"outlinewidth\":0,\"ticks\":\"\"},\"colorscale\":[[0.0,\"#0d0887\"],[0.1111111111111111,\"#46039f\"],[0.2222222222222222,\"#7201a8\"],[0.3333333333333333,\"#9c179e\"],[0.4444444444444444,\"#bd3786\"],[0.5555555555555556,\"#d8576b\"],[0.6666666666666666,\"#ed7953\"],[0.7777777777777778,\"#fb9f3a\"],[0.8888888888888888,\"#fdca26\"],[1.0,\"#f0f921\"]]}],\"surface\":[{\"type\":\"surface\",\"colorbar\":{\"outlinewidth\":0,\"ticks\":\"\"},\"colorscale\":[[0.0,\"#0d0887\"],[0.1111111111111111,\"#46039f\"],[0.2222222222222222,\"#7201a8\"],[0.3333333333333333,\"#9c179e\"],[0.4444444444444444,\"#bd3786\"],[0.5555555555555556,\"#d8576b\"],[0.6666666666666666,\"#ed7953\"],[0.7777777777777778,\"#fb9f3a\"],[0.8888888888888888,\"#fdca26\"],[1.0,\"#f0f921\"]]}],\"mesh3d\":[{\"type\":\"mesh3d\",\"colorbar\":{\"outlinewidth\":0,\"ticks\":\"\"}}],\"scatter\":[{\"fillpattern\":{\"fillmode\":\"overlay\",\"size\":10,\"solidity\":0.2},\"type\":\"scatter\"}],\"parcoords\":[{\"type\":\"parcoords\",\"line\":{\"colorbar\":{\"outlinewidth\":0,\"ticks\":\"\"}}}],\"scatterpolargl\":[{\"type\":\"scatterpolargl\",\"marker\":{\"colorbar\":{\"outlinewidth\":0,\"ticks\":\"\"}}}],\"bar\":[{\"error_x\":{\"color\":\"#2a3f5f\"},\"error_y\":{\"color\":\"#2a3f5f\"},\"marker\":{\"line\":{\"color\":\"#E5ECF6\",\"width\":0.5},\"pattern\":{\"fillmode\":\"overlay\",\"size\":10,\"solidity\":0.2}},\"type\":\"bar\"}],\"scattergeo\":[{\"type\":\"scattergeo\",\"marker\":{\"colorbar\":{\"outlinewidth\":0,\"ticks\":\"\"}}}],\"scatterpolar\":[{\"type\":\"scatterpolar\",\"marker\":{\"colorbar\":{\"outlinewidth\":0,\"ticks\":\"\"}}}],\"histogram\":[{\"marker\":{\"pattern\":{\"fillmode\":\"overlay\",\"size\":10,\"solidity\":0.2}},\"type\":\"histogram\"}],\"scattergl\":[{\"type\":\"scattergl\",\"marker\":{\"colorbar\":{\"outlinewidth\":0,\"ticks\":\"\"}}}],\"scatter3d\":[{\"type\":\"scatter3d\",\"line\":{\"colorbar\":{\"outlinewidth\":0,\"ticks\":\"\"}},\"marker\":{\"colorbar\":{\"outlinewidth\":0,\"ticks\":\"\"}}}],\"scattermapbox\":[{\"type\":\"scattermapbox\",\"marker\":{\"colorbar\":{\"outlinewidth\":0,\"ticks\":\"\"}}}],\"scatterternary\":[{\"type\":\"scatterternary\",\"marker\":{\"colorbar\":{\"outlinewidth\":0,\"ticks\":\"\"}}}],\"scattercarpet\":[{\"type\":\"scattercarpet\",\"marker\":{\"colorbar\":{\"outlinewidth\":0,\"ticks\":\"\"}}}],\"carpet\":[{\"aaxis\":{\"endlinecolor\":\"#2a3f5f\",\"gridcolor\":\"white\",\"linecolor\":\"white\",\"minorgridcolor\":\"white\",\"startlinecolor\":\"#2a3f5f\"},\"baxis\":{\"endlinecolor\":\"#2a3f5f\",\"gridcolor\":\"white\",\"linecolor\":\"white\",\"minorgridcolor\":\"white\",\"startlinecolor\":\"#2a3f5f\"},\"type\":\"carpet\"}],\"table\":[{\"cells\":{\"fill\":{\"color\":\"#EBF0F8\"},\"line\":{\"color\":\"white\"}},\"header\":{\"fill\":{\"color\":\"#C8D4E3\"},\"line\":{\"color\":\"white\"}},\"type\":\"table\"}],\"barpolar\":[{\"marker\":{\"line\":{\"color\":\"#E5ECF6\",\"width\":0.5},\"pattern\":{\"fillmode\":\"overlay\",\"size\":10,\"solidity\":0.2}},\"type\":\"barpolar\"}],\"pie\":[{\"automargin\":true,\"type\":\"pie\"}]},\"layout\":{\"autotypenumbers\":\"strict\",\"colorway\":[\"#636efa\",\"#EF553B\",\"#00cc96\",\"#ab63fa\",\"#FFA15A\",\"#19d3f3\",\"#FF6692\",\"#B6E880\",\"#FF97FF\",\"#FECB52\"],\"font\":{\"color\":\"#2a3f5f\"},\"hovermode\":\"closest\",\"hoverlabel\":{\"align\":\"left\"},\"paper_bgcolor\":\"white\",\"plot_bgcolor\":\"#E5ECF6\",\"polar\":{\"bgcolor\":\"#E5ECF6\",\"angularaxis\":{\"gridcolor\":\"white\",\"linecolor\":\"white\",\"ticks\":\"\"},\"radialaxis\":{\"gridcolor\":\"white\",\"linecolor\":\"white\",\"ticks\":\"\"}},\"ternary\":{\"bgcolor\":\"#E5ECF6\",\"aaxis\":{\"gridcolor\":\"white\",\"linecolor\":\"white\",\"ticks\":\"\"},\"baxis\":{\"gridcolor\":\"white\",\"linecolor\":\"white\",\"ticks\":\"\"},\"caxis\":{\"gridcolor\":\"white\",\"linecolor\":\"white\",\"ticks\":\"\"}},\"coloraxis\":{\"colorbar\":{\"outlinewidth\":0,\"ticks\":\"\"}},\"colorscale\":{\"sequential\":[[0.0,\"#0d0887\"],[0.1111111111111111,\"#46039f\"],[0.2222222222222222,\"#7201a8\"],[0.3333333333333333,\"#9c179e\"],[0.4444444444444444,\"#bd3786\"],[0.5555555555555556,\"#d8576b\"],[0.6666666666666666,\"#ed7953\"],[0.7777777777777778,\"#fb9f3a\"],[0.8888888888888888,\"#fdca26\"],[1.0,\"#f0f921\"]],\"sequentialminus\":[[0.0,\"#0d0887\"],[0.1111111111111111,\"#46039f\"],[0.2222222222222222,\"#7201a8\"],[0.3333333333333333,\"#9c179e\"],[0.4444444444444444,\"#bd3786\"],[0.5555555555555556,\"#d8576b\"],[0.6666666666666666,\"#ed7953\"],[0.7777777777777778,\"#fb9f3a\"],[0.8888888888888888,\"#fdca26\"],[1.0,\"#f0f921\"]],\"diverging\":[[0,\"#8e0152\"],[0.1,\"#c51b7d\"],[0.2,\"#de77ae\"],[0.3,\"#f1b6da\"],[0.4,\"#fde0ef\"],[0.5,\"#f7f7f7\"],[0.6,\"#e6f5d0\"],[0.7,\"#b8e186\"],[0.8,\"#7fbc41\"],[0.9,\"#4d9221\"],[1,\"#276419\"]]},\"xaxis\":{\"gridcolor\":\"white\",\"linecolor\":\"white\",\"ticks\":\"\",\"title\":{\"standoff\":15},\"zerolinecolor\":\"white\",\"automargin\":true,\"zerolinewidth\":2},\"yaxis\":{\"gridcolor\":\"white\",\"linecolor\":\"white\",\"ticks\":\"\",\"title\":{\"standoff\":15},\"zerolinecolor\":\"white\",\"automargin\":true,\"zerolinewidth\":2},\"scene\":{\"xaxis\":{\"backgroundcolor\":\"#E5ECF6\",\"gridcolor\":\"white\",\"linecolor\":\"white\",\"showbackground\":true,\"ticks\":\"\",\"zerolinecolor\":\"white\",\"gridwidth\":2},\"yaxis\":{\"backgroundcolor\":\"#E5ECF6\",\"gridcolor\":\"white\",\"linecolor\":\"white\",\"showbackground\":true,\"ticks\":\"\",\"zerolinecolor\":\"white\",\"gridwidth\":2},\"zaxis\":{\"backgroundcolor\":\"#E5ECF6\",\"gridcolor\":\"white\",\"linecolor\":\"white\",\"showbackground\":true,\"ticks\":\"\",\"zerolinecolor\":\"white\",\"gridwidth\":2}},\"shapedefaults\":{\"line\":{\"color\":\"#2a3f5f\"}},\"annotationdefaults\":{\"arrowcolor\":\"#2a3f5f\",\"arrowhead\":0,\"arrowwidth\":1},\"geo\":{\"bgcolor\":\"white\",\"landcolor\":\"#E5ECF6\",\"subunitcolor\":\"white\",\"showland\":true,\"showlakes\":true,\"lakecolor\":\"white\"},\"title\":{\"x\":0.05},\"mapbox\":{\"style\":\"light\"}}},\"xaxis\":{\"anchor\":\"y\",\"domain\":[0.0,1.0],\"title\":{\"text\":\"Danceability (%)\"}},\"yaxis\":{\"anchor\":\"x\",\"domain\":[0.0,1.0],\"title\":{\"text\":\"Number of Streams\"}},\"legend\":{\"tracegroupgap\":0},\"title\":{\"text\":\"Popularity vs. Danceability\",\"x\":0.5},\"font\":{\"color\":\"white\",\"size\":16},\"plot_bgcolor\":\"black\",\"paper_bgcolor\":\"black\"},                        {\"responsive\": true}                    ).then(function(){\n",
              "                            \n",
              "var gd = document.getElementById('48d53276-4b08-4587-83b4-6febb12ada73');\n",
              "var x = new MutationObserver(function (mutations, observer) {{\n",
              "        var display = window.getComputedStyle(gd).display;\n",
              "        if (!display || display === 'none') {{\n",
              "            console.log([gd, 'removed!']);\n",
              "            Plotly.purge(gd);\n",
              "            observer.disconnect();\n",
              "        }}\n",
              "}});\n",
              "\n",
              "// Listen for the removal of the full notebook cells\n",
              "var notebookContainer = gd.closest('#notebook-container');\n",
              "if (notebookContainer) {{\n",
              "    x.observe(notebookContainer, {childList: true});\n",
              "}}\n",
              "\n",
              "// Listen for the clearing of the current output cell\n",
              "var outputEl = gd.closest('.output');\n",
              "if (outputEl) {{\n",
              "    x.observe(outputEl, {childList: true});\n",
              "}}\n",
              "\n",
              "                        })                };                            </script>        </div>\n",
              "</body>\n",
              "</html>"
            ]
          },
          "metadata": {}
        }
      ]
    },
    {
      "cell_type": "markdown",
      "source": [
        "## Valence (Positivity) Distribution by Year"
      ],
      "metadata": {
        "id": "HNXkujt4docJ"
      }
    },
    {
      "cell_type": "code",
      "source": [
        "import plotly.express as px\n",
        "\n",
        "# Create box plot for Valence distribution by Year\n",
        "fig = px.box(data, x='released_year', y='valence_%', title='Valence Distribution by Year')\n",
        "\n",
        "# Customize the layout\n",
        "fig.update_layout(\n",
        "    xaxis_title='Year',\n",
        "    yaxis_title='Valence (%)',\n",
        "    plot_bgcolor='black',  # Set the background to black\n",
        "    paper_bgcolor='black', # Set the paper background to black\n",
        "    font=dict(color='white', size=16),  # Increase font size and set font color to white\n",
        "    title=dict(text='Valence Distribution by Year', x=0.5),  # Center and enlarge the title\n",
        ")\n",
        "\n",
        "# Customize the box plot color to green\n",
        "fig.update_traces(line_color='green')\n",
        "\n",
        "# Show the box plot\n",
        "fig.show()"
      ],
      "metadata": {
        "colab": {
          "base_uri": "https://localhost:8080/",
          "height": 542
        },
        "id": "9aoymqbEdtJq",
        "outputId": "93f841ae-e6ed-4dc5-8908-763039bd80e7"
      },
      "execution_count": 29,
      "outputs": [
        {
          "output_type": "display_data",
          "data": {
            "text/html": [
              "<html>\n",
              "<head><meta charset=\"utf-8\" /></head>\n",
              "<body>\n",
              "    <div>            <script src=\"https://cdnjs.cloudflare.com/ajax/libs/mathjax/2.7.5/MathJax.js?config=TeX-AMS-MML_SVG\"></script><script type=\"text/javascript\">if (window.MathJax && window.MathJax.Hub && window.MathJax.Hub.Config) {window.MathJax.Hub.Config({SVG: {font: \"STIX-Web\"}});}</script>                <script type=\"text/javascript\">window.PlotlyConfig = {MathJaxConfig: 'local'};</script>\n",
              "        <script charset=\"utf-8\" src=\"https://cdn.plot.ly/plotly-2.24.1.min.js\"></script>                <div id=\"2f53e695-df0b-4672-86c2-b7f5819748ca\" class=\"plotly-graph-div\" style=\"height:525px; width:100%;\"></div>            <script type=\"text/javascript\">                                    window.PLOTLYENV=window.PLOTLYENV || {};                                    if (document.getElementById(\"2f53e695-df0b-4672-86c2-b7f5819748ca\")) {                    Plotly.newPlot(                        \"2f53e695-df0b-4672-86c2-b7f5819748ca\",                        [{\"alignmentgroup\":\"True\",\"hovertemplate\":\"released_year=%{x}\\u003cbr\\u003evalence_%=%{y}\\u003cextra\\u003e\\u003c\\u002fextra\\u003e\",\"legendgroup\":\"\",\"marker\":{\"color\":\"#636efa\"},\"name\":\"\",\"notched\":false,\"offsetgroup\":\"\",\"orientation\":\"v\",\"showlegend\":false,\"x\":[2023,2023,2023,2019,2023,2023,2023,2023,2023,2023,2023,2023,2023,2023,2022,2022,2023,2023,2023,2023,2023,2023,2013,2023,2023,2023,2022,2023,2023,2023,2023,2023,2022,2022,2023,2023,2023,2014,2014,2023,2023,2018,2022,2017,2023,2020,2022,2016,2016,2023,2023,2023,2023,2023,2012,2019,2023,2022,2023,2020,2023,2023,2022,2023,2022,1999,2022,2022,2023,2023,2023,2020,2022,2012,2022,2008,2022,2022,2022,2023,1975,2022,2023,2023,2021,2023,2018,2022,2015,2012,2023,2023,2023,2017,2020,2023,2023,2022,2011,2023,2012,2022,2023,2004,2023,2022,2017,2017,2021,2011,2012,2022,2023,2023,1985,2014,2023,2023,2023,2020,2023,2023,2022,2022,2021,2022,2011,2019,2017,2023,2023,2023,2011,2023,2007,2023,2022,2023,2017,2022,2017,2023,2023,2002,2023,2016,2022,2004,2019,2023,2023,2023,2010,2023,2012,2023,2022,2013,2021,2019,2023,2004,2016,2010,2020,2010,1983,2015,2011,2012,2018,2023,2013,2012,2023,2016,2014,2013,2022,2017,2014,2023,1992,2019,2017,2023,2016,2019,2010,2013,2022,2021,2022,2023,2020,1968,2010,2023,2022,1984,2023,2023,2023,2022,2023,2023,2023,2023,2023,2023,2023,2022,2023,2023,2023,2023,2022,2022,2023,2022,2023,2022,2022,2023,2022,2023,2023,2022,2023,2023,2022,2022,2023,2023,2023,2023,2023,2022,2023,2022,2023,2023,2022,2016,2021,2022,2021,2023,2023,2023,2000,2022,2021,2022,2023,2023,2023,2023,2023,2023,2023,2023,2022,2023,2023,1997,2023,2023,2022,2023,2019,2022,2023,2023,2021,2022,2023,2022,2022,2022,2023,2022,2022,2014,2021,2023,2022,2023,2018,2023,2022,2022,2018,2023,2023,2021,2002,2002,2023,2023,2023,2023,2023,2022,2023,2023,2021,2023,2022,2022,2020,2022,2023,2023,2022,2023,2022,2022,2022,2022,1995,2022,2014,2017,2016,2015,2019,2023,2022,2022,2022,2003,2023,2023,2022,2022,2023,2023,2023,2023,2023,2022,2023,2023,2022,2022,2022,2023,2023,2022,2022,2023,2022,2011,2022,2023,2023,2022,2000,2022,2022,2022,2022,2022,2022,2021,2017,2022,2019,2022,2023,2020,2022,2023,2020,2022,2022,2022,2021,2023,2023,2023,2023,2022,2022,2023,2022,2022,2022,2016,2019,2016,2022,2022,2022,2015,2022,2022,2023,2022,2014,2020,2022,2017,2023,2022,2022,2019,2014,2022,2021,2020,2015,2022,2022,2022,2022,2022,2022,2022,2022,2022,2021,2022,1985,1973,2022,2021,2022,2020,2022,2022,2020,2020,2021,2022,2022,2022,2022,1930,2012,1994,1984,1958,1957,2011,2013,1963,1959,2017,2013,1970,2011,2011,1963,2022,2022,1971,2022,1952,1946,1979,1984,2022,2022,1984,1950,2022,2022,1942,1986,1963,2022,2022,2022,2017,1958,2000,2022,2022,2021,2022,2022,1959,2022,2022,2022,2022,2022,2022,2022,2005,2021,2022,2022,1958,1957,2022,2022,2022,2021,2022,2022,2022,2022,2021,2021,2021,2022,2022,2017,2022,2021,2021,2022,2022,2021,2022,2021,2020,2019,2022,2021,2022,2021,2021,2017,2020,2021,2021,2021,2021,2021,2021,2021,2021,2021,2021,2022,2021,2022,2022,2021,2021,2021,2018,2021,2021,2020,2019,2021,2020,2022,2021,2021,2020,2021,2022,2021,2021,2020,2021,2021,2022,2021,2021,2020,2021,2019,2021,2021,2021,2021,2021,1970,2021,2021,2022,2021,2015,2021,2015,2022,2021,2020,2021,2021,2022,2021,2021,2021,2019,2020,2010,2021,2021,2021,2021,2020,2020,2021,2021,2021,2020,2016,2021,2016,2021,2017,2021,2019,2021,2021,2010,2020,2014,2021,2021,2021,2021,2019,2017,2021,2013,1991,2019,2021,2021,2022,2021,2003,2022,2021,2019,2018,2022,2021,2021,2021,2021,2002,2019,2021,2022,2021,2021,2021,2021,2022,1999,2022,2022,2022,1999,2022,2022,2022,2012,2002,2022,2013,2019,2016,2019,2019,2020,2021,2022,1995,1999,2021,2021,2017,1999,2020,2017,2020,2022,2022,2021,2022,2022,2022,2021,2015,2014,2019,2021,2022,2019,2022,2019,2022,2019,2019,2019,2020,1991,2022,2022,2022,2021,2022,2022,2022,2022,2004,2022,2021,2022,2022,2022,2022,2013,2022,2021,2020,1975,2018,2020,2013,2021,2021,2020,2017,2016,2022,2011,2019,2022,2022,2022,2022,2022,2022,2015,2022,2022,2022,2015,2022,2021,2022,2022,2022,2022,2022,2022,2022,2022,2019,1996,2022,2022,2016,2022,2019,2013,2021,2022,2022,2014,2015,2022,2022,2022,2022,2022,2022,2022,2022,2022,2022,2022,2022,2022,2022,2022,2022,2022,2022,2022,2022,2022,2022,2022,2022,2022,2022,2022,2019,2022,2022,2016,2022,2022,2022,2022,2022,2022,2022,2022,2022,2022,2022,2022,2022,2022,2022,2022,2022,2022,2022,2022,2022,2021,2022,2022,2022,2022,1998,2022,2019,2022,2017,2021,2022,2022,2022,2022,2022,2022,2022,2022,2022,2022,2022,2022,2022,2022,1982,2022,2022,2022,2022,2022,2022,2022,2022,2014,2022,2022,2022,2022,2016,2022,2018,2022,2022,2021,2022,2022,1986,2022,2022,2022,2022,2022,2022,2022,2022,1987,2022,2022,2022,2022,2022,2022,2022,2022,2022,2022,2022,2022,2020,2022,2022,2022,2019,2022,2022,2022,2022,2008,2022,2022,2022,2022,2022,2017,2022,2022,2013,2022,2022,2022,2022,2022,2022,2022,2002,2000,2022,2022,2016,2022,2022,2022,2022,2022,2022,2022,1982,2018,2022,2022,2022,2020,2022,2022,2022,2022,2022,2022,2022,2022,2022,2022,2022,2022,2022,2022,2022,2022,2022,2022,2022,2022,2022,2022,2022,2022,2022],\"x0\":\" \",\"xaxis\":\"x\",\"y\":[89,61,32,58,23,66,83,26,22,56,56,52,65,32,66,43,76,14,67,36,87,82,44,81,83,96,82,74,52,78,35,63,17,51,61,63,39,57,48,96,84,91,38,58,75,49,82,51,49,50,17,23,55,96,13,38,88,85,42,53,59,86,72,53,40,28,10,71,48,22,84,53,14,41,55,42,27,24,58,40,50,32,36,20,48,70,45,43,40,84,67,76,14,19,34,69,17,39,24,57,50,17,37,24,53,50,92,45,65,47,37,18,79,49,54,47,30,96,89,42,79,31,68,78,39,57,88,56,12,59,69,74,20,50,20,22,48,96,17,20,74,65,68,67,92,52,27,33,24,96,90,70,86,61,87,85,40,48,41,31,89,74,36,24,61,51,73,10,60,43,51,13,42,38,84,40,95,81,53,93,40,37,12,24,17,36,54,59,46,41,75,49,19,67,37,76,52,55,18,86,20,24,35,79,53,67,24,53,5,51,42,85,45,64,28,39,25,58,7,45,90,61,85,32,62,69,61,59,26,75,69,64,14,58,47,54,20,10,59,23,63,63,4,27,25,42,13,55,25,55,78,96,46,27,56,44,38,83,69,57,36,58,27,94,38,75,47,35,71,10,40,53,74,80,82,80,26,35,78,88,36,69,55,57,15,33,77,56,17,19,67,61,17,32,86,84,6,64,53,44,71,79,80,70,50,22,75,11,90,79,63,22,42,76,18,96,64,46,64,57,40,43,46,77,45,12,64,41,72,58,34,24,30,81,92,20,67,43,44,72,68,51,20,83,44,65,66,49,29,26,28,68,78,49,82,48,96,51,40,97,61,43,43,49,40,59,18,72,43,88,47,16,72,61,52,64,40,29,42,32,56,84,25,82,74,60,55,17,31,47,80,73,82,62,38,62,34,57,83,9,50,25,65,59,83,71,34,68,4,61,89,9,23,20,52,39,60,15,97,76,6,24,44,91,20,24,46,26,17,59,29,31,53,92,88,36,70,40,44,49,51,33,88,85,78,38,53,76,72,33,69,96,70,88,84,35,55,39,71,81,22,74,23,59,19,91,86,51,22,19,87,35,42,47,78,60,72,69,92,42,41,15,57,96,33,77,19,4,48,39,42,93,51,35,47,94,94,48,51,34,42,91,60,45,82,64,83,44,62,35,50,50,35,68,27,49,74,85,19,76,53,10,37,13,55,72,59,36,14,40,46,31,16,12,69,21,52,21,25,55,61,55,46,79,7,36,11,79,57,44,85,40,52,93,49,14,76,58,60,67,57,31,70,49,44,22,74,39,18,78,63,72,22,51,75,82,56,23,47,41,51,33,29,59,76,54,86,31,36,21,79,19,56,52,63,71,19,40,24,66,96,62,92,59,45,79,31,65,11,12,47,58,76,7,8,66,53,33,26,54,54,22,77,33,73,27,29,68,65,14,24,40,79,19,30,65,67,65,80,44,10,60,61,74,70,62,92,75,90,53,50,23,31,31,91,50,44,49,79,65,37,17,30,23,43,49,47,74,76,61,4,92,42,53,83,8,89,61,86,37,75,60,89,66,44,58,31,18,68,45,54,19,62,77,46,57,59,8,68,96,82,40,36,76,26,55,56,70,71,11,86,55,73,68,24,33,81,23,23,90,66,71,35,37,47,64,28,75,33,32,56,27,59,58,41,63,54,63,22,30,45,41,63,48,22,91,55,63,90,77,6,59,28,71,97,83,25,87,62,73,24,20,53,39,72,40,61,22,32,50,93,41,39,43,78,58,51,45,50,52,66,74,55,56,67,71,41,26,77,60,24,41,72,48,26,91,30,74,80,32,20,14,60,28,29,61,32,83,67,50,45,53,37,82,46,59,43,45,33,14,49,79,27,7,27,31,68,70,36,39,29,63,74,15,76,68,40,77,39,30,88,42,20,88,29,42,90,90,68,30,21,90,63,56,25,46,28,61,32,54,14,97,59,87,59,5,62,72,36,41,31,67,55,52,8,52,83,80,44,68,78,56,94,18,46,46,38,46,56,70,73,43,64,66,90,71,97,49,74,49,72,80,28,71,78,75,58,79,52,22,21,17,26,48,4,75,75,26,24,24,43,65,24,24,92,50,53,13,22,82,62,23,45,16,11,33,12,25,15,20,39,55,25,62,22,40,11,55,24,7,81,67,32],\"y0\":\" \",\"yaxis\":\"y\",\"type\":\"box\",\"line\":{\"color\":\"green\"}}],                        {\"template\":{\"data\":{\"histogram2dcontour\":[{\"type\":\"histogram2dcontour\",\"colorbar\":{\"outlinewidth\":0,\"ticks\":\"\"},\"colorscale\":[[0.0,\"#0d0887\"],[0.1111111111111111,\"#46039f\"],[0.2222222222222222,\"#7201a8\"],[0.3333333333333333,\"#9c179e\"],[0.4444444444444444,\"#bd3786\"],[0.5555555555555556,\"#d8576b\"],[0.6666666666666666,\"#ed7953\"],[0.7777777777777778,\"#fb9f3a\"],[0.8888888888888888,\"#fdca26\"],[1.0,\"#f0f921\"]]}],\"choropleth\":[{\"type\":\"choropleth\",\"colorbar\":{\"outlinewidth\":0,\"ticks\":\"\"}}],\"histogram2d\":[{\"type\":\"histogram2d\",\"colorbar\":{\"outlinewidth\":0,\"ticks\":\"\"},\"colorscale\":[[0.0,\"#0d0887\"],[0.1111111111111111,\"#46039f\"],[0.2222222222222222,\"#7201a8\"],[0.3333333333333333,\"#9c179e\"],[0.4444444444444444,\"#bd3786\"],[0.5555555555555556,\"#d8576b\"],[0.6666666666666666,\"#ed7953\"],[0.7777777777777778,\"#fb9f3a\"],[0.8888888888888888,\"#fdca26\"],[1.0,\"#f0f921\"]]}],\"heatmap\":[{\"type\":\"heatmap\",\"colorbar\":{\"outlinewidth\":0,\"ticks\":\"\"},\"colorscale\":[[0.0,\"#0d0887\"],[0.1111111111111111,\"#46039f\"],[0.2222222222222222,\"#7201a8\"],[0.3333333333333333,\"#9c179e\"],[0.4444444444444444,\"#bd3786\"],[0.5555555555555556,\"#d8576b\"],[0.6666666666666666,\"#ed7953\"],[0.7777777777777778,\"#fb9f3a\"],[0.8888888888888888,\"#fdca26\"],[1.0,\"#f0f921\"]]}],\"heatmapgl\":[{\"type\":\"heatmapgl\",\"colorbar\":{\"outlinewidth\":0,\"ticks\":\"\"},\"colorscale\":[[0.0,\"#0d0887\"],[0.1111111111111111,\"#46039f\"],[0.2222222222222222,\"#7201a8\"],[0.3333333333333333,\"#9c179e\"],[0.4444444444444444,\"#bd3786\"],[0.5555555555555556,\"#d8576b\"],[0.6666666666666666,\"#ed7953\"],[0.7777777777777778,\"#fb9f3a\"],[0.8888888888888888,\"#fdca26\"],[1.0,\"#f0f921\"]]}],\"contourcarpet\":[{\"type\":\"contourcarpet\",\"colorbar\":{\"outlinewidth\":0,\"ticks\":\"\"}}],\"contour\":[{\"type\":\"contour\",\"colorbar\":{\"outlinewidth\":0,\"ticks\":\"\"},\"colorscale\":[[0.0,\"#0d0887\"],[0.1111111111111111,\"#46039f\"],[0.2222222222222222,\"#7201a8\"],[0.3333333333333333,\"#9c179e\"],[0.4444444444444444,\"#bd3786\"],[0.5555555555555556,\"#d8576b\"],[0.6666666666666666,\"#ed7953\"],[0.7777777777777778,\"#fb9f3a\"],[0.8888888888888888,\"#fdca26\"],[1.0,\"#f0f921\"]]}],\"surface\":[{\"type\":\"surface\",\"colorbar\":{\"outlinewidth\":0,\"ticks\":\"\"},\"colorscale\":[[0.0,\"#0d0887\"],[0.1111111111111111,\"#46039f\"],[0.2222222222222222,\"#7201a8\"],[0.3333333333333333,\"#9c179e\"],[0.4444444444444444,\"#bd3786\"],[0.5555555555555556,\"#d8576b\"],[0.6666666666666666,\"#ed7953\"],[0.7777777777777778,\"#fb9f3a\"],[0.8888888888888888,\"#fdca26\"],[1.0,\"#f0f921\"]]}],\"mesh3d\":[{\"type\":\"mesh3d\",\"colorbar\":{\"outlinewidth\":0,\"ticks\":\"\"}}],\"scatter\":[{\"fillpattern\":{\"fillmode\":\"overlay\",\"size\":10,\"solidity\":0.2},\"type\":\"scatter\"}],\"parcoords\":[{\"type\":\"parcoords\",\"line\":{\"colorbar\":{\"outlinewidth\":0,\"ticks\":\"\"}}}],\"scatterpolargl\":[{\"type\":\"scatterpolargl\",\"marker\":{\"colorbar\":{\"outlinewidth\":0,\"ticks\":\"\"}}}],\"bar\":[{\"error_x\":{\"color\":\"#2a3f5f\"},\"error_y\":{\"color\":\"#2a3f5f\"},\"marker\":{\"line\":{\"color\":\"#E5ECF6\",\"width\":0.5},\"pattern\":{\"fillmode\":\"overlay\",\"size\":10,\"solidity\":0.2}},\"type\":\"bar\"}],\"scattergeo\":[{\"type\":\"scattergeo\",\"marker\":{\"colorbar\":{\"outlinewidth\":0,\"ticks\":\"\"}}}],\"scatterpolar\":[{\"type\":\"scatterpolar\",\"marker\":{\"colorbar\":{\"outlinewidth\":0,\"ticks\":\"\"}}}],\"histogram\":[{\"marker\":{\"pattern\":{\"fillmode\":\"overlay\",\"size\":10,\"solidity\":0.2}},\"type\":\"histogram\"}],\"scattergl\":[{\"type\":\"scattergl\",\"marker\":{\"colorbar\":{\"outlinewidth\":0,\"ticks\":\"\"}}}],\"scatter3d\":[{\"type\":\"scatter3d\",\"line\":{\"colorbar\":{\"outlinewidth\":0,\"ticks\":\"\"}},\"marker\":{\"colorbar\":{\"outlinewidth\":0,\"ticks\":\"\"}}}],\"scattermapbox\":[{\"type\":\"scattermapbox\",\"marker\":{\"colorbar\":{\"outlinewidth\":0,\"ticks\":\"\"}}}],\"scatterternary\":[{\"type\":\"scatterternary\",\"marker\":{\"colorbar\":{\"outlinewidth\":0,\"ticks\":\"\"}}}],\"scattercarpet\":[{\"type\":\"scattercarpet\",\"marker\":{\"colorbar\":{\"outlinewidth\":0,\"ticks\":\"\"}}}],\"carpet\":[{\"aaxis\":{\"endlinecolor\":\"#2a3f5f\",\"gridcolor\":\"white\",\"linecolor\":\"white\",\"minorgridcolor\":\"white\",\"startlinecolor\":\"#2a3f5f\"},\"baxis\":{\"endlinecolor\":\"#2a3f5f\",\"gridcolor\":\"white\",\"linecolor\":\"white\",\"minorgridcolor\":\"white\",\"startlinecolor\":\"#2a3f5f\"},\"type\":\"carpet\"}],\"table\":[{\"cells\":{\"fill\":{\"color\":\"#EBF0F8\"},\"line\":{\"color\":\"white\"}},\"header\":{\"fill\":{\"color\":\"#C8D4E3\"},\"line\":{\"color\":\"white\"}},\"type\":\"table\"}],\"barpolar\":[{\"marker\":{\"line\":{\"color\":\"#E5ECF6\",\"width\":0.5},\"pattern\":{\"fillmode\":\"overlay\",\"size\":10,\"solidity\":0.2}},\"type\":\"barpolar\"}],\"pie\":[{\"automargin\":true,\"type\":\"pie\"}]},\"layout\":{\"autotypenumbers\":\"strict\",\"colorway\":[\"#636efa\",\"#EF553B\",\"#00cc96\",\"#ab63fa\",\"#FFA15A\",\"#19d3f3\",\"#FF6692\",\"#B6E880\",\"#FF97FF\",\"#FECB52\"],\"font\":{\"color\":\"#2a3f5f\"},\"hovermode\":\"closest\",\"hoverlabel\":{\"align\":\"left\"},\"paper_bgcolor\":\"white\",\"plot_bgcolor\":\"#E5ECF6\",\"polar\":{\"bgcolor\":\"#E5ECF6\",\"angularaxis\":{\"gridcolor\":\"white\",\"linecolor\":\"white\",\"ticks\":\"\"},\"radialaxis\":{\"gridcolor\":\"white\",\"linecolor\":\"white\",\"ticks\":\"\"}},\"ternary\":{\"bgcolor\":\"#E5ECF6\",\"aaxis\":{\"gridcolor\":\"white\",\"linecolor\":\"white\",\"ticks\":\"\"},\"baxis\":{\"gridcolor\":\"white\",\"linecolor\":\"white\",\"ticks\":\"\"},\"caxis\":{\"gridcolor\":\"white\",\"linecolor\":\"white\",\"ticks\":\"\"}},\"coloraxis\":{\"colorbar\":{\"outlinewidth\":0,\"ticks\":\"\"}},\"colorscale\":{\"sequential\":[[0.0,\"#0d0887\"],[0.1111111111111111,\"#46039f\"],[0.2222222222222222,\"#7201a8\"],[0.3333333333333333,\"#9c179e\"],[0.4444444444444444,\"#bd3786\"],[0.5555555555555556,\"#d8576b\"],[0.6666666666666666,\"#ed7953\"],[0.7777777777777778,\"#fb9f3a\"],[0.8888888888888888,\"#fdca26\"],[1.0,\"#f0f921\"]],\"sequentialminus\":[[0.0,\"#0d0887\"],[0.1111111111111111,\"#46039f\"],[0.2222222222222222,\"#7201a8\"],[0.3333333333333333,\"#9c179e\"],[0.4444444444444444,\"#bd3786\"],[0.5555555555555556,\"#d8576b\"],[0.6666666666666666,\"#ed7953\"],[0.7777777777777778,\"#fb9f3a\"],[0.8888888888888888,\"#fdca26\"],[1.0,\"#f0f921\"]],\"diverging\":[[0,\"#8e0152\"],[0.1,\"#c51b7d\"],[0.2,\"#de77ae\"],[0.3,\"#f1b6da\"],[0.4,\"#fde0ef\"],[0.5,\"#f7f7f7\"],[0.6,\"#e6f5d0\"],[0.7,\"#b8e186\"],[0.8,\"#7fbc41\"],[0.9,\"#4d9221\"],[1,\"#276419\"]]},\"xaxis\":{\"gridcolor\":\"white\",\"linecolor\":\"white\",\"ticks\":\"\",\"title\":{\"standoff\":15},\"zerolinecolor\":\"white\",\"automargin\":true,\"zerolinewidth\":2},\"yaxis\":{\"gridcolor\":\"white\",\"linecolor\":\"white\",\"ticks\":\"\",\"title\":{\"standoff\":15},\"zerolinecolor\":\"white\",\"automargin\":true,\"zerolinewidth\":2},\"scene\":{\"xaxis\":{\"backgroundcolor\":\"#E5ECF6\",\"gridcolor\":\"white\",\"linecolor\":\"white\",\"showbackground\":true,\"ticks\":\"\",\"zerolinecolor\":\"white\",\"gridwidth\":2},\"yaxis\":{\"backgroundcolor\":\"#E5ECF6\",\"gridcolor\":\"white\",\"linecolor\":\"white\",\"showbackground\":true,\"ticks\":\"\",\"zerolinecolor\":\"white\",\"gridwidth\":2},\"zaxis\":{\"backgroundcolor\":\"#E5ECF6\",\"gridcolor\":\"white\",\"linecolor\":\"white\",\"showbackground\":true,\"ticks\":\"\",\"zerolinecolor\":\"white\",\"gridwidth\":2}},\"shapedefaults\":{\"line\":{\"color\":\"#2a3f5f\"}},\"annotationdefaults\":{\"arrowcolor\":\"#2a3f5f\",\"arrowhead\":0,\"arrowwidth\":1},\"geo\":{\"bgcolor\":\"white\",\"landcolor\":\"#E5ECF6\",\"subunitcolor\":\"white\",\"showland\":true,\"showlakes\":true,\"lakecolor\":\"white\"},\"title\":{\"x\":0.05},\"mapbox\":{\"style\":\"light\"}}},\"xaxis\":{\"anchor\":\"y\",\"domain\":[0.0,1.0],\"title\":{\"text\":\"Year\"}},\"yaxis\":{\"anchor\":\"x\",\"domain\":[0.0,1.0],\"title\":{\"text\":\"Valence (%)\"}},\"legend\":{\"tracegroupgap\":0},\"title\":{\"text\":\"Valence Distribution by Year\",\"x\":0.5},\"boxmode\":\"group\",\"font\":{\"color\":\"white\",\"size\":16},\"plot_bgcolor\":\"black\",\"paper_bgcolor\":\"black\"},                        {\"responsive\": true}                    ).then(function(){\n",
              "                            \n",
              "var gd = document.getElementById('2f53e695-df0b-4672-86c2-b7f5819748ca');\n",
              "var x = new MutationObserver(function (mutations, observer) {{\n",
              "        var display = window.getComputedStyle(gd).display;\n",
              "        if (!display || display === 'none') {{\n",
              "            console.log([gd, 'removed!']);\n",
              "            Plotly.purge(gd);\n",
              "            observer.disconnect();\n",
              "        }}\n",
              "}});\n",
              "\n",
              "// Listen for the removal of the full notebook cells\n",
              "var notebookContainer = gd.closest('#notebook-container');\n",
              "if (notebookContainer) {{\n",
              "    x.observe(notebookContainer, {childList: true});\n",
              "}}\n",
              "\n",
              "// Listen for the clearing of the current output cell\n",
              "var outputEl = gd.closest('.output');\n",
              "if (outputEl) {{\n",
              "    x.observe(outputEl, {childList: true});\n",
              "}}\n",
              "\n",
              "                        })                };                            </script>        </div>\n",
              "</body>\n",
              "</html>"
            ]
          },
          "metadata": {}
        }
      ]
    },
    {
      "cell_type": "markdown",
      "source": [
        "### Thanks for Visiting!"
      ],
      "metadata": {
        "id": "wzdM5ZP54h7U"
      }
    }
  ]
}